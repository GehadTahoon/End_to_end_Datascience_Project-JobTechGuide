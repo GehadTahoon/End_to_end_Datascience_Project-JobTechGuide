{
 "cells": [
  {
   "cell_type": "code",
   "execution_count": 2,
   "id": "01335386",
   "metadata": {},
   "outputs": [],
   "source": [
    "# constants\n",
    "API_URL = 'http://127.0.0.1:5000/'\n",
    "PREDICTION_ENDPOINT = 'predict_jobs_probs'\n",
    "SIMULATION_ENDPOINT = 'recommend_new_skills'"
   ]
  },
  {
   "cell_type": "code",
   "execution_count": 3,
   "id": "02005115",
   "metadata": {},
   "outputs": [],
   "source": [
    "import pandas as pd\n",
    "import requests\n",
    "import json"
   ]
  },
  {
   "cell_type": "markdown",
   "id": "f7bb14af",
   "metadata": {},
   "source": [
    "### _Predict_"
   ]
  },
  {
   "cell_type": "code",
   "execution_count": 4,
   "id": "9b2b9d33",
   "metadata": {},
   "outputs": [],
   "source": [
    "available_skills = ['R', 'SQL', 'RStudio']"
   ]
  },
  {
   "cell_type": "code",
   "execution_count": 5,
   "id": "809007e0",
   "metadata": {},
   "outputs": [],
   "source": [
    "predictions = requests.post(API_URL + PREDICTION_ENDPOINT,\n",
    "                            data=json.dumps(available_skills),\n",
    "                            headers={'content-type':'application/json'})"
   ]
  },
  {
   "cell_type": "code",
   "execution_count": 6,
   "id": "0de43147",
   "metadata": {},
   "outputs": [
    {
     "data": {
      "text/plain": [
       "Data or business analyst                         0.600000\n",
       "Data scientist or machine learning specialist    0.406167\n",
       "Academic researcher                              0.294000\n",
       "Scientist                                        0.225500\n",
       "Developer, desktop or enterprise applications    0.050000\n",
       "Database administrator                           0.040000\n",
       "Developer, full-stack                            0.040000\n",
       "Developer, back-end                              0.030000\n",
       "Developer, front-end                             0.020000\n",
       "Developer, embedded applications or devices      0.010000\n",
       "Developer, mobile                                0.010000\n",
       "DevOps specialist                                0.000000\n",
       "Developer, QA or test                            0.000000\n",
       "Developer, game or graphics                      0.000000\n",
       "Engineer, data                                   0.000000\n",
       "System administrator                             0.000000\n",
       "dtype: float64"
      ]
     },
     "execution_count": 6,
     "metadata": {},
     "output_type": "execute_result"
    }
   ],
   "source": [
    "pd.Series(predictions.json()).sort_values(ascending=False)"
   ]
  },
  {
   "cell_type": "markdown",
   "id": "c516cfb1",
   "metadata": {},
   "source": [
    "### _Simulate_"
   ]
  },
  {
   "cell_type": "code",
   "execution_count": 20,
   "id": "55633021",
   "metadata": {},
   "outputs": [],
   "source": [
    "target_job = 'Data scientist or machine learning specialist'"
   ]
  },
  {
   "cell_type": "code",
   "execution_count": 21,
   "id": "3c7e4a17",
   "metadata": {},
   "outputs": [],
   "source": [
    "simulations = requests.post(API_URL + SIMULATION_ENDPOINT,\n",
    "                            data=json.dumps({\n",
    "                                'available_skills': available_skills,\n",
    "                                'target_job': target_job\n",
    "                            }),\n",
    "                            headers={'content-type':'application/json'})"
   ]
  },
  {
   "cell_type": "code",
   "execution_count": 22,
   "id": "199d35f5",
   "metadata": {},
   "outputs": [
    {
     "data": {
      "text/plain": [
       "Microsoft SQL Server     0.723430\n",
       "Keras                    0.471071\n",
       "Oracle                   0.464916\n",
       "Atom                     0.317193\n",
       "Rider                    0.308986\n",
       "Groovy                   0.231022\n",
       "Notepad++                0.229263\n",
       ".NET Core / .NET 5       0.227505\n",
       "C#                       0.206988\n",
       "Google Cloud Platform    0.206401\n",
       "TensorFlow               0.200246\n",
       "Pandas                   0.165367\n",
       "Sublime Text             0.164547\n",
       "ASP.NET Core             0.144850\n",
       "Xamarin                  0.141568\n",
       "Torch/PyTorch            0.134592\n",
       "Go                       0.132540\n",
       "VBA                      0.120230\n",
       "Vue.js                   0.116126\n",
       "Eclipse                  0.107920\n",
       "Qt                       0.107920\n",
       "ASP.NET                  0.107920\n",
       "Symfony                  0.107920\n",
       "APL                      0.102175\n",
       "dtype: float64"
      ]
     },
     "execution_count": 22,
     "metadata": {},
     "output_type": "execute_result"
    }
   ],
   "source": [
    "pd.Series(simulations.json()).sort_values(ascending=False)"
   ]
  },
  {
   "cell_type": "code",
   "execution_count": null,
   "id": "39215adb",
   "metadata": {},
   "outputs": [],
   "source": []
  }
 ],
 "metadata": {
  "kernelspec": {
   "display_name": "Python 3 (ipykernel)",
   "language": "python",
   "name": "python3"
  },
  "language_info": {
   "codemirror_mode": {
    "name": "ipython",
    "version": 3
   },
   "file_extension": ".py",
   "mimetype": "text/x-python",
   "name": "python",
   "nbconvert_exporter": "python",
   "pygments_lexer": "ipython3",
   "version": "3.11.3"
  }
 },
 "nbformat": 4,
 "nbformat_minor": 5
}
