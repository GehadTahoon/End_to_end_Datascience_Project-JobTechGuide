{
 "cells": [
  {
   "cell_type": "code",
   "execution_count": 1,
   "id": "2c633c21",
   "metadata": {},
   "outputs": [],
   "source": [
    "# constants\n",
    "DATA_PATH='../data/raw/survey_results_public.csv'\n",
    "EXPORT_PATH = \"../data/processed/1_preprocessed_data.pkl\"\n",
    "\n",
    "REPLACE_COLS=['YearsCode','YearsCodePro']\n",
    "REPLACE_DICT={\n",
    "    'Less than 1 year' : 0,\n",
    "    'More than 50 years' : 51 \n",
    "}"
   ]
  },
  {
   "cell_type": "code",
   "execution_count": 2,
   "id": "67cd3be1",
   "metadata": {},
   "outputs": [],
   "source": [
    "# packages\n",
    "import pandas as pd \n",
    "import numpy as np\n",
    "import logging\n",
    "import pickle"
   ]
  },
  {
   "cell_type": "markdown",
   "id": "c41469ee",
   "metadata": {},
   "source": [
    "# Functions"
   ]
  },
  {
   "cell_type": "code",
   "execution_count": 3,
   "id": "81106be7",
   "metadata": {},
   "outputs": [],
   "source": [
    "def Replace_nulls(pd_series,replacement=[]):\n",
    "    '''\n",
    "        Aim:\n",
    "        Replace null values with a specific replacement\n",
    "        \n",
    "        Parmeters:\n",
    "        * pd_series (pd.Series): String series with answers\n",
    "        * replacement (list) : list to replace null value\n",
    "        \n",
    "        Return: (pd.Series): series after replacing \n",
    "    '''\n",
    "    nulls=pd_series.isnull()\n",
    "    pd_series.loc[nulls]=pd_series.loc[nulls].apply(lambda x: replacement)\n",
    "    return pd_series"
   ]
  },
  {
   "cell_type": "code",
   "execution_count": 4,
   "id": "afac260b",
   "metadata": {},
   "outputs": [],
   "source": [
    "def split_multianswers(answers,delimit=';'):\n",
    "    '''\n",
    "        Aim:\n",
    "        Split multiple answers in a single string \n",
    "        to a list of strings each represnting a single answer\n",
    "        \n",
    "        Parameters:\n",
    "        * answers (pd.Series): String series with answers \n",
    "        * delimit (string): endpoint for each single answer Defaults to \";\"\n",
    "        \n",
    "        Return: (pd.Series): If column contains multiple answers\n",
    "    \n",
    "    '''\n",
    "     # Sub functions \n",
    "    def is_splittable(answer,delimit):\n",
    "        \"\"\" Check if answer should be splitted - Returns boolean \"\"\"    \n",
    "        return answer.str.contains(delimit)\n",
    "    \n",
    "    def split_answer(answer,delimit):\n",
    "        \"\"\"Function to split single answer - Returns list of strings\"\"\"\n",
    "        return answer.str.split(delimit)\n",
    "    \n",
    "    #__________________________________________________________#\n",
    "    \n",
    "    # Check if multiple answers exist - if none: return original \n",
    "    splittable_answers=is_splittable(answers,delimit)\n",
    "    if not splittable_answers.any():\n",
    "        return answers\n",
    "    \n",
    "    # Split each multiple answer to list of single answers\n",
    "    splitted_answers=split_answer(answers,delimit)\n",
    "    \n",
    "    # Replace NAs with empty lists \n",
    "    modified_values=Replace_nulls(splitted_answers)\n",
    "    \n",
    "    return modified_values\n",
    "    "
   ]
  },
  {
   "cell_type": "markdown",
   "id": "a566e676",
   "metadata": {},
   "source": [
    "##### ________________________________________________________________________________________________________________________"
   ]
  },
  {
   "cell_type": "markdown",
   "id": "469444c1",
   "metadata": {},
   "source": [
    "# Preprocessing"
   ]
  },
  {
   "cell_type": "code",
   "execution_count": 5,
   "id": "6438bf59",
   "metadata": {},
   "outputs": [],
   "source": [
    "# Read data\n",
    "raw_data=pd.read_csv(DATA_PATH)\n",
    "data=raw_data.copy()"
   ]
  },
  {
   "cell_type": "markdown",
   "id": "164db497",
   "metadata": {},
   "source": [
    "## Replace values"
   ]
  },
  {
   "cell_type": "code",
   "execution_count": 6,
   "id": "9fda181a",
   "metadata": {},
   "outputs": [],
   "source": [
    "for col in REPLACE_COLS:\n",
    "    data[col]=data[col].replace(REPLACE_DICT).astype(np.float32)\n",
    "    \n",
    "# we applied parsing by changing type to float32"
   ]
  },
  {
   "cell_type": "markdown",
   "id": "f9b10c9a",
   "metadata": {},
   "source": [
    "## Split multiple values"
   ]
  },
  {
   "cell_type": "code",
   "execution_count": 7,
   "id": "12d52298",
   "metadata": {},
   "outputs": [],
   "source": [
    "object_cols = data.select_dtypes(include='object').columns.tolist()\n",
    "for col in object_cols:\n",
    "    \n",
    "    data[col]=split_multianswers(data[col])"
   ]
  },
  {
   "cell_type": "markdown",
   "id": "8b030c5d",
   "metadata": {},
   "source": [
    "##### ________________________________________________________________________________________________________________________"
   ]
  },
  {
   "cell_type": "markdown",
   "id": "5a691108",
   "metadata": {},
   "source": [
    "# Visually verify results"
   ]
  },
  {
   "cell_type": "code",
   "execution_count": 8,
   "id": "f2b70c49",
   "metadata": {},
   "outputs": [
    {
     "name": "stdout",
     "output_type": "stream",
     "text": [
      "Dart;Go;Kotlin;Node.js\n",
      "['Dart', 'Go', 'Kotlin', 'Node.js']\n"
     ]
    }
   ],
   "source": [
    "idx=data.sample(1).index[0]\n",
    "\n",
    "print(raw_data['LanguageWantToWorkWith'].iloc[idx])\n",
    "print(data['LanguageWantToWorkWith'].iloc[idx])"
   ]
  },
  {
   "cell_type": "code",
   "execution_count": 9,
   "id": "f4d7caf1",
   "metadata": {},
   "outputs": [
    {
     "name": "stdout",
     "output_type": "stream",
     "text": [
      "Developer, full-stack;Developer, back-end\n",
      "['Developer, full-stack', 'Developer, back-end']\n"
     ]
    }
   ],
   "source": [
    "idx=data.sample(1).index[0]\n",
    "\n",
    "print(raw_data['DevType'].iloc[idx])\n",
    "print(data['DevType'].iloc[idx])"
   ]
  },
  {
   "cell_type": "code",
   "execution_count": 12,
   "id": "436e1f66",
   "metadata": {},
   "outputs": [
    {
     "name": "stdout",
     "output_type": "stream",
     "text": [
      "Less than 1 year\n",
      "0.0\n"
     ]
    }
   ],
   "source": [
    "idx=data.sample(1).index[0]\n",
    "\n",
    "print(raw_data['YearsCode'].iloc[idx])\n",
    "print(data['YearsCode'].iloc[idx])"
   ]
  },
  {
   "cell_type": "code",
   "execution_count": 13,
   "id": "8d2f7bce",
   "metadata": {},
   "outputs": [
    {
     "name": "stdout",
     "output_type": "stream",
     "text": [
      "40       Less than 1 year\n",
      "310      Less than 1 year\n",
      "445      Less than 1 year\n",
      "531      Less than 1 year\n",
      "623      Less than 1 year\n",
      "               ...       \n",
      "83142    Less than 1 year\n",
      "83172    Less than 1 year\n",
      "83236    Less than 1 year\n",
      "83237    Less than 1 year\n",
      "83351    Less than 1 year\n",
      "Name: YearsCode, Length: 1489, dtype: object\n",
      "____________________________________________________________________________________________________\n",
      "40       0.0\n",
      "310      0.0\n",
      "445      0.0\n",
      "531      0.0\n",
      "623      0.0\n",
      "        ... \n",
      "83142    0.0\n",
      "83172    0.0\n",
      "83236    0.0\n",
      "83237    0.0\n",
      "83351    0.0\n",
      "Name: YearsCode, Length: 1489, dtype: float32\n"
     ]
    }
   ],
   "source": [
    "print(raw_data['YearsCode'].loc[raw_data['YearsCode']=='Less than 1 year'])\n",
    "print('_'*100) \n",
    "print(data['YearsCode'].loc[raw_data['YearsCode']=='Less than 1 year'])\n"
   ]
  },
  {
   "cell_type": "markdown",
   "id": "42c4a6b2",
   "metadata": {},
   "source": [
    "##### ________________________________________________________________________________________________________________________"
   ]
  },
  {
   "cell_type": "markdown",
   "id": "74c23f25",
   "metadata": {},
   "source": [
    "# Export data"
   ]
  },
  {
   "cell_type": "code",
   "execution_count": 14,
   "id": "1d491f2b",
   "metadata": {},
   "outputs": [],
   "source": [
    "data.to_pickle(EXPORT_PATH)"
   ]
  },
  {
   "cell_type": "code",
   "execution_count": 15,
   "id": "8d42ddf5",
   "metadata": {},
   "outputs": [
    {
     "data": {
      "text/html": [
       "<div>\n",
       "<style scoped>\n",
       "    .dataframe tbody tr th:only-of-type {\n",
       "        vertical-align: middle;\n",
       "    }\n",
       "\n",
       "    .dataframe tbody tr th {\n",
       "        vertical-align: top;\n",
       "    }\n",
       "\n",
       "    .dataframe thead th {\n",
       "        text-align: right;\n",
       "    }\n",
       "</style>\n",
       "<table border=\"1\" class=\"dataframe\">\n",
       "  <thead>\n",
       "    <tr style=\"text-align: right;\">\n",
       "      <th></th>\n",
       "      <th>ResponseId</th>\n",
       "      <th>MainBranch</th>\n",
       "      <th>Employment</th>\n",
       "      <th>Country</th>\n",
       "      <th>US_State</th>\n",
       "      <th>UK_Country</th>\n",
       "      <th>EdLevel</th>\n",
       "      <th>Age1stCode</th>\n",
       "      <th>LearnCode</th>\n",
       "      <th>YearsCode</th>\n",
       "      <th>...</th>\n",
       "      <th>Age</th>\n",
       "      <th>Gender</th>\n",
       "      <th>Trans</th>\n",
       "      <th>Sexuality</th>\n",
       "      <th>Ethnicity</th>\n",
       "      <th>Accessibility</th>\n",
       "      <th>MentalHealth</th>\n",
       "      <th>SurveyLength</th>\n",
       "      <th>SurveyEase</th>\n",
       "      <th>ConvertedCompYearly</th>\n",
       "    </tr>\n",
       "  </thead>\n",
       "  <tbody>\n",
       "    <tr>\n",
       "      <th>0</th>\n",
       "      <td>1</td>\n",
       "      <td>I am a developer by profession</td>\n",
       "      <td>Independent contractor, freelancer, or self-em...</td>\n",
       "      <td>Slovakia</td>\n",
       "      <td>NaN</td>\n",
       "      <td>NaN</td>\n",
       "      <td>Secondary school (e.g. American high school, G...</td>\n",
       "      <td>18 - 24 years</td>\n",
       "      <td>[Coding Bootcamp, Other online resources (ex: ...</td>\n",
       "      <td>NaN</td>\n",
       "      <td>...</td>\n",
       "      <td>25-34 years old</td>\n",
       "      <td>[Man]</td>\n",
       "      <td>No</td>\n",
       "      <td>[Straight / Heterosexual]</td>\n",
       "      <td>[White or of European descent]</td>\n",
       "      <td>[None of the above]</td>\n",
       "      <td>[None of the above]</td>\n",
       "      <td>Appropriate in length</td>\n",
       "      <td>Easy</td>\n",
       "      <td>62268.0</td>\n",
       "    </tr>\n",
       "    <tr>\n",
       "      <th>1</th>\n",
       "      <td>2</td>\n",
       "      <td>I am a student who is learning to code</td>\n",
       "      <td>Student, full-time</td>\n",
       "      <td>Netherlands</td>\n",
       "      <td>NaN</td>\n",
       "      <td>NaN</td>\n",
       "      <td>Bachelor’s degree (B.A., B.S., B.Eng., etc.)</td>\n",
       "      <td>11 - 17 years</td>\n",
       "      <td>[Other online resources (ex: videos, blogs, et...</td>\n",
       "      <td>7.0</td>\n",
       "      <td>...</td>\n",
       "      <td>18-24 years old</td>\n",
       "      <td>[Man]</td>\n",
       "      <td>No</td>\n",
       "      <td>[Straight / Heterosexual]</td>\n",
       "      <td>[White or of European descent]</td>\n",
       "      <td>[None of the above]</td>\n",
       "      <td>[None of the above]</td>\n",
       "      <td>Appropriate in length</td>\n",
       "      <td>Easy</td>\n",
       "      <td>NaN</td>\n",
       "    </tr>\n",
       "    <tr>\n",
       "      <th>2</th>\n",
       "      <td>3</td>\n",
       "      <td>I am not primarily a developer, but I write co...</td>\n",
       "      <td>Student, full-time</td>\n",
       "      <td>Russian Federation</td>\n",
       "      <td>NaN</td>\n",
       "      <td>NaN</td>\n",
       "      <td>Bachelor’s degree (B.A., B.S., B.Eng., etc.)</td>\n",
       "      <td>11 - 17 years</td>\n",
       "      <td>[Other online resources (ex: videos, blogs, et...</td>\n",
       "      <td>NaN</td>\n",
       "      <td>...</td>\n",
       "      <td>18-24 years old</td>\n",
       "      <td>[Man]</td>\n",
       "      <td>No</td>\n",
       "      <td>[Prefer not to say]</td>\n",
       "      <td>[Prefer not to say]</td>\n",
       "      <td>[None of the above]</td>\n",
       "      <td>[None of the above]</td>\n",
       "      <td>Appropriate in length</td>\n",
       "      <td>Easy</td>\n",
       "      <td>NaN</td>\n",
       "    </tr>\n",
       "    <tr>\n",
       "      <th>3</th>\n",
       "      <td>4</td>\n",
       "      <td>I am a developer by profession</td>\n",
       "      <td>Employed full-time</td>\n",
       "      <td>Austria</td>\n",
       "      <td>NaN</td>\n",
       "      <td>NaN</td>\n",
       "      <td>Master’s degree (M.A., M.S., M.Eng., MBA, etc.)</td>\n",
       "      <td>11 - 17 years</td>\n",
       "      <td>[]</td>\n",
       "      <td>NaN</td>\n",
       "      <td>...</td>\n",
       "      <td>35-44 years old</td>\n",
       "      <td>[Man]</td>\n",
       "      <td>No</td>\n",
       "      <td>[Straight / Heterosexual]</td>\n",
       "      <td>[White or of European descent]</td>\n",
       "      <td>[I am deaf / hard of hearing]</td>\n",
       "      <td>[]</td>\n",
       "      <td>Appropriate in length</td>\n",
       "      <td>Neither easy nor difficult</td>\n",
       "      <td>NaN</td>\n",
       "    </tr>\n",
       "    <tr>\n",
       "      <th>4</th>\n",
       "      <td>5</td>\n",
       "      <td>I am a developer by profession</td>\n",
       "      <td>Independent contractor, freelancer, or self-em...</td>\n",
       "      <td>United Kingdom of Great Britain and Northern I...</td>\n",
       "      <td>NaN</td>\n",
       "      <td>England</td>\n",
       "      <td>Master’s degree (M.A., M.S., M.Eng., MBA, etc.)</td>\n",
       "      <td>5 - 10 years</td>\n",
       "      <td>[Friend or family member]</td>\n",
       "      <td>17.0</td>\n",
       "      <td>...</td>\n",
       "      <td>25-34 years old</td>\n",
       "      <td>[Man]</td>\n",
       "      <td>No</td>\n",
       "      <td>[]</td>\n",
       "      <td>[White or of European descent]</td>\n",
       "      <td>[None of the above]</td>\n",
       "      <td>[]</td>\n",
       "      <td>Appropriate in length</td>\n",
       "      <td>Easy</td>\n",
       "      <td>NaN</td>\n",
       "    </tr>\n",
       "  </tbody>\n",
       "</table>\n",
       "<p>5 rows × 48 columns</p>\n",
       "</div>"
      ],
      "text/plain": [
       "   ResponseId                                         MainBranch  \\\n",
       "0           1                     I am a developer by profession   \n",
       "1           2             I am a student who is learning to code   \n",
       "2           3  I am not primarily a developer, but I write co...   \n",
       "3           4                     I am a developer by profession   \n",
       "4           5                     I am a developer by profession   \n",
       "\n",
       "                                          Employment  \\\n",
       "0  Independent contractor, freelancer, or self-em...   \n",
       "1                                 Student, full-time   \n",
       "2                                 Student, full-time   \n",
       "3                                 Employed full-time   \n",
       "4  Independent contractor, freelancer, or self-em...   \n",
       "\n",
       "                                             Country US_State UK_Country  \\\n",
       "0                                           Slovakia      NaN        NaN   \n",
       "1                                        Netherlands      NaN        NaN   \n",
       "2                                 Russian Federation      NaN        NaN   \n",
       "3                                            Austria      NaN        NaN   \n",
       "4  United Kingdom of Great Britain and Northern I...      NaN    England   \n",
       "\n",
       "                                             EdLevel     Age1stCode  \\\n",
       "0  Secondary school (e.g. American high school, G...  18 - 24 years   \n",
       "1       Bachelor’s degree (B.A., B.S., B.Eng., etc.)  11 - 17 years   \n",
       "2       Bachelor’s degree (B.A., B.S., B.Eng., etc.)  11 - 17 years   \n",
       "3    Master’s degree (M.A., M.S., M.Eng., MBA, etc.)  11 - 17 years   \n",
       "4    Master’s degree (M.A., M.S., M.Eng., MBA, etc.)   5 - 10 years   \n",
       "\n",
       "                                           LearnCode  YearsCode  ...  \\\n",
       "0  [Coding Bootcamp, Other online resources (ex: ...        NaN  ...   \n",
       "1  [Other online resources (ex: videos, blogs, et...        7.0  ...   \n",
       "2  [Other online resources (ex: videos, blogs, et...        NaN  ...   \n",
       "3                                                 []        NaN  ...   \n",
       "4                          [Friend or family member]       17.0  ...   \n",
       "\n",
       "               Age Gender Trans                  Sexuality  \\\n",
       "0  25-34 years old  [Man]    No  [Straight / Heterosexual]   \n",
       "1  18-24 years old  [Man]    No  [Straight / Heterosexual]   \n",
       "2  18-24 years old  [Man]    No        [Prefer not to say]   \n",
       "3  35-44 years old  [Man]    No  [Straight / Heterosexual]   \n",
       "4  25-34 years old  [Man]    No                         []   \n",
       "\n",
       "                        Ethnicity                  Accessibility  \\\n",
       "0  [White or of European descent]            [None of the above]   \n",
       "1  [White or of European descent]            [None of the above]   \n",
       "2             [Prefer not to say]            [None of the above]   \n",
       "3  [White or of European descent]  [I am deaf / hard of hearing]   \n",
       "4  [White or of European descent]            [None of the above]   \n",
       "\n",
       "          MentalHealth           SurveyLength                  SurveyEase  \\\n",
       "0  [None of the above]  Appropriate in length                        Easy   \n",
       "1  [None of the above]  Appropriate in length                        Easy   \n",
       "2  [None of the above]  Appropriate in length                        Easy   \n",
       "3                   []  Appropriate in length  Neither easy nor difficult   \n",
       "4                   []  Appropriate in length                        Easy   \n",
       "\n",
       "  ConvertedCompYearly  \n",
       "0             62268.0  \n",
       "1                 NaN  \n",
       "2                 NaN  \n",
       "3                 NaN  \n",
       "4                 NaN  \n",
       "\n",
       "[5 rows x 48 columns]"
      ]
     },
     "execution_count": 15,
     "metadata": {},
     "output_type": "execute_result"
    }
   ],
   "source": [
    "pk=pd.read_pickle(EXPORT_PATH)\n",
    "pk.head()"
   ]
  },
  {
   "cell_type": "code",
   "execution_count": null,
   "id": "a892d903",
   "metadata": {},
   "outputs": [],
   "source": []
  }
 ],
 "metadata": {
  "kernelspec": {
   "display_name": "Python 3 (ipykernel)",
   "language": "python",
   "name": "python3"
  },
  "language_info": {
   "codemirror_mode": {
    "name": "ipython",
    "version": 3
   },
   "file_extension": ".py",
   "mimetype": "text/x-python",
   "name": "python",
   "nbconvert_exporter": "python",
   "pygments_lexer": "ipython3",
   "version": "3.11.3"
  }
 },
 "nbformat": 4,
 "nbformat_minor": 5
}
