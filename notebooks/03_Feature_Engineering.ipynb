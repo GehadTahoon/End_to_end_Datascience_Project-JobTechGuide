{
 "cells": [
  {
   "cell_type": "code",
   "execution_count": 11,
   "id": "8cec9a6f",
   "metadata": {},
   "outputs": [],
   "source": [
    "#constants \n",
    "DATA_PATH = '../data/processed/1_preprocessed_data.pkl'\n",
    "\n",
    "\n",
    "ROLE_COLS = ['DevType']\n",
    "TECH_COLS = [\n",
    "    'LanguageHaveWorkedWith',\n",
    "    'DatabaseHaveWorkedWith',\n",
    "    'PlatformHaveWorkedWith',\n",
    "    'WebframeHaveWorkedWith',\n",
    "    'MiscTechHaveWorkedWith',\n",
    "    'ToolsTechHaveWorkedWith',\n",
    "    'NEWCollabToolsHaveWorkedWith'\n",
    "]\n",
    "EXPORT_FEATURES_DIR = '../data/processed/'"
   ]
  },
  {
   "cell_type": "code",
   "execution_count": 12,
   "id": "31164bcf",
   "metadata": {},
   "outputs": [],
   "source": [
    "# import packages\n",
    "import pandas as pd \n",
    "import numpy as np\n",
    "import logging\n",
    "import pickle\n",
    "import os\n",
    "import yaml\n",
    "\n",
    "import plotly \n",
    "import plotly.graph_objects as go\n",
    "import plotly.express as px\n",
    "\n",
    "import matplotlib.cm as cm\n",
    "import matplotlib.pyplot as plt\n",
    "\n",
    "from sklearn.preprocessing import StandardScaler\n",
    "from sklearn.preprocessing import MultiLabelBinarizer\n",
    "from sklearn.manifold import TSNE\n",
    "\n",
    "from sklearn.pipeline import make_pipeline\n",
    "from sklearn.cluster import AgglomerativeClustering\n",
    "from sklearn.model_selection import train_test_split\n",
    "\n",
    "from sklearn.multioutput import MultiOutputClassifier\n",
    "from sklearn.linear_model import LogisticRegression\n",
    "\n",
    "from sklearn.metrics import f1_score\n",
    "from sklearn.metrics import classification_report\n",
    "from sklearn.metrics import multilabel_confusion_matrix\n",
    "from sklearn.metrics import silhouette_score\n",
    "\n",
    "pd.options.display.max_rows = 1000"
   ]
  },
  {
   "cell_type": "markdown",
   "id": "7734117c",
   "metadata": {},
   "source": [
    "### _Read and preprocess data_"
   ]
  },
  {
   "cell_type": "code",
   "execution_count": 13,
   "id": "90d802f6",
   "metadata": {},
   "outputs": [],
   "source": [
    "# Read data\n",
    "data = pd.read_pickle(DATA_PATH)"
   ]
  },
  {
   "cell_type": "code",
   "execution_count": 14,
   "id": "250456ee",
   "metadata": {},
   "outputs": [],
   "source": [
    "# One Hot encode\n",
    "encoded_data ={}\n",
    "for col in ROLE_COLS + TECH_COLS:\n",
    "    binarizer = MultiLabelBinarizer()   \n",
    "    encoded_df = pd.DataFrame(binarizer.fit_transform(data[col]),\n",
    "                              columns=binarizer.classes_,\n",
    "                              index=data[col].index\n",
    "                             )   \n",
    "    encoded_data[col] = encoded_df\n",
    "\n",
    "# Merge 1-hot encoded \n",
    "ohe_data = pd.concat(encoded_data, axis=1)\n"
   ]
  },
  {
   "cell_type": "markdown",
   "id": "aaf71853",
   "metadata": {},
   "source": [
    "## _Dimensionality reduction_"
   ]
  },
  {
   "cell_type": "code",
   "execution_count": 15,
   "id": "65b4fcca",
   "metadata": {},
   "outputs": [],
   "source": [
    "# Prepare sub data frames \n",
    "skills_ohe = ohe_data.drop('DevType', axis=1).copy()\n",
    "std_skills = StandardScaler().fit_transform(skills_ohe)"
   ]
  },
  {
   "cell_type": "code",
   "execution_count": 16,
   "id": "29abff30",
   "metadata": {},
   "outputs": [
    {
     "data": {
      "text/plain": [
       "(83439, 125)"
      ]
     },
     "execution_count": 16,
     "metadata": {},
     "output_type": "execute_result"
    }
   ],
   "source": [
    "skills_ohe.shape "
   ]
  },
  {
   "cell_type": "code",
   "execution_count": 17,
   "id": "ecd96fd5",
   "metadata": {},
   "outputs": [
    {
     "name": "stderr",
     "output_type": "stream",
     "text": [
      "C:\\Users\\DELL\\anaconda3\\Lib\\site-packages\\sklearn\\manifold\\_t_sne.py:1162: FutureWarning:\n",
      "\n",
      "'n_iter' was renamed to 'max_iter' in version 1.5 and will be removed in 1.7.\n",
      "\n"
     ]
    }
   ],
   "source": [
    "tsne_projection = TSNE(n_components=2, \n",
    "                       perplexity=3,\n",
    "                       learning_rate=0.01,\n",
    "                       init='pca', \n",
    "                       method='barnes_hut', \n",
    "                       n_jobs=2, \n",
    "                       n_iter=10**10,\n",
    "                       random_state=0).fit_transform(std_skills.T)\n",
    "\n",
    "tsne_projection = pd.DataFrame(tsne_projection, index=skills_ohe.columns)"
   ]
  },
  {
   "cell_type": "code",
   "execution_count": 18,
   "id": "d26e59a4",
   "metadata": {},
   "outputs": [
    {
     "data": {
      "text/plain": [
       "(125, 2)"
      ]
     },
     "execution_count": 18,
     "metadata": {},
     "output_type": "execute_result"
    }
   ],
   "source": [
    "tsne_projection.shape\n"
   ]
  },
  {
   "cell_type": "code",
   "execution_count": 19,
   "id": "3070ffc5",
   "metadata": {},
   "outputs": [
    {
     "data": {
      "application/vnd.plotly.v1+json": {
       "config": {
        "plotlyServerURL": "https://plot.ly"
       },
       "data": [
        {
         "hovertemplate": "x=%{x}<br>y=%{y}<br>text=%{text}<extra></extra>",
         "legendgroup": "",
         "marker": {
          "color": "#636efa",
          "symbol": "circle"
         },
         "mode": "markers+text",
         "name": "",
         "orientation": "v",
         "showlegend": false,
         "text": [
          "APL",
          "Assembly",
          "Bash/Shell",
          "C",
          "C#",
          "C++",
          "COBOL",
          "Clojure",
          "Crystal",
          "Dart",
          "Delphi",
          "Elixir",
          "Erlang",
          "F#",
          "Go",
          "Groovy",
          "HTML/CSS",
          "Haskell",
          "Java",
          "JavaScript",
          "Julia",
          "Kotlin",
          "LISP",
          "Matlab",
          "Node.js",
          "Objective-C",
          "PHP",
          "Perl",
          "PowerShell",
          "Python",
          "R",
          "Ruby",
          "Rust",
          "SQL",
          "Scala",
          "Swift",
          "TypeScript",
          "VBA",
          "Cassandra",
          "Couchbase",
          "DynamoDB",
          "Elasticsearch",
          "Firebase",
          "IBM DB2",
          "MariaDB",
          "Microsoft SQL Server",
          "MongoDB",
          "MySQL",
          "Oracle",
          "PostgreSQL",
          "Redis",
          "SQLite",
          "AWS",
          "DigitalOcean",
          "Google Cloud Platform",
          "Heroku",
          "IBM Cloud or Watson",
          "Microsoft Azure",
          "Oracle Cloud Infrastructure",
          "ASP.NET",
          "ASP.NET Core ",
          "Angular",
          "Angular.js",
          "Django",
          "Drupal",
          "Express",
          "FastAPI",
          "Flask",
          "Gatsby",
          "Laravel",
          "React.js",
          "Ruby on Rails",
          "Spring",
          "Svelte",
          "Symfony",
          "Vue.js",
          "jQuery",
          ".NET Core / .NET 5",
          ".NET Framework",
          "Apache Spark",
          "Cordova",
          "Flutter",
          "Hadoop",
          "Keras",
          "NumPy",
          "Pandas",
          "Qt",
          "React Native",
          "TensorFlow",
          "Torch/PyTorch",
          "Ansible",
          "Chef",
          "Deno",
          "Docker",
          "Flow",
          "Git",
          "Kubernetes",
          "Pulumi",
          "Puppet",
          "Terraform",
          "Unity 3D",
          "Unreal Engine",
          "Xamarin",
          "Yarn",
          "Android Studio",
          "Atom",
          "Eclipse",
          "Emacs",
          "IPython/Jupyter",
          "IntelliJ",
          "Neovim",
          "NetBeans",
          "Notepad++",
          "PHPStorm",
          "PyCharm",
          "RStudio",
          "Rider",
          "RubyMine",
          "Sublime Text",
          "TextMate",
          "Vim",
          "Visual Studio",
          "Visual Studio Code",
          "Webstorm",
          "Xcode"
         ],
         "textposition": "top center",
         "type": "scatter",
         "x": [
          -2.575763463973999,
          11.196431159973145,
          23.64014434814453,
          11.25922679901123,
          -34.041500091552734,
          11.135211944580078,
          -4.335339069366455,
          12.155827522277832,
          -2.443270444869995,
          -7.329716205596924,
          -5.376459121704102,
          4.468845367431641,
          4.92724609375,
          -39.79291915893555,
          25.13928985595703,
          -10.298093795776367,
          -17.07749366760254,
          14.736982345581055,
          -13.358845710754395,
          -16.40912437438965,
          18.4842529296875,
          -9.231476783752441,
          13.394274711608887,
          19.505714416503906,
          -9.089637756347656,
          3.068591594696045,
          -23.84740447998047,
          25.263534545898438,
          -40.05680465698242,
          23.034175872802734,
          19.641063690185547,
          11.202567100524902,
          17.140485763549805,
          -36.36054229736328,
          42.183990478515625,
          2.7411797046661377,
          -15.805586814880371,
          -33.73637771606445,
          36.49906921386719,
          37.99031448364258,
          32.892333984375,
          33.90730285644531,
          -5.030995845794678,
          -5.515464782714844,
          -21.709585189819336,
          -35.626861572265625,
          -10.695318222045898,
          -22.814472198486328,
          -11.008601188659668,
          29.5727481842041,
          32.746734619140625,
          -11.756863594055176,
          32.20885467529297,
          31.341672897338867,
          -4.067318439483643,
          -8.251350402832031,
          -6.926986217498779,
          -37.95013427734375,
          -9.102702140808105,
          -34.314453125,
          -36.80746078491211,
          -16.636886596679688,
          -18.216371536254883,
          23.996599197387695,
          -29.252418518066406,
          -9.182636260986328,
          26.896133422851562,
          25.152446746826172,
          -4.8670220375061035,
          -24.329256057739258,
          -6.8375444412231445,
          11.521328926086426,
          -11.721961975097656,
          3.424455404281616,
          -27.679462432861328,
          -24.30047607421875,
          -19.273784637451172,
          -36.84953308105469,
          -33.85325622558594,
          41.53350830078125,
          -16.482362747192383,
          -7.59139347076416,
          41.1962776184082,
          26.76903533935547,
          22.06524658203125,
          22.814613342285156,
          10.818058967590332,
          -7.629143714904785,
          26.631017684936523,
          26.477136611938477,
          27.567960739135742,
          26.523208618164062,
          4.071319103240967,
          27.817096710205078,
          22.652482986450195,
          26.87221336364746,
          27.125883102416992,
          24.195362091064453,
          27.024356842041016,
          26.442440032958984,
          -28.209293365478516,
          -27.71567726135254,
          -35.45545959472656,
          -5.558908939361572,
          -9.088363647460938,
          -18.888471603393555,
          -15.836584091186523,
          12.799649238586426,
          22.533390045166016,
          -13.380680084228516,
          17.89353370666504,
          -16.594959259033203,
          -29.72185516357422,
          -25.89703941345215,
          21.61777687072754,
          20.17688751220703,
          -38.028602600097656,
          10.061626434326172,
          -20.067956924438477,
          8.811814308166504,
          22.831214904785156,
          -31.604677200317383,
          -14.828798294067383,
          -26.583059310913086,
          2.7694451808929443
         ],
         "xaxis": "x",
         "y": [
          -15.093415260314941,
          -28.881237030029297,
          -7.519100666046143,
          -30.414621353149414,
          -17.747013092041016,
          -31.319759368896484,
          -13.974674224853516,
          -15.157052040100098,
          -12.87404727935791,
          11.138964653015137,
          -16.085420608520508,
          -9.763753890991211,
          -10.312592506408691,
          -20.20358657836914,
          11.04092025756836,
          -3.846508741378784,
          24.35711669921875,
          -11.179423332214355,
          -4.93726110458374,
          24.8319034576416,
          -42.43752670288086,
          6.6806511878967285,
          -13.240665435791016,
          -34.57096481323242,
          28.698898315429688,
          16.919607162475586,
          16.52471923828125,
          -8.1067476272583,
          -16.24436378479004,
          -31.378711700439453,
          -43.83460235595703,
          7.469096660614014,
          -8.837827682495117,
          -9.352533340454102,
          -1.6213607788085938,
          15.662923812866211,
          33.53732681274414,
          -11.40825366973877,
          5.201533794403076,
          5.5916242599487305,
          13.181143760681152,
          6.201535224914551,
          7.5927348136901855,
          -13.075424194335938,
          16.77264404296875,
          -11.952383995056152,
          30.382999420166016,
          14.836433410644531,
          -8.110445976257324,
          9.463516235351562,
          6.160531520843506,
          8.718189239501953,
          12.563175201416016,
          4.770249366760254,
          7.34816312789917,
          31.530752182006836,
          -11.979910850524902,
          -13.491954803466797,
          -10.129937171936035,
          -14.853256225585938,
          -16.045366287231445,
          34.335792541503906,
          34.30891799926758,
          -29.19670295715332,
          17.35724639892578,
          29.69664192199707,
          -30.662940979003906,
          -30.705448150634766,
          25.621126174926758,
          17.66362762451172,
          26.768770217895508,
          8.109219551086426,
          -5.042350769042969,
          33.61847686767578,
          16.644332885742188,
          19.765079498291016,
          21.6636905670166,
          -17.3470516204834,
          -16.505739212036133,
          -0.3107709586620331,
          36.33305358886719,
          10.406889915466309,
          0.42839860916137695,
          -38.40042495727539,
          -34.44951629638672,
          -34.840118408203125,
          -32.946895599365234,
          25.31478500366211,
          -39.2558479309082,
          -40.742042541503906,
          15.220502853393555,
          20.165544509887695,
          33.267845153808594,
          10.281559944152832,
          17.336915969848633,
          8.16234302520752,
          11.336771011352539,
          15.969285011291504,
          20.7835636138916,
          14.133480072021484,
          -27.356874465942383,
          -27.913658142089844,
          -20.31885528564453,
          27.977649688720703,
          7.836315631866455,
          -5.785920143127441,
          -6.468469619750977,
          -14.231745719909668,
          -36.537418365478516,
          -3.96736216545105,
          -8.391327857971191,
          -7.519139766693115,
          -18.113521575927734,
          15.787395477294922,
          -30.79319953918457,
          -44.47732925415039,
          -18.88852882385254,
          9.3069429397583,
          -5.783740997314453,
          10.618660926818848,
          -7.390384674072266,
          -18.05339241027832,
          26.268451690673828,
          13.61266803741455,
          14.837430000305176
         ],
         "yaxis": "y"
        }
       ],
       "layout": {
        "height": 1000,
        "legend": {
         "tracegroupgap": 0
        },
        "margin": {
         "t": 60
        },
        "template": {
         "data": {
          "bar": [
           {
            "error_x": {
             "color": "#2a3f5f"
            },
            "error_y": {
             "color": "#2a3f5f"
            },
            "marker": {
             "line": {
              "color": "#E5ECF6",
              "width": 0.5
             },
             "pattern": {
              "fillmode": "overlay",
              "size": 10,
              "solidity": 0.2
             }
            },
            "type": "bar"
           }
          ],
          "barpolar": [
           {
            "marker": {
             "line": {
              "color": "#E5ECF6",
              "width": 0.5
             },
             "pattern": {
              "fillmode": "overlay",
              "size": 10,
              "solidity": 0.2
             }
            },
            "type": "barpolar"
           }
          ],
          "carpet": [
           {
            "aaxis": {
             "endlinecolor": "#2a3f5f",
             "gridcolor": "white",
             "linecolor": "white",
             "minorgridcolor": "white",
             "startlinecolor": "#2a3f5f"
            },
            "baxis": {
             "endlinecolor": "#2a3f5f",
             "gridcolor": "white",
             "linecolor": "white",
             "minorgridcolor": "white",
             "startlinecolor": "#2a3f5f"
            },
            "type": "carpet"
           }
          ],
          "choropleth": [
           {
            "colorbar": {
             "outlinewidth": 0,
             "ticks": ""
            },
            "type": "choropleth"
           }
          ],
          "contour": [
           {
            "colorbar": {
             "outlinewidth": 0,
             "ticks": ""
            },
            "colorscale": [
             [
              0,
              "#0d0887"
             ],
             [
              0.1111111111111111,
              "#46039f"
             ],
             [
              0.2222222222222222,
              "#7201a8"
             ],
             [
              0.3333333333333333,
              "#9c179e"
             ],
             [
              0.4444444444444444,
              "#bd3786"
             ],
             [
              0.5555555555555556,
              "#d8576b"
             ],
             [
              0.6666666666666666,
              "#ed7953"
             ],
             [
              0.7777777777777778,
              "#fb9f3a"
             ],
             [
              0.8888888888888888,
              "#fdca26"
             ],
             [
              1,
              "#f0f921"
             ]
            ],
            "type": "contour"
           }
          ],
          "contourcarpet": [
           {
            "colorbar": {
             "outlinewidth": 0,
             "ticks": ""
            },
            "type": "contourcarpet"
           }
          ],
          "heatmap": [
           {
            "colorbar": {
             "outlinewidth": 0,
             "ticks": ""
            },
            "colorscale": [
             [
              0,
              "#0d0887"
             ],
             [
              0.1111111111111111,
              "#46039f"
             ],
             [
              0.2222222222222222,
              "#7201a8"
             ],
             [
              0.3333333333333333,
              "#9c179e"
             ],
             [
              0.4444444444444444,
              "#bd3786"
             ],
             [
              0.5555555555555556,
              "#d8576b"
             ],
             [
              0.6666666666666666,
              "#ed7953"
             ],
             [
              0.7777777777777778,
              "#fb9f3a"
             ],
             [
              0.8888888888888888,
              "#fdca26"
             ],
             [
              1,
              "#f0f921"
             ]
            ],
            "type": "heatmap"
           }
          ],
          "heatmapgl": [
           {
            "colorbar": {
             "outlinewidth": 0,
             "ticks": ""
            },
            "colorscale": [
             [
              0,
              "#0d0887"
             ],
             [
              0.1111111111111111,
              "#46039f"
             ],
             [
              0.2222222222222222,
              "#7201a8"
             ],
             [
              0.3333333333333333,
              "#9c179e"
             ],
             [
              0.4444444444444444,
              "#bd3786"
             ],
             [
              0.5555555555555556,
              "#d8576b"
             ],
             [
              0.6666666666666666,
              "#ed7953"
             ],
             [
              0.7777777777777778,
              "#fb9f3a"
             ],
             [
              0.8888888888888888,
              "#fdca26"
             ],
             [
              1,
              "#f0f921"
             ]
            ],
            "type": "heatmapgl"
           }
          ],
          "histogram": [
           {
            "marker": {
             "pattern": {
              "fillmode": "overlay",
              "size": 10,
              "solidity": 0.2
             }
            },
            "type": "histogram"
           }
          ],
          "histogram2d": [
           {
            "colorbar": {
             "outlinewidth": 0,
             "ticks": ""
            },
            "colorscale": [
             [
              0,
              "#0d0887"
             ],
             [
              0.1111111111111111,
              "#46039f"
             ],
             [
              0.2222222222222222,
              "#7201a8"
             ],
             [
              0.3333333333333333,
              "#9c179e"
             ],
             [
              0.4444444444444444,
              "#bd3786"
             ],
             [
              0.5555555555555556,
              "#d8576b"
             ],
             [
              0.6666666666666666,
              "#ed7953"
             ],
             [
              0.7777777777777778,
              "#fb9f3a"
             ],
             [
              0.8888888888888888,
              "#fdca26"
             ],
             [
              1,
              "#f0f921"
             ]
            ],
            "type": "histogram2d"
           }
          ],
          "histogram2dcontour": [
           {
            "colorbar": {
             "outlinewidth": 0,
             "ticks": ""
            },
            "colorscale": [
             [
              0,
              "#0d0887"
             ],
             [
              0.1111111111111111,
              "#46039f"
             ],
             [
              0.2222222222222222,
              "#7201a8"
             ],
             [
              0.3333333333333333,
              "#9c179e"
             ],
             [
              0.4444444444444444,
              "#bd3786"
             ],
             [
              0.5555555555555556,
              "#d8576b"
             ],
             [
              0.6666666666666666,
              "#ed7953"
             ],
             [
              0.7777777777777778,
              "#fb9f3a"
             ],
             [
              0.8888888888888888,
              "#fdca26"
             ],
             [
              1,
              "#f0f921"
             ]
            ],
            "type": "histogram2dcontour"
           }
          ],
          "mesh3d": [
           {
            "colorbar": {
             "outlinewidth": 0,
             "ticks": ""
            },
            "type": "mesh3d"
           }
          ],
          "parcoords": [
           {
            "line": {
             "colorbar": {
              "outlinewidth": 0,
              "ticks": ""
             }
            },
            "type": "parcoords"
           }
          ],
          "pie": [
           {
            "automargin": true,
            "type": "pie"
           }
          ],
          "scatter": [
           {
            "fillpattern": {
             "fillmode": "overlay",
             "size": 10,
             "solidity": 0.2
            },
            "type": "scatter"
           }
          ],
          "scatter3d": [
           {
            "line": {
             "colorbar": {
              "outlinewidth": 0,
              "ticks": ""
             }
            },
            "marker": {
             "colorbar": {
              "outlinewidth": 0,
              "ticks": ""
             }
            },
            "type": "scatter3d"
           }
          ],
          "scattercarpet": [
           {
            "marker": {
             "colorbar": {
              "outlinewidth": 0,
              "ticks": ""
             }
            },
            "type": "scattercarpet"
           }
          ],
          "scattergeo": [
           {
            "marker": {
             "colorbar": {
              "outlinewidth": 0,
              "ticks": ""
             }
            },
            "type": "scattergeo"
           }
          ],
          "scattergl": [
           {
            "marker": {
             "colorbar": {
              "outlinewidth": 0,
              "ticks": ""
             }
            },
            "type": "scattergl"
           }
          ],
          "scattermapbox": [
           {
            "marker": {
             "colorbar": {
              "outlinewidth": 0,
              "ticks": ""
             }
            },
            "type": "scattermapbox"
           }
          ],
          "scatterpolar": [
           {
            "marker": {
             "colorbar": {
              "outlinewidth": 0,
              "ticks": ""
             }
            },
            "type": "scatterpolar"
           }
          ],
          "scatterpolargl": [
           {
            "marker": {
             "colorbar": {
              "outlinewidth": 0,
              "ticks": ""
             }
            },
            "type": "scatterpolargl"
           }
          ],
          "scatterternary": [
           {
            "marker": {
             "colorbar": {
              "outlinewidth": 0,
              "ticks": ""
             }
            },
            "type": "scatterternary"
           }
          ],
          "surface": [
           {
            "colorbar": {
             "outlinewidth": 0,
             "ticks": ""
            },
            "colorscale": [
             [
              0,
              "#0d0887"
             ],
             [
              0.1111111111111111,
              "#46039f"
             ],
             [
              0.2222222222222222,
              "#7201a8"
             ],
             [
              0.3333333333333333,
              "#9c179e"
             ],
             [
              0.4444444444444444,
              "#bd3786"
             ],
             [
              0.5555555555555556,
              "#d8576b"
             ],
             [
              0.6666666666666666,
              "#ed7953"
             ],
             [
              0.7777777777777778,
              "#fb9f3a"
             ],
             [
              0.8888888888888888,
              "#fdca26"
             ],
             [
              1,
              "#f0f921"
             ]
            ],
            "type": "surface"
           }
          ],
          "table": [
           {
            "cells": {
             "fill": {
              "color": "#EBF0F8"
             },
             "line": {
              "color": "white"
             }
            },
            "header": {
             "fill": {
              "color": "#C8D4E3"
             },
             "line": {
              "color": "white"
             }
            },
            "type": "table"
           }
          ]
         },
         "layout": {
          "annotationdefaults": {
           "arrowcolor": "#2a3f5f",
           "arrowhead": 0,
           "arrowwidth": 1
          },
          "autotypenumbers": "strict",
          "coloraxis": {
           "colorbar": {
            "outlinewidth": 0,
            "ticks": ""
           }
          },
          "colorscale": {
           "diverging": [
            [
             0,
             "#8e0152"
            ],
            [
             0.1,
             "#c51b7d"
            ],
            [
             0.2,
             "#de77ae"
            ],
            [
             0.3,
             "#f1b6da"
            ],
            [
             0.4,
             "#fde0ef"
            ],
            [
             0.5,
             "#f7f7f7"
            ],
            [
             0.6,
             "#e6f5d0"
            ],
            [
             0.7,
             "#b8e186"
            ],
            [
             0.8,
             "#7fbc41"
            ],
            [
             0.9,
             "#4d9221"
            ],
            [
             1,
             "#276419"
            ]
           ],
           "sequential": [
            [
             0,
             "#0d0887"
            ],
            [
             0.1111111111111111,
             "#46039f"
            ],
            [
             0.2222222222222222,
             "#7201a8"
            ],
            [
             0.3333333333333333,
             "#9c179e"
            ],
            [
             0.4444444444444444,
             "#bd3786"
            ],
            [
             0.5555555555555556,
             "#d8576b"
            ],
            [
             0.6666666666666666,
             "#ed7953"
            ],
            [
             0.7777777777777778,
             "#fb9f3a"
            ],
            [
             0.8888888888888888,
             "#fdca26"
            ],
            [
             1,
             "#f0f921"
            ]
           ],
           "sequentialminus": [
            [
             0,
             "#0d0887"
            ],
            [
             0.1111111111111111,
             "#46039f"
            ],
            [
             0.2222222222222222,
             "#7201a8"
            ],
            [
             0.3333333333333333,
             "#9c179e"
            ],
            [
             0.4444444444444444,
             "#bd3786"
            ],
            [
             0.5555555555555556,
             "#d8576b"
            ],
            [
             0.6666666666666666,
             "#ed7953"
            ],
            [
             0.7777777777777778,
             "#fb9f3a"
            ],
            [
             0.8888888888888888,
             "#fdca26"
            ],
            [
             1,
             "#f0f921"
            ]
           ]
          },
          "colorway": [
           "#636efa",
           "#EF553B",
           "#00cc96",
           "#ab63fa",
           "#FFA15A",
           "#19d3f3",
           "#FF6692",
           "#B6E880",
           "#FF97FF",
           "#FECB52"
          ],
          "font": {
           "color": "#2a3f5f"
          },
          "geo": {
           "bgcolor": "white",
           "lakecolor": "white",
           "landcolor": "#E5ECF6",
           "showlakes": true,
           "showland": true,
           "subunitcolor": "white"
          },
          "hoverlabel": {
           "align": "left"
          },
          "hovermode": "closest",
          "mapbox": {
           "style": "light"
          },
          "paper_bgcolor": "white",
          "plot_bgcolor": "#E5ECF6",
          "polar": {
           "angularaxis": {
            "gridcolor": "white",
            "linecolor": "white",
            "ticks": ""
           },
           "bgcolor": "#E5ECF6",
           "radialaxis": {
            "gridcolor": "white",
            "linecolor": "white",
            "ticks": ""
           }
          },
          "scene": {
           "xaxis": {
            "backgroundcolor": "#E5ECF6",
            "gridcolor": "white",
            "gridwidth": 2,
            "linecolor": "white",
            "showbackground": true,
            "ticks": "",
            "zerolinecolor": "white"
           },
           "yaxis": {
            "backgroundcolor": "#E5ECF6",
            "gridcolor": "white",
            "gridwidth": 2,
            "linecolor": "white",
            "showbackground": true,
            "ticks": "",
            "zerolinecolor": "white"
           },
           "zaxis": {
            "backgroundcolor": "#E5ECF6",
            "gridcolor": "white",
            "gridwidth": 2,
            "linecolor": "white",
            "showbackground": true,
            "ticks": "",
            "zerolinecolor": "white"
           }
          },
          "shapedefaults": {
           "line": {
            "color": "#2a3f5f"
           }
          },
          "ternary": {
           "aaxis": {
            "gridcolor": "white",
            "linecolor": "white",
            "ticks": ""
           },
           "baxis": {
            "gridcolor": "white",
            "linecolor": "white",
            "ticks": ""
           },
           "bgcolor": "#E5ECF6",
           "caxis": {
            "gridcolor": "white",
            "linecolor": "white",
            "ticks": ""
           }
          },
          "title": {
           "x": 0.05
          },
          "xaxis": {
           "automargin": true,
           "gridcolor": "white",
           "linecolor": "white",
           "ticks": "",
           "title": {
            "standoff": 15
           },
           "zerolinecolor": "white",
           "zerolinewidth": 2
          },
          "yaxis": {
           "automargin": true,
           "gridcolor": "white",
           "linecolor": "white",
           "ticks": "",
           "title": {
            "standoff": 15
           },
           "zerolinecolor": "white",
           "zerolinewidth": 2
          }
         }
        },
        "title": {
         "text": "TSNE"
        },
        "width": 1000,
        "xaxis": {
         "anchor": "y",
         "domain": [
          0,
          1
         ],
         "title": {
          "text": "x"
         }
        },
        "yaxis": {
         "anchor": "x",
         "domain": [
          0,
          1
         ],
         "title": {
          "text": "y"
         }
        }
       }
      },
      "text/html": [
       "<div>                            <div id=\"733851f6-00f1-46a3-9dfc-0ca6897ee413\" class=\"plotly-graph-div\" style=\"height:1000px; width:1000px;\"></div>            <script type=\"text/javascript\">                require([\"plotly\"], function(Plotly) {                    window.PLOTLYENV=window.PLOTLYENV || {};                                    if (document.getElementById(\"733851f6-00f1-46a3-9dfc-0ca6897ee413\")) {                    Plotly.newPlot(                        \"733851f6-00f1-46a3-9dfc-0ca6897ee413\",                        [{\"hovertemplate\":\"x=%{x}<br>y=%{y}<br>text=%{text}<extra></extra>\",\"legendgroup\":\"\",\"marker\":{\"color\":\"#636efa\",\"symbol\":\"circle\"},\"mode\":\"markers+text\",\"name\":\"\",\"orientation\":\"v\",\"showlegend\":false,\"text\":[\"APL\",\"Assembly\",\"Bash/Shell\",\"C\",\"C#\",\"C++\",\"COBOL\",\"Clojure\",\"Crystal\",\"Dart\",\"Delphi\",\"Elixir\",\"Erlang\",\"F#\",\"Go\",\"Groovy\",\"HTML/CSS\",\"Haskell\",\"Java\",\"JavaScript\",\"Julia\",\"Kotlin\",\"LISP\",\"Matlab\",\"Node.js\",\"Objective-C\",\"PHP\",\"Perl\",\"PowerShell\",\"Python\",\"R\",\"Ruby\",\"Rust\",\"SQL\",\"Scala\",\"Swift\",\"TypeScript\",\"VBA\",\"Cassandra\",\"Couchbase\",\"DynamoDB\",\"Elasticsearch\",\"Firebase\",\"IBM DB2\",\"MariaDB\",\"Microsoft SQL Server\",\"MongoDB\",\"MySQL\",\"Oracle\",\"PostgreSQL\",\"Redis\",\"SQLite\",\"AWS\",\"DigitalOcean\",\"Google Cloud Platform\",\"Heroku\",\"IBM Cloud or Watson\",\"Microsoft Azure\",\"Oracle Cloud Infrastructure\",\"ASP.NET\",\"ASP.NET Core \",\"Angular\",\"Angular.js\",\"Django\",\"Drupal\",\"Express\",\"FastAPI\",\"Flask\",\"Gatsby\",\"Laravel\",\"React.js\",\"Ruby on Rails\",\"Spring\",\"Svelte\",\"Symfony\",\"Vue.js\",\"jQuery\",\".NET Core / .NET 5\",\".NET Framework\",\"Apache Spark\",\"Cordova\",\"Flutter\",\"Hadoop\",\"Keras\",\"NumPy\",\"Pandas\",\"Qt\",\"React Native\",\"TensorFlow\",\"Torch/PyTorch\",\"Ansible\",\"Chef\",\"Deno\",\"Docker\",\"Flow\",\"Git\",\"Kubernetes\",\"Pulumi\",\"Puppet\",\"Terraform\",\"Unity 3D\",\"Unreal Engine\",\"Xamarin\",\"Yarn\",\"Android Studio\",\"Atom\",\"Eclipse\",\"Emacs\",\"IPython/Jupyter\",\"IntelliJ\",\"Neovim\",\"NetBeans\",\"Notepad++\",\"PHPStorm\",\"PyCharm\",\"RStudio\",\"Rider\",\"RubyMine\",\"Sublime Text\",\"TextMate\",\"Vim\",\"Visual Studio\",\"Visual Studio Code\",\"Webstorm\",\"Xcode\"],\"x\":[-2.575763463973999,11.196431159973145,23.64014434814453,11.25922679901123,-34.041500091552734,11.135211944580078,-4.335339069366455,12.155827522277832,-2.443270444869995,-7.329716205596924,-5.376459121704102,4.468845367431641,4.92724609375,-39.79291915893555,25.13928985595703,-10.298093795776367,-17.07749366760254,14.736982345581055,-13.358845710754395,-16.40912437438965,18.4842529296875,-9.231476783752441,13.394274711608887,19.505714416503906,-9.089637756347656,3.068591594696045,-23.84740447998047,25.263534545898438,-40.05680465698242,23.034175872802734,19.641063690185547,11.202567100524902,17.140485763549805,-36.36054229736328,42.183990478515625,2.7411797046661377,-15.805586814880371,-33.73637771606445,36.49906921386719,37.99031448364258,32.892333984375,33.90730285644531,-5.030995845794678,-5.515464782714844,-21.709585189819336,-35.626861572265625,-10.695318222045898,-22.814472198486328,-11.008601188659668,29.5727481842041,32.746734619140625,-11.756863594055176,32.20885467529297,31.341672897338867,-4.067318439483643,-8.251350402832031,-6.926986217498779,-37.95013427734375,-9.102702140808105,-34.314453125,-36.80746078491211,-16.636886596679688,-18.216371536254883,23.996599197387695,-29.252418518066406,-9.182636260986328,26.896133422851562,25.152446746826172,-4.8670220375061035,-24.329256057739258,-6.8375444412231445,11.521328926086426,-11.721961975097656,3.424455404281616,-27.679462432861328,-24.30047607421875,-19.273784637451172,-36.84953308105469,-33.85325622558594,41.53350830078125,-16.482362747192383,-7.59139347076416,41.1962776184082,26.76903533935547,22.06524658203125,22.814613342285156,10.818058967590332,-7.629143714904785,26.631017684936523,26.477136611938477,27.567960739135742,26.523208618164062,4.071319103240967,27.817096710205078,22.652482986450195,26.87221336364746,27.125883102416992,24.195362091064453,27.024356842041016,26.442440032958984,-28.209293365478516,-27.71567726135254,-35.45545959472656,-5.558908939361572,-9.088363647460938,-18.888471603393555,-15.836584091186523,12.799649238586426,22.533390045166016,-13.380680084228516,17.89353370666504,-16.594959259033203,-29.72185516357422,-25.89703941345215,21.61777687072754,20.17688751220703,-38.028602600097656,10.061626434326172,-20.067956924438477,8.811814308166504,22.831214904785156,-31.604677200317383,-14.828798294067383,-26.583059310913086,2.7694451808929443],\"xaxis\":\"x\",\"y\":[-15.093415260314941,-28.881237030029297,-7.519100666046143,-30.414621353149414,-17.747013092041016,-31.319759368896484,-13.974674224853516,-15.157052040100098,-12.87404727935791,11.138964653015137,-16.085420608520508,-9.763753890991211,-10.312592506408691,-20.20358657836914,11.04092025756836,-3.846508741378784,24.35711669921875,-11.179423332214355,-4.93726110458374,24.8319034576416,-42.43752670288086,6.6806511878967285,-13.240665435791016,-34.57096481323242,28.698898315429688,16.919607162475586,16.52471923828125,-8.1067476272583,-16.24436378479004,-31.378711700439453,-43.83460235595703,7.469096660614014,-8.837827682495117,-9.352533340454102,-1.6213607788085938,15.662923812866211,33.53732681274414,-11.40825366973877,5.201533794403076,5.5916242599487305,13.181143760681152,6.201535224914551,7.5927348136901855,-13.075424194335938,16.77264404296875,-11.952383995056152,30.382999420166016,14.836433410644531,-8.110445976257324,9.463516235351562,6.160531520843506,8.718189239501953,12.563175201416016,4.770249366760254,7.34816312789917,31.530752182006836,-11.979910850524902,-13.491954803466797,-10.129937171936035,-14.853256225585938,-16.045366287231445,34.335792541503906,34.30891799926758,-29.19670295715332,17.35724639892578,29.69664192199707,-30.662940979003906,-30.705448150634766,25.621126174926758,17.66362762451172,26.768770217895508,8.109219551086426,-5.042350769042969,33.61847686767578,16.644332885742188,19.765079498291016,21.6636905670166,-17.3470516204834,-16.505739212036133,-0.3107709586620331,36.33305358886719,10.406889915466309,0.42839860916137695,-38.40042495727539,-34.44951629638672,-34.840118408203125,-32.946895599365234,25.31478500366211,-39.2558479309082,-40.742042541503906,15.220502853393555,20.165544509887695,33.267845153808594,10.281559944152832,17.336915969848633,8.16234302520752,11.336771011352539,15.969285011291504,20.7835636138916,14.133480072021484,-27.356874465942383,-27.913658142089844,-20.31885528564453,27.977649688720703,7.836315631866455,-5.785920143127441,-6.468469619750977,-14.231745719909668,-36.537418365478516,-3.96736216545105,-8.391327857971191,-7.519139766693115,-18.113521575927734,15.787395477294922,-30.79319953918457,-44.47732925415039,-18.88852882385254,9.3069429397583,-5.783740997314453,10.618660926818848,-7.390384674072266,-18.05339241027832,26.268451690673828,13.61266803741455,14.837430000305176],\"yaxis\":\"y\",\"type\":\"scatter\",\"textposition\":\"top center\"}],                        {\"template\":{\"data\":{\"histogram2dcontour\":[{\"type\":\"histogram2dcontour\",\"colorbar\":{\"outlinewidth\":0,\"ticks\":\"\"},\"colorscale\":[[0.0,\"#0d0887\"],[0.1111111111111111,\"#46039f\"],[0.2222222222222222,\"#7201a8\"],[0.3333333333333333,\"#9c179e\"],[0.4444444444444444,\"#bd3786\"],[0.5555555555555556,\"#d8576b\"],[0.6666666666666666,\"#ed7953\"],[0.7777777777777778,\"#fb9f3a\"],[0.8888888888888888,\"#fdca26\"],[1.0,\"#f0f921\"]]}],\"choropleth\":[{\"type\":\"choropleth\",\"colorbar\":{\"outlinewidth\":0,\"ticks\":\"\"}}],\"histogram2d\":[{\"type\":\"histogram2d\",\"colorbar\":{\"outlinewidth\":0,\"ticks\":\"\"},\"colorscale\":[[0.0,\"#0d0887\"],[0.1111111111111111,\"#46039f\"],[0.2222222222222222,\"#7201a8\"],[0.3333333333333333,\"#9c179e\"],[0.4444444444444444,\"#bd3786\"],[0.5555555555555556,\"#d8576b\"],[0.6666666666666666,\"#ed7953\"],[0.7777777777777778,\"#fb9f3a\"],[0.8888888888888888,\"#fdca26\"],[1.0,\"#f0f921\"]]}],\"heatmap\":[{\"type\":\"heatmap\",\"colorbar\":{\"outlinewidth\":0,\"ticks\":\"\"},\"colorscale\":[[0.0,\"#0d0887\"],[0.1111111111111111,\"#46039f\"],[0.2222222222222222,\"#7201a8\"],[0.3333333333333333,\"#9c179e\"],[0.4444444444444444,\"#bd3786\"],[0.5555555555555556,\"#d8576b\"],[0.6666666666666666,\"#ed7953\"],[0.7777777777777778,\"#fb9f3a\"],[0.8888888888888888,\"#fdca26\"],[1.0,\"#f0f921\"]]}],\"heatmapgl\":[{\"type\":\"heatmapgl\",\"colorbar\":{\"outlinewidth\":0,\"ticks\":\"\"},\"colorscale\":[[0.0,\"#0d0887\"],[0.1111111111111111,\"#46039f\"],[0.2222222222222222,\"#7201a8\"],[0.3333333333333333,\"#9c179e\"],[0.4444444444444444,\"#bd3786\"],[0.5555555555555556,\"#d8576b\"],[0.6666666666666666,\"#ed7953\"],[0.7777777777777778,\"#fb9f3a\"],[0.8888888888888888,\"#fdca26\"],[1.0,\"#f0f921\"]]}],\"contourcarpet\":[{\"type\":\"contourcarpet\",\"colorbar\":{\"outlinewidth\":0,\"ticks\":\"\"}}],\"contour\":[{\"type\":\"contour\",\"colorbar\":{\"outlinewidth\":0,\"ticks\":\"\"},\"colorscale\":[[0.0,\"#0d0887\"],[0.1111111111111111,\"#46039f\"],[0.2222222222222222,\"#7201a8\"],[0.3333333333333333,\"#9c179e\"],[0.4444444444444444,\"#bd3786\"],[0.5555555555555556,\"#d8576b\"],[0.6666666666666666,\"#ed7953\"],[0.7777777777777778,\"#fb9f3a\"],[0.8888888888888888,\"#fdca26\"],[1.0,\"#f0f921\"]]}],\"surface\":[{\"type\":\"surface\",\"colorbar\":{\"outlinewidth\":0,\"ticks\":\"\"},\"colorscale\":[[0.0,\"#0d0887\"],[0.1111111111111111,\"#46039f\"],[0.2222222222222222,\"#7201a8\"],[0.3333333333333333,\"#9c179e\"],[0.4444444444444444,\"#bd3786\"],[0.5555555555555556,\"#d8576b\"],[0.6666666666666666,\"#ed7953\"],[0.7777777777777778,\"#fb9f3a\"],[0.8888888888888888,\"#fdca26\"],[1.0,\"#f0f921\"]]}],\"mesh3d\":[{\"type\":\"mesh3d\",\"colorbar\":{\"outlinewidth\":0,\"ticks\":\"\"}}],\"scatter\":[{\"fillpattern\":{\"fillmode\":\"overlay\",\"size\":10,\"solidity\":0.2},\"type\":\"scatter\"}],\"parcoords\":[{\"type\":\"parcoords\",\"line\":{\"colorbar\":{\"outlinewidth\":0,\"ticks\":\"\"}}}],\"scatterpolargl\":[{\"type\":\"scatterpolargl\",\"marker\":{\"colorbar\":{\"outlinewidth\":0,\"ticks\":\"\"}}}],\"bar\":[{\"error_x\":{\"color\":\"#2a3f5f\"},\"error_y\":{\"color\":\"#2a3f5f\"},\"marker\":{\"line\":{\"color\":\"#E5ECF6\",\"width\":0.5},\"pattern\":{\"fillmode\":\"overlay\",\"size\":10,\"solidity\":0.2}},\"type\":\"bar\"}],\"scattergeo\":[{\"type\":\"scattergeo\",\"marker\":{\"colorbar\":{\"outlinewidth\":0,\"ticks\":\"\"}}}],\"scatterpolar\":[{\"type\":\"scatterpolar\",\"marker\":{\"colorbar\":{\"outlinewidth\":0,\"ticks\":\"\"}}}],\"histogram\":[{\"marker\":{\"pattern\":{\"fillmode\":\"overlay\",\"size\":10,\"solidity\":0.2}},\"type\":\"histogram\"}],\"scattergl\":[{\"type\":\"scattergl\",\"marker\":{\"colorbar\":{\"outlinewidth\":0,\"ticks\":\"\"}}}],\"scatter3d\":[{\"type\":\"scatter3d\",\"line\":{\"colorbar\":{\"outlinewidth\":0,\"ticks\":\"\"}},\"marker\":{\"colorbar\":{\"outlinewidth\":0,\"ticks\":\"\"}}}],\"scattermapbox\":[{\"type\":\"scattermapbox\",\"marker\":{\"colorbar\":{\"outlinewidth\":0,\"ticks\":\"\"}}}],\"scatterternary\":[{\"type\":\"scatterternary\",\"marker\":{\"colorbar\":{\"outlinewidth\":0,\"ticks\":\"\"}}}],\"scattercarpet\":[{\"type\":\"scattercarpet\",\"marker\":{\"colorbar\":{\"outlinewidth\":0,\"ticks\":\"\"}}}],\"carpet\":[{\"aaxis\":{\"endlinecolor\":\"#2a3f5f\",\"gridcolor\":\"white\",\"linecolor\":\"white\",\"minorgridcolor\":\"white\",\"startlinecolor\":\"#2a3f5f\"},\"baxis\":{\"endlinecolor\":\"#2a3f5f\",\"gridcolor\":\"white\",\"linecolor\":\"white\",\"minorgridcolor\":\"white\",\"startlinecolor\":\"#2a3f5f\"},\"type\":\"carpet\"}],\"table\":[{\"cells\":{\"fill\":{\"color\":\"#EBF0F8\"},\"line\":{\"color\":\"white\"}},\"header\":{\"fill\":{\"color\":\"#C8D4E3\"},\"line\":{\"color\":\"white\"}},\"type\":\"table\"}],\"barpolar\":[{\"marker\":{\"line\":{\"color\":\"#E5ECF6\",\"width\":0.5},\"pattern\":{\"fillmode\":\"overlay\",\"size\":10,\"solidity\":0.2}},\"type\":\"barpolar\"}],\"pie\":[{\"automargin\":true,\"type\":\"pie\"}]},\"layout\":{\"autotypenumbers\":\"strict\",\"colorway\":[\"#636efa\",\"#EF553B\",\"#00cc96\",\"#ab63fa\",\"#FFA15A\",\"#19d3f3\",\"#FF6692\",\"#B6E880\",\"#FF97FF\",\"#FECB52\"],\"font\":{\"color\":\"#2a3f5f\"},\"hovermode\":\"closest\",\"hoverlabel\":{\"align\":\"left\"},\"paper_bgcolor\":\"white\",\"plot_bgcolor\":\"#E5ECF6\",\"polar\":{\"bgcolor\":\"#E5ECF6\",\"angularaxis\":{\"gridcolor\":\"white\",\"linecolor\":\"white\",\"ticks\":\"\"},\"radialaxis\":{\"gridcolor\":\"white\",\"linecolor\":\"white\",\"ticks\":\"\"}},\"ternary\":{\"bgcolor\":\"#E5ECF6\",\"aaxis\":{\"gridcolor\":\"white\",\"linecolor\":\"white\",\"ticks\":\"\"},\"baxis\":{\"gridcolor\":\"white\",\"linecolor\":\"white\",\"ticks\":\"\"},\"caxis\":{\"gridcolor\":\"white\",\"linecolor\":\"white\",\"ticks\":\"\"}},\"coloraxis\":{\"colorbar\":{\"outlinewidth\":0,\"ticks\":\"\"}},\"colorscale\":{\"sequential\":[[0.0,\"#0d0887\"],[0.1111111111111111,\"#46039f\"],[0.2222222222222222,\"#7201a8\"],[0.3333333333333333,\"#9c179e\"],[0.4444444444444444,\"#bd3786\"],[0.5555555555555556,\"#d8576b\"],[0.6666666666666666,\"#ed7953\"],[0.7777777777777778,\"#fb9f3a\"],[0.8888888888888888,\"#fdca26\"],[1.0,\"#f0f921\"]],\"sequentialminus\":[[0.0,\"#0d0887\"],[0.1111111111111111,\"#46039f\"],[0.2222222222222222,\"#7201a8\"],[0.3333333333333333,\"#9c179e\"],[0.4444444444444444,\"#bd3786\"],[0.5555555555555556,\"#d8576b\"],[0.6666666666666666,\"#ed7953\"],[0.7777777777777778,\"#fb9f3a\"],[0.8888888888888888,\"#fdca26\"],[1.0,\"#f0f921\"]],\"diverging\":[[0,\"#8e0152\"],[0.1,\"#c51b7d\"],[0.2,\"#de77ae\"],[0.3,\"#f1b6da\"],[0.4,\"#fde0ef\"],[0.5,\"#f7f7f7\"],[0.6,\"#e6f5d0\"],[0.7,\"#b8e186\"],[0.8,\"#7fbc41\"],[0.9,\"#4d9221\"],[1,\"#276419\"]]},\"xaxis\":{\"gridcolor\":\"white\",\"linecolor\":\"white\",\"ticks\":\"\",\"title\":{\"standoff\":15},\"zerolinecolor\":\"white\",\"automargin\":true,\"zerolinewidth\":2},\"yaxis\":{\"gridcolor\":\"white\",\"linecolor\":\"white\",\"ticks\":\"\",\"title\":{\"standoff\":15},\"zerolinecolor\":\"white\",\"automargin\":true,\"zerolinewidth\":2},\"scene\":{\"xaxis\":{\"backgroundcolor\":\"#E5ECF6\",\"gridcolor\":\"white\",\"linecolor\":\"white\",\"showbackground\":true,\"ticks\":\"\",\"zerolinecolor\":\"white\",\"gridwidth\":2},\"yaxis\":{\"backgroundcolor\":\"#E5ECF6\",\"gridcolor\":\"white\",\"linecolor\":\"white\",\"showbackground\":true,\"ticks\":\"\",\"zerolinecolor\":\"white\",\"gridwidth\":2},\"zaxis\":{\"backgroundcolor\":\"#E5ECF6\",\"gridcolor\":\"white\",\"linecolor\":\"white\",\"showbackground\":true,\"ticks\":\"\",\"zerolinecolor\":\"white\",\"gridwidth\":2}},\"shapedefaults\":{\"line\":{\"color\":\"#2a3f5f\"}},\"annotationdefaults\":{\"arrowcolor\":\"#2a3f5f\",\"arrowhead\":0,\"arrowwidth\":1},\"geo\":{\"bgcolor\":\"white\",\"landcolor\":\"#E5ECF6\",\"subunitcolor\":\"white\",\"showland\":true,\"showlakes\":true,\"lakecolor\":\"white\"},\"title\":{\"x\":0.05},\"mapbox\":{\"style\":\"light\"}}},\"xaxis\":{\"anchor\":\"y\",\"domain\":[0.0,1.0],\"title\":{\"text\":\"x\"}},\"yaxis\":{\"anchor\":\"x\",\"domain\":[0.0,1.0],\"title\":{\"text\":\"y\"}},\"legend\":{\"tracegroupgap\":0},\"margin\":{\"t\":60},\"title\":{\"text\":\"TSNE\"},\"height\":1000,\"width\":1000},                        {\"responsive\": true}                    ).then(function(){\n",
       "                            \n",
       "var gd = document.getElementById('733851f6-00f1-46a3-9dfc-0ca6897ee413');\n",
       "var x = new MutationObserver(function (mutations, observer) {{\n",
       "        var display = window.getComputedStyle(gd).display;\n",
       "        if (!display || display === 'none') {{\n",
       "            console.log([gd, 'removed!']);\n",
       "            Plotly.purge(gd);\n",
       "            observer.disconnect();\n",
       "        }}\n",
       "}});\n",
       "\n",
       "// Listen for the removal of the full notebook cells\n",
       "var notebookContainer = gd.closest('#notebook-container');\n",
       "if (notebookContainer) {{\n",
       "    x.observe(notebookContainer, {childList: true});\n",
       "}}\n",
       "\n",
       "// Listen for the clearing of the current output cell\n",
       "var outputEl = gd.closest('.output');\n",
       "if (outputEl) {{\n",
       "    x.observe(outputEl, {childList: true});\n",
       "}}\n",
       "\n",
       "                        })                };                });            </script>        </div>"
      ]
     },
     "metadata": {},
     "output_type": "display_data"
    }
   ],
   "source": [
    "fig = px.scatter(x=tsne_projection[0], y=tsne_projection[1], text=tsne_projection.droplevel(0).index)\n",
    "fig.update_traces(textposition='top center')\n",
    "fig.update_layout(height=1000, width=1000, title_text='TSNE')\n",
    "fig.show()"
   ]
  },
  {
   "cell_type": "markdown",
   "id": "aa2c689a",
   "metadata": {},
   "source": [
    "## _Clustering_"
   ]
  },
  {
   "cell_type": "code",
   "execution_count": 20,
   "id": "09f7371e",
   "metadata": {},
   "outputs": [],
   "source": [
    "range_n_cluster = list(range(10,25)) \n",
    "silhouette_scores = []\n",
    "best_cluster_model = None \n",
    "\n",
    "for n_clusters in range_n_cluster:\n",
    "    cluster_model  = AgglomerativeClustering(n_clusters=n_clusters, linkage='ward')\n",
    "    cluster_labels = cluster_model.fit_predict(tsne_projection)\n",
    "    \n",
    "    silhouette_avg = silhouette_score(tsne_projection, cluster_labels)\n",
    "    silhouette_scores += [silhouette_avg]\n",
    "    \n",
    "    if silhouette_avg >= np.max(silhouette_scores):\n",
    "        best_cluster_model = cluster_model"
   ]
  },
  {
   "cell_type": "code",
   "execution_count": 21,
   "id": "2a7d759a",
   "metadata": {},
   "outputs": [
    {
     "data": {
      "text/plain": [
       "<matplotlib.lines.Line2D at 0x229af3dd6d0>"
      ]
     },
     "execution_count": 21,
     "metadata": {},
     "output_type": "execute_result"
    },
    {
     "data": {
      "image/png": "[encoded data removed]",
      "text/plain": [
       "<Figure size 640x480 with 1 Axes>"
      ]
     },
     "metadata": {},
     "output_type": "display_data"
    }
   ],
   "source": [
    "# visualize\n",
    "plt.plot(range_n_cluster, silhouette_scores)\n",
    "# add a vertical line to the plot at the position corresponding to the best number of clusters \n",
    "plt.axvline(best_cluster_model.n_clusters, color='black')"
   ]
  },
  {
   "cell_type": "code",
   "execution_count": 22,
   "id": "995a1ff2",
   "metadata": {},
   "outputs": [],
   "source": [
    "cluster_labels = [\"skills_group_\" + str(label) \n",
    "                 for label in best_cluster_model.labels_]\n"
   ]
  },
  {
   "cell_type": "code",
   "execution_count": 23,
   "id": "393558c5",
   "metadata": {},
   "outputs": [
    {
     "data": {
      "text/plain": [
       "['skills_group_20',\n",
       " 'skills_group_12',\n",
       " 'skills_group_17',\n",
       " 'skills_group_12',\n",
       " 'skills_group_0',\n",
       " 'skills_group_12',\n",
       " 'skills_group_20',\n",
       " 'skills_group_4',\n",
       " 'skills_group_20',\n",
       " 'skills_group_10',\n",
       " 'skills_group_20',\n",
       " 'skills_group_21',\n",
       " 'skills_group_21',\n",
       " 'skills_group_0',\n",
       " 'skills_group_5',\n",
       " 'skills_group_1',\n",
       " 'skills_group_6',\n",
       " 'skills_group_4',\n",
       " 'skills_group_1',\n",
       " 'skills_group_6',\n",
       " 'skills_group_14',\n",
       " 'skills_group_10',\n",
       " 'skills_group_4',\n",
       " 'skills_group_2',\n",
       " 'skills_group_11',\n",
       " 'skills_group_18',\n",
       " 'skills_group_3',\n",
       " 'skills_group_17',\n",
       " 'skills_group_0',\n",
       " 'skills_group_2',\n",
       " 'skills_group_14',\n",
       " 'skills_group_8',\n",
       " 'skills_group_4',\n",
       " 'skills_group_0',\n",
       " 'skills_group_19',\n",
       " 'skills_group_18',\n",
       " 'skills_group_16',\n",
       " 'skills_group_0',\n",
       " 'skills_group_7',\n",
       " 'skills_group_7',\n",
       " 'skills_group_5',\n",
       " 'skills_group_7',\n",
       " 'skills_group_10',\n",
       " 'skills_group_20',\n",
       " 'skills_group_3',\n",
       " 'skills_group_0',\n",
       " 'skills_group_11',\n",
       " 'skills_group_3',\n",
       " 'skills_group_1',\n",
       " 'skills_group_5',\n",
       " 'skills_group_7',\n",
       " 'skills_group_10',\n",
       " 'skills_group_5',\n",
       " 'skills_group_7',\n",
       " 'skills_group_10',\n",
       " 'skills_group_11',\n",
       " 'skills_group_20',\n",
       " 'skills_group_0',\n",
       " 'skills_group_1',\n",
       " 'skills_group_0',\n",
       " 'skills_group_0',\n",
       " 'skills_group_16',\n",
       " 'skills_group_16',\n",
       " 'skills_group_2',\n",
       " 'skills_group_3',\n",
       " 'skills_group_11',\n",
       " 'skills_group_2',\n",
       " 'skills_group_2',\n",
       " 'skills_group_11',\n",
       " 'skills_group_3',\n",
       " 'skills_group_11',\n",
       " 'skills_group_8',\n",
       " 'skills_group_1',\n",
       " 'skills_group_15',\n",
       " 'skills_group_3',\n",
       " 'skills_group_3',\n",
       " 'skills_group_6',\n",
       " 'skills_group_0',\n",
       " 'skills_group_0',\n",
       " 'skills_group_19',\n",
       " 'skills_group_16',\n",
       " 'skills_group_10',\n",
       " 'skills_group_19',\n",
       " 'skills_group_22',\n",
       " 'skills_group_2',\n",
       " 'skills_group_2',\n",
       " 'skills_group_12',\n",
       " 'skills_group_11',\n",
       " 'skills_group_22',\n",
       " 'skills_group_22',\n",
       " 'skills_group_9',\n",
       " 'skills_group_9',\n",
       " 'skills_group_15',\n",
       " 'skills_group_5',\n",
       " 'skills_group_9',\n",
       " 'skills_group_5',\n",
       " 'skills_group_5',\n",
       " 'skills_group_9',\n",
       " 'skills_group_9',\n",
       " 'skills_group_9',\n",
       " 'skills_group_13',\n",
       " 'skills_group_13',\n",
       " 'skills_group_0',\n",
       " 'skills_group_11',\n",
       " 'skills_group_10',\n",
       " 'skills_group_1',\n",
       " 'skills_group_1',\n",
       " 'skills_group_4',\n",
       " 'skills_group_2',\n",
       " 'skills_group_1',\n",
       " 'skills_group_4',\n",
       " 'skills_group_1',\n",
       " 'skills_group_0',\n",
       " 'skills_group_3',\n",
       " 'skills_group_2',\n",
       " 'skills_group_14',\n",
       " 'skills_group_0',\n",
       " 'skills_group_8',\n",
       " 'skills_group_1',\n",
       " 'skills_group_8',\n",
       " 'skills_group_17',\n",
       " 'skills_group_0',\n",
       " 'skills_group_6',\n",
       " 'skills_group_3',\n",
       " 'skills_group_18']"
      ]
     },
     "execution_count": 23,
     "metadata": {},
     "output_type": "execute_result"
    }
   ],
   "source": [
    "cluster_labels"
   ]
  },
  {
   "cell_type": "code",
   "execution_count": 24,
   "id": "d052084c",
   "metadata": {},
   "outputs": [
    {
     "data": {
      "application/vnd.plotly.v1+json": {
       "config": {
        "plotlyServerURL": "https://plot.ly"
       },
       "data": [
        {
         "hovertemplate": "color=skills_group_20<br>x=%{x}<br>y=%{y}<br>text=%{text}<extra></extra>",
         "legendgroup": "skills_group_20",
         "marker": {
          "color": "#636efa",
          "symbol": "circle"
         },
         "mode": "markers+text",
         "name": "skills_group_20",
         "orientation": "v",
         "showlegend": true,
         "text": [
          "APL",
          "COBOL",
          "Crystal",
          "Delphi",
          "IBM DB2",
          "IBM Cloud or Watson"
         ],
         "textposition": "top center",
         "type": "scatter",
         "x": [
          -2.575763463973999,
          -4.335339069366455,
          -2.443270444869995,
          -5.376459121704102,
          -5.515464782714844,
          -6.926986217498779
         ],
         "xaxis": "x",
         "y": [
          -15.093415260314941,
          -13.974674224853516,
          -12.87404727935791,
          -16.085420608520508,
          -13.075424194335938,
          -11.979910850524902
         ],
         "yaxis": "y"
        },
        {
         "hovertemplate": "color=skills_group_12<br>x=%{x}<br>y=%{y}<br>text=%{text}<extra></extra>",
         "legendgroup": "skills_group_12",
         "marker": {
          "color": "#EF553B",
          "symbol": "circle"
         },
         "mode": "markers+text",
         "name": "skills_group_12",
         "orientation": "v",
         "showlegend": true,
         "text": [
          "Assembly",
          "C",
          "C++",
          "Qt"
         ],
         "textposition": "top center",
         "type": "scatter",
         "x": [
          11.196431159973145,
          11.25922679901123,
          11.135211944580078,
          10.818058967590332
         ],
         "xaxis": "x",
         "y": [
          -28.881237030029297,
          -30.414621353149414,
          -31.319759368896484,
          -32.946895599365234
         ],
         "yaxis": "y"
        },
        {
         "hovertemplate": "color=skills_group_17<br>x=%{x}<br>y=%{y}<br>text=%{text}<extra></extra>",
         "legendgroup": "skills_group_17",
         "marker": {
          "color": "#00cc96",
          "symbol": "circle"
         },
         "mode": "markers+text",
         "name": "skills_group_17",
         "orientation": "v",
         "showlegend": true,
         "text": [
          "Bash/Shell",
          "Perl",
          "Vim"
         ],
         "textposition": "top center",
         "type": "scatter",
         "x": [
          23.64014434814453,
          25.263534545898438,
          22.831214904785156
         ],
         "xaxis": "x",
         "y": [
          -7.519100666046143,
          -8.1067476272583,
          -7.390384674072266
         ],
         "yaxis": "y"
        },
        {
         "hovertemplate": "color=skills_group_0<br>x=%{x}<br>y=%{y}<br>text=%{text}<extra></extra>",
         "legendgroup": "skills_group_0",
         "marker": {
          "color": "#ab63fa",
          "symbol": "circle"
         },
         "mode": "markers+text",
         "name": "skills_group_0",
         "orientation": "v",
         "showlegend": true,
         "text": [
          "C#",
          "F#",
          "PowerShell",
          "SQL",
          "VBA",
          "Microsoft SQL Server",
          "Microsoft Azure",
          "ASP.NET",
          "ASP.NET Core ",
          ".NET Core / .NET 5",
          ".NET Framework",
          "Xamarin",
          "Notepad++",
          "Rider",
          "Visual Studio"
         ],
         "textposition": "top center",
         "type": "scatter",
         "x": [
          -34.041500091552734,
          -39.79291915893555,
          -40.05680465698242,
          -36.36054229736328,
          -33.73637771606445,
          -35.626861572265625,
          -37.95013427734375,
          -34.314453125,
          -36.80746078491211,
          -36.84953308105469,
          -33.85325622558594,
          -35.45545959472656,
          -29.72185516357422,
          -38.028602600097656,
          -31.604677200317383
         ],
         "xaxis": "x",
         "y": [
          -17.747013092041016,
          -20.20358657836914,
          -16.24436378479004,
          -9.352533340454102,
          -11.40825366973877,
          -11.952383995056152,
          -13.491954803466797,
          -14.853256225585938,
          -16.045366287231445,
          -17.3470516204834,
          -16.505739212036133,
          -20.31885528564453,
          -18.113521575927734,
          -18.88852882385254,
          -18.05339241027832
         ],
         "yaxis": "y"
        },
        {
         "hovertemplate": "color=skills_group_4<br>x=%{x}<br>y=%{y}<br>text=%{text}<extra></extra>",
         "legendgroup": "skills_group_4",
         "marker": {
          "color": "#FFA15A",
          "symbol": "circle"
         },
         "mode": "markers+text",
         "name": "skills_group_4",
         "orientation": "v",
         "showlegend": true,
         "text": [
          "Clojure",
          "Haskell",
          "LISP",
          "Rust",
          "Emacs",
          "Neovim"
         ],
         "textposition": "top center",
         "type": "scatter",
         "x": [
          12.155827522277832,
          14.736982345581055,
          13.394274711608887,
          17.140485763549805,
          12.799649238586426,
          17.89353370666504
         ],
         "xaxis": "x",
         "y": [
          -15.157052040100098,
          -11.179423332214355,
          -13.240665435791016,
          -8.837827682495117,
          -14.231745719909668,
          -8.391327857971191
         ],
         "yaxis": "y"
        },
        {
         "hovertemplate": "color=skills_group_10<br>x=%{x}<br>y=%{y}<br>text=%{text}<extra></extra>",
         "legendgroup": "skills_group_10",
         "marker": {
          "color": "#19d3f3",
          "symbol": "circle"
         },
         "mode": "markers+text",
         "name": "skills_group_10",
         "orientation": "v",
         "showlegend": true,
         "text": [
          "Dart",
          "Kotlin",
          "Firebase",
          "SQLite",
          "Google Cloud Platform",
          "Flutter",
          "Android Studio"
         ],
         "textposition": "top center",
         "type": "scatter",
         "x": [
          -7.329716205596924,
          -9.231476783752441,
          -5.030995845794678,
          -11.756863594055176,
          -4.067318439483643,
          -7.59139347076416,
          -9.088363647460938
         ],
         "xaxis": "x",
         "y": [
          11.138964653015137,
          6.6806511878967285,
          7.5927348136901855,
          8.718189239501953,
          7.34816312789917,
          10.406889915466309,
          7.836315631866455
         ],
         "yaxis": "y"
        },
        {
         "hovertemplate": "color=skills_group_21<br>x=%{x}<br>y=%{y}<br>text=%{text}<extra></extra>",
         "legendgroup": "skills_group_21",
         "marker": {
          "color": "#FF6692",
          "symbol": "circle"
         },
         "mode": "markers+text",
         "name": "skills_group_21",
         "orientation": "v",
         "showlegend": true,
         "text": [
          "Elixir",
          "Erlang"
         ],
         "textposition": "top center",
         "type": "scatter",
         "x": [
          4.468845367431641,
          4.92724609375
         ],
         "xaxis": "x",
         "y": [
          -9.763753890991211,
          -10.312592506408691
         ],
         "yaxis": "y"
        },
        {
         "hovertemplate": "color=skills_group_5<br>x=%{x}<br>y=%{y}<br>text=%{text}<extra></extra>",
         "legendgroup": "skills_group_5",
         "marker": {
          "color": "#B6E880",
          "symbol": "circle"
         },
         "mode": "markers+text",
         "name": "skills_group_5",
         "orientation": "v",
         "showlegend": true,
         "text": [
          "Go",
          "DynamoDB",
          "PostgreSQL",
          "AWS",
          "Docker",
          "Git",
          "Kubernetes"
         ],
         "textposition": "top center",
         "type": "scatter",
         "x": [
          25.13928985595703,
          32.892333984375,
          29.5727481842041,
          32.20885467529297,
          27.817096710205078,
          26.87221336364746,
          27.125883102416992
         ],
         "xaxis": "x",
         "y": [
          11.04092025756836,
          13.181143760681152,
          9.463516235351562,
          12.563175201416016,
          10.281559944152832,
          8.16234302520752,
          11.336771011352539
         ],
         "yaxis": "y"
        },
        {
         "hovertemplate": "color=skills_group_1<br>x=%{x}<br>y=%{y}<br>text=%{text}<extra></extra>",
         "legendgroup": "skills_group_1",
         "marker": {
          "color": "#FF97FF",
          "symbol": "circle"
         },
         "mode": "markers+text",
         "name": "skills_group_1",
         "orientation": "v",
         "showlegend": true,
         "text": [
          "Groovy",
          "Java",
          "Oracle",
          "Oracle Cloud Infrastructure",
          "Spring",
          "Atom",
          "Eclipse",
          "IntelliJ",
          "NetBeans",
          "Sublime Text"
         ],
         "textposition": "top center",
         "type": "scatter",
         "x": [
          -10.298093795776367,
          -13.358845710754395,
          -11.008601188659668,
          -9.102702140808105,
          -11.721961975097656,
          -18.888471603393555,
          -15.836584091186523,
          -13.380680084228516,
          -16.594959259033203,
          -20.067956924438477
         ],
         "xaxis": "x",
         "y": [
          -3.846508741378784,
          -4.93726110458374,
          -8.110445976257324,
          -10.129937171936035,
          -5.042350769042969,
          -5.785920143127441,
          -6.468469619750977,
          -3.96736216545105,
          -7.519139766693115,
          -5.783740997314453
         ],
         "yaxis": "y"
        },
        {
         "hovertemplate": "color=skills_group_6<br>x=%{x}<br>y=%{y}<br>text=%{text}<extra></extra>",
         "legendgroup": "skills_group_6",
         "marker": {
          "color": "#FECB52",
          "symbol": "circle"
         },
         "mode": "markers+text",
         "name": "skills_group_6",
         "orientation": "v",
         "showlegend": true,
         "text": [
          "HTML/CSS",
          "JavaScript",
          "jQuery",
          "Visual Studio Code"
         ],
         "textposition": "top center",
         "type": "scatter",
         "x": [
          -17.07749366760254,
          -16.40912437438965,
          -19.273784637451172,
          -14.828798294067383
         ],
         "xaxis": "x",
         "y": [
          24.35711669921875,
          24.8319034576416,
          21.6636905670166,
          26.268451690673828
         ],
         "yaxis": "y"
        },
        {
         "hovertemplate": "color=skills_group_14<br>x=%{x}<br>y=%{y}<br>text=%{text}<extra></extra>",
         "legendgroup": "skills_group_14",
         "marker": {
          "color": "#636efa",
          "symbol": "circle"
         },
         "mode": "markers+text",
         "name": "skills_group_14",
         "orientation": "v",
         "showlegend": true,
         "text": [
          "Julia",
          "R",
          "RStudio"
         ],
         "textposition": "top center",
         "type": "scatter",
         "x": [
          18.4842529296875,
          19.641063690185547,
          20.17688751220703
         ],
         "xaxis": "x",
         "y": [
          -42.43752670288086,
          -43.83460235595703,
          -44.47732925415039
         ],
         "yaxis": "y"
        },
        {
         "hovertemplate": "color=skills_group_2<br>x=%{x}<br>y=%{y}<br>text=%{text}<extra></extra>",
         "legendgroup": "skills_group_2",
         "marker": {
          "color": "#EF553B",
          "symbol": "circle"
         },
         "mode": "markers+text",
         "name": "skills_group_2",
         "orientation": "v",
         "showlegend": true,
         "text": [
          "Matlab",
          "Python",
          "Django",
          "FastAPI",
          "Flask",
          "NumPy",
          "Pandas",
          "IPython/Jupyter",
          "PyCharm"
         ],
         "textposition": "top center",
         "type": "scatter",
         "x": [
          19.505714416503906,
          23.034175872802734,
          23.996599197387695,
          26.896133422851562,
          25.152446746826172,
          22.06524658203125,
          22.814613342285156,
          22.533390045166016,
          21.61777687072754
         ],
         "xaxis": "x",
         "y": [
          -34.57096481323242,
          -31.378711700439453,
          -29.19670295715332,
          -30.662940979003906,
          -30.705448150634766,
          -34.44951629638672,
          -34.840118408203125,
          -36.537418365478516,
          -30.79319953918457
         ],
         "yaxis": "y"
        },
        {
         "hovertemplate": "color=skills_group_11<br>x=%{x}<br>y=%{y}<br>text=%{text}<extra></extra>",
         "legendgroup": "skills_group_11",
         "marker": {
          "color": "#00cc96",
          "symbol": "circle"
         },
         "mode": "markers+text",
         "name": "skills_group_11",
         "orientation": "v",
         "showlegend": true,
         "text": [
          "Node.js",
          "MongoDB",
          "Heroku",
          "Express",
          "Gatsby",
          "React.js",
          "React Native",
          "Yarn"
         ],
         "textposition": "top center",
         "type": "scatter",
         "x": [
          -9.089637756347656,
          -10.695318222045898,
          -8.251350402832031,
          -9.182636260986328,
          -4.8670220375061035,
          -6.8375444412231445,
          -7.629143714904785,
          -5.558908939361572
         ],
         "xaxis": "x",
         "y": [
          28.698898315429688,
          30.382999420166016,
          31.530752182006836,
          29.69664192199707,
          25.621126174926758,
          26.768770217895508,
          25.31478500366211,
          27.977649688720703
         ],
         "yaxis": "y"
        },
        {
         "hovertemplate": "color=skills_group_18<br>x=%{x}<br>y=%{y}<br>text=%{text}<extra></extra>",
         "legendgroup": "skills_group_18",
         "marker": {
          "color": "#ab63fa",
          "symbol": "circle"
         },
         "mode": "markers+text",
         "name": "skills_group_18",
         "orientation": "v",
         "showlegend": true,
         "text": [
          "Objective-C",
          "Swift",
          "Xcode"
         ],
         "textposition": "top center",
         "type": "scatter",
         "x": [
          3.068591594696045,
          2.7411797046661377,
          2.7694451808929443
         ],
         "xaxis": "x",
         "y": [
          16.919607162475586,
          15.662923812866211,
          14.837430000305176
         ],
         "yaxis": "y"
        },
        {
         "hovertemplate": "color=skills_group_3<br>x=%{x}<br>y=%{y}<br>text=%{text}<extra></extra>",
         "legendgroup": "skills_group_3",
         "marker": {
          "color": "#FFA15A",
          "symbol": "circle"
         },
         "mode": "markers+text",
         "name": "skills_group_3",
         "orientation": "v",
         "showlegend": true,
         "text": [
          "PHP",
          "MariaDB",
          "MySQL",
          "Drupal",
          "Laravel",
          "Symfony",
          "Vue.js",
          "PHPStorm",
          "Webstorm"
         ],
         "textposition": "top center",
         "type": "scatter",
         "x": [
          -23.84740447998047,
          -21.709585189819336,
          -22.814472198486328,
          -29.252418518066406,
          -24.329256057739258,
          -27.679462432861328,
          -24.30047607421875,
          -25.89703941345215,
          -26.583059310913086
         ],
         "xaxis": "x",
         "y": [
          16.52471923828125,
          16.77264404296875,
          14.836433410644531,
          17.35724639892578,
          17.66362762451172,
          16.644332885742188,
          19.765079498291016,
          15.787395477294922,
          13.61266803741455
         ],
         "yaxis": "y"
        },
        {
         "hovertemplate": "color=skills_group_8<br>x=%{x}<br>y=%{y}<br>text=%{text}<extra></extra>",
         "legendgroup": "skills_group_8",
         "marker": {
          "color": "#19d3f3",
          "symbol": "circle"
         },
         "mode": "markers+text",
         "name": "skills_group_8",
         "orientation": "v",
         "showlegend": true,
         "text": [
          "Ruby",
          "Ruby on Rails",
          "RubyMine",
          "TextMate"
         ],
         "textposition": "top center",
         "type": "scatter",
         "x": [
          11.202567100524902,
          11.521328926086426,
          10.061626434326172,
          8.811814308166504
         ],
         "xaxis": "x",
         "y": [
          7.469096660614014,
          8.109219551086426,
          9.3069429397583,
          10.618660926818848
         ],
         "yaxis": "y"
        },
        {
         "hovertemplate": "color=skills_group_19<br>x=%{x}<br>y=%{y}<br>text=%{text}<extra></extra>",
         "legendgroup": "skills_group_19",
         "marker": {
          "color": "#FF6692",
          "symbol": "circle"
         },
         "mode": "markers+text",
         "name": "skills_group_19",
         "orientation": "v",
         "showlegend": true,
         "text": [
          "Scala",
          "Apache Spark",
          "Hadoop"
         ],
         "textposition": "top center",
         "type": "scatter",
         "x": [
          42.183990478515625,
          41.53350830078125,
          41.1962776184082
         ],
         "xaxis": "x",
         "y": [
          -1.6213607788085938,
          -0.3107709586620331,
          0.42839860916137695
         ],
         "yaxis": "y"
        },
        {
         "hovertemplate": "color=skills_group_16<br>x=%{x}<br>y=%{y}<br>text=%{text}<extra></extra>",
         "legendgroup": "skills_group_16",
         "marker": {
          "color": "#B6E880",
          "symbol": "circle"
         },
         "mode": "markers+text",
         "name": "skills_group_16",
         "orientation": "v",
         "showlegend": true,
         "text": [
          "TypeScript",
          "Angular",
          "Angular.js",
          "Cordova"
         ],
         "textposition": "top center",
         "type": "scatter",
         "x": [
          -15.805586814880371,
          -16.636886596679688,
          -18.216371536254883,
          -16.482362747192383
         ],
         "xaxis": "x",
         "y": [
          33.53732681274414,
          34.335792541503906,
          34.30891799926758,
          36.33305358886719
         ],
         "yaxis": "y"
        },
        {
         "hovertemplate": "color=skills_group_7<br>x=%{x}<br>y=%{y}<br>text=%{text}<extra></extra>",
         "legendgroup": "skills_group_7",
         "marker": {
          "color": "#FF97FF",
          "symbol": "circle"
         },
         "mode": "markers+text",
         "name": "skills_group_7",
         "orientation": "v",
         "showlegend": true,
         "text": [
          "Cassandra",
          "Couchbase",
          "Elasticsearch",
          "Redis",
          "DigitalOcean"
         ],
         "textposition": "top center",
         "type": "scatter",
         "x": [
          36.49906921386719,
          37.99031448364258,
          33.90730285644531,
          32.746734619140625,
          31.341672897338867
         ],
         "xaxis": "x",
         "y": [
          5.201533794403076,
          5.5916242599487305,
          6.201535224914551,
          6.160531520843506,
          4.770249366760254
         ],
         "yaxis": "y"
        },
        {
         "hovertemplate": "color=skills_group_15<br>x=%{x}<br>y=%{y}<br>text=%{text}<extra></extra>",
         "legendgroup": "skills_group_15",
         "marker": {
          "color": "#FECB52",
          "symbol": "circle"
         },
         "mode": "markers+text",
         "name": "skills_group_15",
         "orientation": "v",
         "showlegend": true,
         "text": [
          "Svelte",
          "Deno"
         ],
         "textposition": "top center",
         "type": "scatter",
         "x": [
          3.424455404281616,
          4.071319103240967
         ],
         "xaxis": "x",
         "y": [
          33.61847686767578,
          33.267845153808594
         ],
         "yaxis": "y"
        },
        {
         "hovertemplate": "color=skills_group_22<br>x=%{x}<br>y=%{y}<br>text=%{text}<extra></extra>",
         "legendgroup": "skills_group_22",
         "marker": {
          "color": "#636efa",
          "symbol": "circle"
         },
         "mode": "markers+text",
         "name": "skills_group_22",
         "orientation": "v",
         "showlegend": true,
         "text": [
          "Keras",
          "TensorFlow",
          "Torch/PyTorch"
         ],
         "textposition": "top center",
         "type": "scatter",
         "x": [
          26.76903533935547,
          26.631017684936523,
          26.477136611938477
         ],
         "xaxis": "x",
         "y": [
          -38.40042495727539,
          -39.2558479309082,
          -40.742042541503906
         ],
         "yaxis": "y"
        },
        {
         "hovertemplate": "color=skills_group_9<br>x=%{x}<br>y=%{y}<br>text=%{text}<extra></extra>",
         "legendgroup": "skills_group_9",
         "marker": {
          "color": "#EF553B",
          "symbol": "circle"
         },
         "mode": "markers+text",
         "name": "skills_group_9",
         "orientation": "v",
         "showlegend": true,
         "text": [
          "Ansible",
          "Chef",
          "Flow",
          "Pulumi",
          "Puppet",
          "Terraform"
         ],
         "textposition": "top center",
         "type": "scatter",
         "x": [
          27.567960739135742,
          26.523208618164062,
          22.652482986450195,
          24.195362091064453,
          27.024356842041016,
          26.442440032958984
         ],
         "xaxis": "x",
         "y": [
          15.220502853393555,
          20.165544509887695,
          17.336915969848633,
          15.969285011291504,
          20.7835636138916,
          14.133480072021484
         ],
         "yaxis": "y"
        },
        {
         "hovertemplate": "color=skills_group_13<br>x=%{x}<br>y=%{y}<br>text=%{text}<extra></extra>",
         "legendgroup": "skills_group_13",
         "marker": {
          "color": "#00cc96",
          "symbol": "circle"
         },
         "mode": "markers+text",
         "name": "skills_group_13",
         "orientation": "v",
         "showlegend": true,
         "text": [
          "Unity 3D",
          "Unreal Engine"
         ],
         "textposition": "top center",
         "type": "scatter",
         "x": [
          -28.209293365478516,
          -27.71567726135254
         ],
         "xaxis": "x",
         "y": [
          -27.356874465942383,
          -27.913658142089844
         ],
         "yaxis": "y"
        }
       ],
       "layout": {
        "height": 800,
        "legend": {
         "title": {
          "text": "color"
         },
         "tracegroupgap": 0
        },
        "margin": {
         "t": 60
        },
        "template": {
         "data": {
          "bar": [
           {
            "error_x": {
             "color": "#2a3f5f"
            },
            "error_y": {
             "color": "#2a3f5f"
            },
            "marker": {
             "line": {
              "color": "#E5ECF6",
              "width": 0.5
             },
             "pattern": {
              "fillmode": "overlay",
              "size": 10,
              "solidity": 0.2
             }
            },
            "type": "bar"
           }
          ],
          "barpolar": [
           {
            "marker": {
             "line": {
              "color": "#E5ECF6",
              "width": 0.5
             },
             "pattern": {
              "fillmode": "overlay",
              "size": 10,
              "solidity": 0.2
             }
            },
            "type": "barpolar"
           }
          ],
          "carpet": [
           {
            "aaxis": {
             "endlinecolor": "#2a3f5f",
             "gridcolor": "white",
             "linecolor": "white",
             "minorgridcolor": "white",
             "startlinecolor": "#2a3f5f"
            },
            "baxis": {
             "endlinecolor": "#2a3f5f",
             "gridcolor": "white",
             "linecolor": "white",
             "minorgridcolor": "white",
             "startlinecolor": "#2a3f5f"
            },
            "type": "carpet"
           }
          ],
          "choropleth": [
           {
            "colorbar": {
             "outlinewidth": 0,
             "ticks": ""
            },
            "type": "choropleth"
           }
          ],
          "contour": [
           {
            "colorbar": {
             "outlinewidth": 0,
             "ticks": ""
            },
            "colorscale": [
             [
              0,
              "#0d0887"
             ],
             [
              0.1111111111111111,
              "#46039f"
             ],
             [
              0.2222222222222222,
              "#7201a8"
             ],
             [
              0.3333333333333333,
              "#9c179e"
             ],
             [
              0.4444444444444444,
              "#bd3786"
             ],
             [
              0.5555555555555556,
              "#d8576b"
             ],
             [
              0.6666666666666666,
              "#ed7953"
             ],
             [
              0.7777777777777778,
              "#fb9f3a"
             ],
             [
              0.8888888888888888,
              "#fdca26"
             ],
             [
              1,
              "#f0f921"
             ]
            ],
            "type": "contour"
           }
          ],
          "contourcarpet": [
           {
            "colorbar": {
             "outlinewidth": 0,
             "ticks": ""
            },
            "type": "contourcarpet"
           }
          ],
          "heatmap": [
           {
            "colorbar": {
             "outlinewidth": 0,
             "ticks": ""
            },
            "colorscale": [
             [
              0,
              "#0d0887"
             ],
             [
              0.1111111111111111,
              "#46039f"
             ],
             [
              0.2222222222222222,
              "#7201a8"
             ],
             [
              0.3333333333333333,
              "#9c179e"
             ],
             [
              0.4444444444444444,
              "#bd3786"
             ],
             [
              0.5555555555555556,
              "#d8576b"
             ],
             [
              0.6666666666666666,
              "#ed7953"
             ],
             [
              0.7777777777777778,
              "#fb9f3a"
             ],
             [
              0.8888888888888888,
              "#fdca26"
             ],
             [
              1,
              "#f0f921"
             ]
            ],
            "type": "heatmap"
           }
          ],
          "heatmapgl": [
           {
            "colorbar": {
             "outlinewidth": 0,
             "ticks": ""
            },
            "colorscale": [
             [
              0,
              "#0d0887"
             ],
             [
              0.1111111111111111,
              "#46039f"
             ],
             [
              0.2222222222222222,
              "#7201a8"
             ],
             [
              0.3333333333333333,
              "#9c179e"
             ],
             [
              0.4444444444444444,
              "#bd3786"
             ],
             [
              0.5555555555555556,
              "#d8576b"
             ],
             [
              0.6666666666666666,
              "#ed7953"
             ],
             [
              0.7777777777777778,
              "#fb9f3a"
             ],
             [
              0.8888888888888888,
              "#fdca26"
             ],
             [
              1,
              "#f0f921"
             ]
            ],
            "type": "heatmapgl"
           }
          ],
          "histogram": [
           {
            "marker": {
             "pattern": {
              "fillmode": "overlay",
              "size": 10,
              "solidity": 0.2
             }
            },
            "type": "histogram"
           }
          ],
          "histogram2d": [
           {
            "colorbar": {
             "outlinewidth": 0,
             "ticks": ""
            },
            "colorscale": [
             [
              0,
              "#0d0887"
             ],
             [
              0.1111111111111111,
              "#46039f"
             ],
             [
              0.2222222222222222,
              "#7201a8"
             ],
             [
              0.3333333333333333,
              "#9c179e"
             ],
             [
              0.4444444444444444,
              "#bd3786"
             ],
             [
              0.5555555555555556,
              "#d8576b"
             ],
             [
              0.6666666666666666,
              "#ed7953"
             ],
             [
              0.7777777777777778,
              "#fb9f3a"
             ],
             [
              0.8888888888888888,
              "#fdca26"
             ],
             [
              1,
              "#f0f921"
             ]
            ],
            "type": "histogram2d"
           }
          ],
          "histogram2dcontour": [
           {
            "colorbar": {
             "outlinewidth": 0,
             "ticks": ""
            },
            "colorscale": [
             [
              0,
              "#0d0887"
             ],
             [
              0.1111111111111111,
              "#46039f"
             ],
             [
              0.2222222222222222,
              "#7201a8"
             ],
             [
              0.3333333333333333,
              "#9c179e"
             ],
             [
              0.4444444444444444,
              "#bd3786"
             ],
             [
              0.5555555555555556,
              "#d8576b"
             ],
             [
              0.6666666666666666,
              "#ed7953"
             ],
             [
              0.7777777777777778,
              "#fb9f3a"
             ],
             [
              0.8888888888888888,
              "#fdca26"
             ],
             [
              1,
              "#f0f921"
             ]
            ],
            "type": "histogram2dcontour"
           }
          ],
          "mesh3d": [
           {
            "colorbar": {
             "outlinewidth": 0,
             "ticks": ""
            },
            "type": "mesh3d"
           }
          ],
          "parcoords": [
           {
            "line": {
             "colorbar": {
              "outlinewidth": 0,
              "ticks": ""
             }
            },
            "type": "parcoords"
           }
          ],
          "pie": [
           {
            "automargin": true,
            "type": "pie"
           }
          ],
          "scatter": [
           {
            "fillpattern": {
             "fillmode": "overlay",
             "size": 10,
             "solidity": 0.2
            },
            "type": "scatter"
           }
          ],
          "scatter3d": [
           {
            "line": {
             "colorbar": {
              "outlinewidth": 0,
              "ticks": ""
             }
            },
            "marker": {
             "colorbar": {
              "outlinewidth": 0,
              "ticks": ""
             }
            },
            "type": "scatter3d"
           }
          ],
          "scattercarpet": [
           {
            "marker": {
             "colorbar": {
              "outlinewidth": 0,
              "ticks": ""
             }
            },
            "type": "scattercarpet"
           }
          ],
          "scattergeo": [
           {
            "marker": {
             "colorbar": {
              "outlinewidth": 0,
              "ticks": ""
             }
            },
            "type": "scattergeo"
           }
          ],
          "scattergl": [
           {
            "marker": {
             "colorbar": {
              "outlinewidth": 0,
              "ticks": ""
             }
            },
            "type": "scattergl"
           }
          ],
          "scattermapbox": [
           {
            "marker": {
             "colorbar": {
              "outlinewidth": 0,
              "ticks": ""
             }
            },
            "type": "scattermapbox"
           }
          ],
          "scatterpolar": [
           {
            "marker": {
             "colorbar": {
              "outlinewidth": 0,
              "ticks": ""
             }
            },
            "type": "scatterpolar"
           }
          ],
          "scatterpolargl": [
           {
            "marker": {
             "colorbar": {
              "outlinewidth": 0,
              "ticks": ""
             }
            },
            "type": "scatterpolargl"
           }
          ],
          "scatterternary": [
           {
            "marker": {
             "colorbar": {
              "outlinewidth": 0,
              "ticks": ""
             }
            },
            "type": "scatterternary"
           }
          ],
          "surface": [
           {
            "colorbar": {
             "outlinewidth": 0,
             "ticks": ""
            },
            "colorscale": [
             [
              0,
              "#0d0887"
             ],
             [
              0.1111111111111111,
              "#46039f"
             ],
             [
              0.2222222222222222,
              "#7201a8"
             ],
             [
              0.3333333333333333,
              "#9c179e"
             ],
             [
              0.4444444444444444,
              "#bd3786"
             ],
             [
              0.5555555555555556,
              "#d8576b"
             ],
             [
              0.6666666666666666,
              "#ed7953"
             ],
             [
              0.7777777777777778,
              "#fb9f3a"
             ],
             [
              0.8888888888888888,
              "#fdca26"
             ],
             [
              1,
              "#f0f921"
             ]
            ],
            "type": "surface"
           }
          ],
          "table": [
           {
            "cells": {
             "fill": {
              "color": "#EBF0F8"
             },
             "line": {
              "color": "white"
             }
            },
            "header": {
             "fill": {
              "color": "#C8D4E3"
             },
             "line": {
              "color": "white"
             }
            },
            "type": "table"
           }
          ]
         },
         "layout": {
          "annotationdefaults": {
           "arrowcolor": "#2a3f5f",
           "arrowhead": 0,
           "arrowwidth": 1
          },
          "autotypenumbers": "strict",
          "coloraxis": {
           "colorbar": {
            "outlinewidth": 0,
            "ticks": ""
           }
          },
          "colorscale": {
           "diverging": [
            [
             0,
             "#8e0152"
            ],
            [
             0.1,
             "#c51b7d"
            ],
            [
             0.2,
             "#de77ae"
            ],
            [
             0.3,
             "#f1b6da"
            ],
            [
             0.4,
             "#fde0ef"
            ],
            [
             0.5,
             "#f7f7f7"
            ],
            [
             0.6,
             "#e6f5d0"
            ],
            [
             0.7,
             "#b8e186"
            ],
            [
             0.8,
             "#7fbc41"
            ],
            [
             0.9,
             "#4d9221"
            ],
            [
             1,
             "#276419"
            ]
           ],
           "sequential": [
            [
             0,
             "#0d0887"
            ],
            [
             0.1111111111111111,
             "#46039f"
            ],
            [
             0.2222222222222222,
             "#7201a8"
            ],
            [
             0.3333333333333333,
             "#9c179e"
            ],
            [
             0.4444444444444444,
             "#bd3786"
            ],
            [
             0.5555555555555556,
             "#d8576b"
            ],
            [
             0.6666666666666666,
             "#ed7953"
            ],
            [
             0.7777777777777778,
             "#fb9f3a"
            ],
            [
             0.8888888888888888,
             "#fdca26"
            ],
            [
             1,
             "#f0f921"
            ]
           ],
           "sequentialminus": [
            [
             0,
             "#0d0887"
            ],
            [
             0.1111111111111111,
             "#46039f"
            ],
            [
             0.2222222222222222,
             "#7201a8"
            ],
            [
             0.3333333333333333,
             "#9c179e"
            ],
            [
             0.4444444444444444,
             "#bd3786"
            ],
            [
             0.5555555555555556,
             "#d8576b"
            ],
            [
             0.6666666666666666,
             "#ed7953"
            ],
            [
             0.7777777777777778,
             "#fb9f3a"
            ],
            [
             0.8888888888888888,
             "#fdca26"
            ],
            [
             1,
             "#f0f921"
            ]
           ]
          },
          "colorway": [
           "#636efa",
           "#EF553B",
           "#00cc96",
           "#ab63fa",
           "#FFA15A",
           "#19d3f3",
           "#FF6692",
           "#B6E880",
           "#FF97FF",
           "#FECB52"
          ],
          "font": {
           "color": "#2a3f5f"
          },
          "geo": {
           "bgcolor": "white",
           "lakecolor": "white",
           "landcolor": "#E5ECF6",
           "showlakes": true,
           "showland": true,
           "subunitcolor": "white"
          },
          "hoverlabel": {
           "align": "left"
          },
          "hovermode": "closest",
          "mapbox": {
           "style": "light"
          },
          "paper_bgcolor": "white",
          "plot_bgcolor": "#E5ECF6",
          "polar": {
           "angularaxis": {
            "gridcolor": "white",
            "linecolor": "white",
            "ticks": ""
           },
           "bgcolor": "#E5ECF6",
           "radialaxis": {
            "gridcolor": "white",
            "linecolor": "white",
            "ticks": ""
           }
          },
          "scene": {
           "xaxis": {
            "backgroundcolor": "#E5ECF6",
            "gridcolor": "white",
            "gridwidth": 2,
            "linecolor": "white",
            "showbackground": true,
            "ticks": "",
            "zerolinecolor": "white"
           },
           "yaxis": {
            "backgroundcolor": "#E5ECF6",
            "gridcolor": "white",
            "gridwidth": 2,
            "linecolor": "white",
            "showbackground": true,
            "ticks": "",
            "zerolinecolor": "white"
           },
           "zaxis": {
            "backgroundcolor": "#E5ECF6",
            "gridcolor": "white",
            "gridwidth": 2,
            "linecolor": "white",
            "showbackground": true,
            "ticks": "",
            "zerolinecolor": "white"
           }
          },
          "shapedefaults": {
           "line": {
            "color": "#2a3f5f"
           }
          },
          "ternary": {
           "aaxis": {
            "gridcolor": "white",
            "linecolor": "white",
            "ticks": ""
           },
           "baxis": {
            "gridcolor": "white",
            "linecolor": "white",
            "ticks": ""
           },
           "bgcolor": "#E5ECF6",
           "caxis": {
            "gridcolor": "white",
            "linecolor": "white",
            "ticks": ""
           }
          },
          "title": {
           "x": 0.05
          },
          "xaxis": {
           "automargin": true,
           "gridcolor": "white",
           "linecolor": "white",
           "ticks": "",
           "title": {
            "standoff": 15
           },
           "zerolinecolor": "white",
           "zerolinewidth": 2
          },
          "yaxis": {
           "automargin": true,
           "gridcolor": "white",
           "linecolor": "white",
           "ticks": "",
           "title": {
            "standoff": 15
           },
           "zerolinecolor": "white",
           "zerolinewidth": 2
          }
         }
        },
        "title": {
         "text": "Cluster"
        },
        "width": 1000,
        "xaxis": {
         "anchor": "y",
         "domain": [
          0,
          1
         ],
         "title": {
          "text": "x"
         }
        },
        "yaxis": {
         "anchor": "x",
         "domain": [
          0,
          1
         ],
         "title": {
          "text": "y"
         }
        }
       }
      },
      "text/html": [
       "<div>                            <div id=\"b8ab4c11-c61c-4279-a714-d42cd0b34c73\" class=\"plotly-graph-div\" style=\"height:800px; width:1000px;\"></div>            <script type=\"text/javascript\">                require([\"plotly\"], function(Plotly) {                    window.PLOTLYENV=window.PLOTLYENV || {};                                    if (document.getElementById(\"b8ab4c11-c61c-4279-a714-d42cd0b34c73\")) {                    Plotly.newPlot(                        \"b8ab4c11-c61c-4279-a714-d42cd0b34c73\",                        [{\"hovertemplate\":\"color=skills_group_20<br>x=%{x}<br>y=%{y}<br>text=%{text}<extra></extra>\",\"legendgroup\":\"skills_group_20\",\"marker\":{\"color\":\"#636efa\",\"symbol\":\"circle\"},\"mode\":\"markers+text\",\"name\":\"skills_group_20\",\"orientation\":\"v\",\"showlegend\":true,\"text\":[\"APL\",\"COBOL\",\"Crystal\",\"Delphi\",\"IBM DB2\",\"IBM Cloud or Watson\"],\"x\":[-2.575763463973999,-4.335339069366455,-2.443270444869995,-5.376459121704102,-5.515464782714844,-6.926986217498779],\"xaxis\":\"x\",\"y\":[-15.093415260314941,-13.974674224853516,-12.87404727935791,-16.085420608520508,-13.075424194335938,-11.979910850524902],\"yaxis\":\"y\",\"type\":\"scatter\",\"textposition\":\"top center\"},{\"hovertemplate\":\"color=skills_group_12<br>x=%{x}<br>y=%{y}<br>text=%{text}<extra></extra>\",\"legendgroup\":\"skills_group_12\",\"marker\":{\"color\":\"#EF553B\",\"symbol\":\"circle\"},\"mode\":\"markers+text\",\"name\":\"skills_group_12\",\"orientation\":\"v\",\"showlegend\":true,\"text\":[\"Assembly\",\"C\",\"C++\",\"Qt\"],\"x\":[11.196431159973145,11.25922679901123,11.135211944580078,10.818058967590332],\"xaxis\":\"x\",\"y\":[-28.881237030029297,-30.414621353149414,-31.319759368896484,-32.946895599365234],\"yaxis\":\"y\",\"type\":\"scatter\",\"textposition\":\"top center\"},{\"hovertemplate\":\"color=skills_group_17<br>x=%{x}<br>y=%{y}<br>text=%{text}<extra></extra>\",\"legendgroup\":\"skills_group_17\",\"marker\":{\"color\":\"#00cc96\",\"symbol\":\"circle\"},\"mode\":\"markers+text\",\"name\":\"skills_group_17\",\"orientation\":\"v\",\"showlegend\":true,\"text\":[\"Bash/Shell\",\"Perl\",\"Vim\"],\"x\":[23.64014434814453,25.263534545898438,22.831214904785156],\"xaxis\":\"x\",\"y\":[-7.519100666046143,-8.1067476272583,-7.390384674072266],\"yaxis\":\"y\",\"type\":\"scatter\",\"textposition\":\"top center\"},{\"hovertemplate\":\"color=skills_group_0<br>x=%{x}<br>y=%{y}<br>text=%{text}<extra></extra>\",\"legendgroup\":\"skills_group_0\",\"marker\":{\"color\":\"#ab63fa\",\"symbol\":\"circle\"},\"mode\":\"markers+text\",\"name\":\"skills_group_0\",\"orientation\":\"v\",\"showlegend\":true,\"text\":[\"C#\",\"F#\",\"PowerShell\",\"SQL\",\"VBA\",\"Microsoft SQL Server\",\"Microsoft Azure\",\"ASP.NET\",\"ASP.NET Core \",\".NET Core / .NET 5\",\".NET Framework\",\"Xamarin\",\"Notepad++\",\"Rider\",\"Visual Studio\"],\"x\":[-34.041500091552734,-39.79291915893555,-40.05680465698242,-36.36054229736328,-33.73637771606445,-35.626861572265625,-37.95013427734375,-34.314453125,-36.80746078491211,-36.84953308105469,-33.85325622558594,-35.45545959472656,-29.72185516357422,-38.028602600097656,-31.604677200317383],\"xaxis\":\"x\",\"y\":[-17.747013092041016,-20.20358657836914,-16.24436378479004,-9.352533340454102,-11.40825366973877,-11.952383995056152,-13.491954803466797,-14.853256225585938,-16.045366287231445,-17.3470516204834,-16.505739212036133,-20.31885528564453,-18.113521575927734,-18.88852882385254,-18.05339241027832],\"yaxis\":\"y\",\"type\":\"scatter\",\"textposition\":\"top center\"},{\"hovertemplate\":\"color=skills_group_4<br>x=%{x}<br>y=%{y}<br>text=%{text}<extra></extra>\",\"legendgroup\":\"skills_group_4\",\"marker\":{\"color\":\"#FFA15A\",\"symbol\":\"circle\"},\"mode\":\"markers+text\",\"name\":\"skills_group_4\",\"orientation\":\"v\",\"showlegend\":true,\"text\":[\"Clojure\",\"Haskell\",\"LISP\",\"Rust\",\"Emacs\",\"Neovim\"],\"x\":[12.155827522277832,14.736982345581055,13.394274711608887,17.140485763549805,12.799649238586426,17.89353370666504],\"xaxis\":\"x\",\"y\":[-15.157052040100098,-11.179423332214355,-13.240665435791016,-8.837827682495117,-14.231745719909668,-8.391327857971191],\"yaxis\":\"y\",\"type\":\"scatter\",\"textposition\":\"top center\"},{\"hovertemplate\":\"color=skills_group_10<br>x=%{x}<br>y=%{y}<br>text=%{text}<extra></extra>\",\"legendgroup\":\"skills_group_10\",\"marker\":{\"color\":\"#19d3f3\",\"symbol\":\"circle\"},\"mode\":\"markers+text\",\"name\":\"skills_group_10\",\"orientation\":\"v\",\"showlegend\":true,\"text\":[\"Dart\",\"Kotlin\",\"Firebase\",\"SQLite\",\"Google Cloud Platform\",\"Flutter\",\"Android Studio\"],\"x\":[-7.329716205596924,-9.231476783752441,-5.030995845794678,-11.756863594055176,-4.067318439483643,-7.59139347076416,-9.088363647460938],\"xaxis\":\"x\",\"y\":[11.138964653015137,6.6806511878967285,7.5927348136901855,8.718189239501953,7.34816312789917,10.406889915466309,7.836315631866455],\"yaxis\":\"y\",\"type\":\"scatter\",\"textposition\":\"top center\"},{\"hovertemplate\":\"color=skills_group_21<br>x=%{x}<br>y=%{y}<br>text=%{text}<extra></extra>\",\"legendgroup\":\"skills_group_21\",\"marker\":{\"color\":\"#FF6692\",\"symbol\":\"circle\"},\"mode\":\"markers+text\",\"name\":\"skills_group_21\",\"orientation\":\"v\",\"showlegend\":true,\"text\":[\"Elixir\",\"Erlang\"],\"x\":[4.468845367431641,4.92724609375],\"xaxis\":\"x\",\"y\":[-9.763753890991211,-10.312592506408691],\"yaxis\":\"y\",\"type\":\"scatter\",\"textposition\":\"top center\"},{\"hovertemplate\":\"color=skills_group_5<br>x=%{x}<br>y=%{y}<br>text=%{text}<extra></extra>\",\"legendgroup\":\"skills_group_5\",\"marker\":{\"color\":\"#B6E880\",\"symbol\":\"circle\"},\"mode\":\"markers+text\",\"name\":\"skills_group_5\",\"orientation\":\"v\",\"showlegend\":true,\"text\":[\"Go\",\"DynamoDB\",\"PostgreSQL\",\"AWS\",\"Docker\",\"Git\",\"Kubernetes\"],\"x\":[25.13928985595703,32.892333984375,29.5727481842041,32.20885467529297,27.817096710205078,26.87221336364746,27.125883102416992],\"xaxis\":\"x\",\"y\":[11.04092025756836,13.181143760681152,9.463516235351562,12.563175201416016,10.281559944152832,8.16234302520752,11.336771011352539],\"yaxis\":\"y\",\"type\":\"scatter\",\"textposition\":\"top center\"},{\"hovertemplate\":\"color=skills_group_1<br>x=%{x}<br>y=%{y}<br>text=%{text}<extra></extra>\",\"legendgroup\":\"skills_group_1\",\"marker\":{\"color\":\"#FF97FF\",\"symbol\":\"circle\"},\"mode\":\"markers+text\",\"name\":\"skills_group_1\",\"orientation\":\"v\",\"showlegend\":true,\"text\":[\"Groovy\",\"Java\",\"Oracle\",\"Oracle Cloud Infrastructure\",\"Spring\",\"Atom\",\"Eclipse\",\"IntelliJ\",\"NetBeans\",\"Sublime Text\"],\"x\":[-10.298093795776367,-13.358845710754395,-11.008601188659668,-9.102702140808105,-11.721961975097656,-18.888471603393555,-15.836584091186523,-13.380680084228516,-16.594959259033203,-20.067956924438477],\"xaxis\":\"x\",\"y\":[-3.846508741378784,-4.93726110458374,-8.110445976257324,-10.129937171936035,-5.042350769042969,-5.785920143127441,-6.468469619750977,-3.96736216545105,-7.519139766693115,-5.783740997314453],\"yaxis\":\"y\",\"type\":\"scatter\",\"textposition\":\"top center\"},{\"hovertemplate\":\"color=skills_group_6<br>x=%{x}<br>y=%{y}<br>text=%{text}<extra></extra>\",\"legendgroup\":\"skills_group_6\",\"marker\":{\"color\":\"#FECB52\",\"symbol\":\"circle\"},\"mode\":\"markers+text\",\"name\":\"skills_group_6\",\"orientation\":\"v\",\"showlegend\":true,\"text\":[\"HTML/CSS\",\"JavaScript\",\"jQuery\",\"Visual Studio Code\"],\"x\":[-17.07749366760254,-16.40912437438965,-19.273784637451172,-14.828798294067383],\"xaxis\":\"x\",\"y\":[24.35711669921875,24.8319034576416,21.6636905670166,26.268451690673828],\"yaxis\":\"y\",\"type\":\"scatter\",\"textposition\":\"top center\"},{\"hovertemplate\":\"color=skills_group_14<br>x=%{x}<br>y=%{y}<br>text=%{text}<extra></extra>\",\"legendgroup\":\"skills_group_14\",\"marker\":{\"color\":\"#636efa\",\"symbol\":\"circle\"},\"mode\":\"markers+text\",\"name\":\"skills_group_14\",\"orientation\":\"v\",\"showlegend\":true,\"text\":[\"Julia\",\"R\",\"RStudio\"],\"x\":[18.4842529296875,19.641063690185547,20.17688751220703],\"xaxis\":\"x\",\"y\":[-42.43752670288086,-43.83460235595703,-44.47732925415039],\"yaxis\":\"y\",\"type\":\"scatter\",\"textposition\":\"top center\"},{\"hovertemplate\":\"color=skills_group_2<br>x=%{x}<br>y=%{y}<br>text=%{text}<extra></extra>\",\"legendgroup\":\"skills_group_2\",\"marker\":{\"color\":\"#EF553B\",\"symbol\":\"circle\"},\"mode\":\"markers+text\",\"name\":\"skills_group_2\",\"orientation\":\"v\",\"showlegend\":true,\"text\":[\"Matlab\",\"Python\",\"Django\",\"FastAPI\",\"Flask\",\"NumPy\",\"Pandas\",\"IPython/Jupyter\",\"PyCharm\"],\"x\":[19.505714416503906,23.034175872802734,23.996599197387695,26.896133422851562,25.152446746826172,22.06524658203125,22.814613342285156,22.533390045166016,21.61777687072754],\"xaxis\":\"x\",\"y\":[-34.57096481323242,-31.378711700439453,-29.19670295715332,-30.662940979003906,-30.705448150634766,-34.44951629638672,-34.840118408203125,-36.537418365478516,-30.79319953918457],\"yaxis\":\"y\",\"type\":\"scatter\",\"textposition\":\"top center\"},{\"hovertemplate\":\"color=skills_group_11<br>x=%{x}<br>y=%{y}<br>text=%{text}<extra></extra>\",\"legendgroup\":\"skills_group_11\",\"marker\":{\"color\":\"#00cc96\",\"symbol\":\"circle\"},\"mode\":\"markers+text\",\"name\":\"skills_group_11\",\"orientation\":\"v\",\"showlegend\":true,\"text\":[\"Node.js\",\"MongoDB\",\"Heroku\",\"Express\",\"Gatsby\",\"React.js\",\"React Native\",\"Yarn\"],\"x\":[-9.089637756347656,-10.695318222045898,-8.251350402832031,-9.182636260986328,-4.8670220375061035,-6.8375444412231445,-7.629143714904785,-5.558908939361572],\"xaxis\":\"x\",\"y\":[28.698898315429688,30.382999420166016,31.530752182006836,29.69664192199707,25.621126174926758,26.768770217895508,25.31478500366211,27.977649688720703],\"yaxis\":\"y\",\"type\":\"scatter\",\"textposition\":\"top center\"},{\"hovertemplate\":\"color=skills_group_18<br>x=%{x}<br>y=%{y}<br>text=%{text}<extra></extra>\",\"legendgroup\":\"skills_group_18\",\"marker\":{\"color\":\"#ab63fa\",\"symbol\":\"circle\"},\"mode\":\"markers+text\",\"name\":\"skills_group_18\",\"orientation\":\"v\",\"showlegend\":true,\"text\":[\"Objective-C\",\"Swift\",\"Xcode\"],\"x\":[3.068591594696045,2.7411797046661377,2.7694451808929443],\"xaxis\":\"x\",\"y\":[16.919607162475586,15.662923812866211,14.837430000305176],\"yaxis\":\"y\",\"type\":\"scatter\",\"textposition\":\"top center\"},{\"hovertemplate\":\"color=skills_group_3<br>x=%{x}<br>y=%{y}<br>text=%{text}<extra></extra>\",\"legendgroup\":\"skills_group_3\",\"marker\":{\"color\":\"#FFA15A\",\"symbol\":\"circle\"},\"mode\":\"markers+text\",\"name\":\"skills_group_3\",\"orientation\":\"v\",\"showlegend\":true,\"text\":[\"PHP\",\"MariaDB\",\"MySQL\",\"Drupal\",\"Laravel\",\"Symfony\",\"Vue.js\",\"PHPStorm\",\"Webstorm\"],\"x\":[-23.84740447998047,-21.709585189819336,-22.814472198486328,-29.252418518066406,-24.329256057739258,-27.679462432861328,-24.30047607421875,-25.89703941345215,-26.583059310913086],\"xaxis\":\"x\",\"y\":[16.52471923828125,16.77264404296875,14.836433410644531,17.35724639892578,17.66362762451172,16.644332885742188,19.765079498291016,15.787395477294922,13.61266803741455],\"yaxis\":\"y\",\"type\":\"scatter\",\"textposition\":\"top center\"},{\"hovertemplate\":\"color=skills_group_8<br>x=%{x}<br>y=%{y}<br>text=%{text}<extra></extra>\",\"legendgroup\":\"skills_group_8\",\"marker\":{\"color\":\"#19d3f3\",\"symbol\":\"circle\"},\"mode\":\"markers+text\",\"name\":\"skills_group_8\",\"orientation\":\"v\",\"showlegend\":true,\"text\":[\"Ruby\",\"Ruby on Rails\",\"RubyMine\",\"TextMate\"],\"x\":[11.202567100524902,11.521328926086426,10.061626434326172,8.811814308166504],\"xaxis\":\"x\",\"y\":[7.469096660614014,8.109219551086426,9.3069429397583,10.618660926818848],\"yaxis\":\"y\",\"type\":\"scatter\",\"textposition\":\"top center\"},{\"hovertemplate\":\"color=skills_group_19<br>x=%{x}<br>y=%{y}<br>text=%{text}<extra></extra>\",\"legendgroup\":\"skills_group_19\",\"marker\":{\"color\":\"#FF6692\",\"symbol\":\"circle\"},\"mode\":\"markers+text\",\"name\":\"skills_group_19\",\"orientation\":\"v\",\"showlegend\":true,\"text\":[\"Scala\",\"Apache Spark\",\"Hadoop\"],\"x\":[42.183990478515625,41.53350830078125,41.1962776184082],\"xaxis\":\"x\",\"y\":[-1.6213607788085938,-0.3107709586620331,0.42839860916137695],\"yaxis\":\"y\",\"type\":\"scatter\",\"textposition\":\"top center\"},{\"hovertemplate\":\"color=skills_group_16<br>x=%{x}<br>y=%{y}<br>text=%{text}<extra></extra>\",\"legendgroup\":\"skills_group_16\",\"marker\":{\"color\":\"#B6E880\",\"symbol\":\"circle\"},\"mode\":\"markers+text\",\"name\":\"skills_group_16\",\"orientation\":\"v\",\"showlegend\":true,\"text\":[\"TypeScript\",\"Angular\",\"Angular.js\",\"Cordova\"],\"x\":[-15.805586814880371,-16.636886596679688,-18.216371536254883,-16.482362747192383],\"xaxis\":\"x\",\"y\":[33.53732681274414,34.335792541503906,34.30891799926758,36.33305358886719],\"yaxis\":\"y\",\"type\":\"scatter\",\"textposition\":\"top center\"},{\"hovertemplate\":\"color=skills_group_7<br>x=%{x}<br>y=%{y}<br>text=%{text}<extra></extra>\",\"legendgroup\":\"skills_group_7\",\"marker\":{\"color\":\"#FF97FF\",\"symbol\":\"circle\"},\"mode\":\"markers+text\",\"name\":\"skills_group_7\",\"orientation\":\"v\",\"showlegend\":true,\"text\":[\"Cassandra\",\"Couchbase\",\"Elasticsearch\",\"Redis\",\"DigitalOcean\"],\"x\":[36.49906921386719,37.99031448364258,33.90730285644531,32.746734619140625,31.341672897338867],\"xaxis\":\"x\",\"y\":[5.201533794403076,5.5916242599487305,6.201535224914551,6.160531520843506,4.770249366760254],\"yaxis\":\"y\",\"type\":\"scatter\",\"textposition\":\"top center\"},{\"hovertemplate\":\"color=skills_group_15<br>x=%{x}<br>y=%{y}<br>text=%{text}<extra></extra>\",\"legendgroup\":\"skills_group_15\",\"marker\":{\"color\":\"#FECB52\",\"symbol\":\"circle\"},\"mode\":\"markers+text\",\"name\":\"skills_group_15\",\"orientation\":\"v\",\"showlegend\":true,\"text\":[\"Svelte\",\"Deno\"],\"x\":[3.424455404281616,4.071319103240967],\"xaxis\":\"x\",\"y\":[33.61847686767578,33.267845153808594],\"yaxis\":\"y\",\"type\":\"scatter\",\"textposition\":\"top center\"},{\"hovertemplate\":\"color=skills_group_22<br>x=%{x}<br>y=%{y}<br>text=%{text}<extra></extra>\",\"legendgroup\":\"skills_group_22\",\"marker\":{\"color\":\"#636efa\",\"symbol\":\"circle\"},\"mode\":\"markers+text\",\"name\":\"skills_group_22\",\"orientation\":\"v\",\"showlegend\":true,\"text\":[\"Keras\",\"TensorFlow\",\"Torch/PyTorch\"],\"x\":[26.76903533935547,26.631017684936523,26.477136611938477],\"xaxis\":\"x\",\"y\":[-38.40042495727539,-39.2558479309082,-40.742042541503906],\"yaxis\":\"y\",\"type\":\"scatter\",\"textposition\":\"top center\"},{\"hovertemplate\":\"color=skills_group_9<br>x=%{x}<br>y=%{y}<br>text=%{text}<extra></extra>\",\"legendgroup\":\"skills_group_9\",\"marker\":{\"color\":\"#EF553B\",\"symbol\":\"circle\"},\"mode\":\"markers+text\",\"name\":\"skills_group_9\",\"orientation\":\"v\",\"showlegend\":true,\"text\":[\"Ansible\",\"Chef\",\"Flow\",\"Pulumi\",\"Puppet\",\"Terraform\"],\"x\":[27.567960739135742,26.523208618164062,22.652482986450195,24.195362091064453,27.024356842041016,26.442440032958984],\"xaxis\":\"x\",\"y\":[15.220502853393555,20.165544509887695,17.336915969848633,15.969285011291504,20.7835636138916,14.133480072021484],\"yaxis\":\"y\",\"type\":\"scatter\",\"textposition\":\"top center\"},{\"hovertemplate\":\"color=skills_group_13<br>x=%{x}<br>y=%{y}<br>text=%{text}<extra></extra>\",\"legendgroup\":\"skills_group_13\",\"marker\":{\"color\":\"#00cc96\",\"symbol\":\"circle\"},\"mode\":\"markers+text\",\"name\":\"skills_group_13\",\"orientation\":\"v\",\"showlegend\":true,\"text\":[\"Unity 3D\",\"Unreal Engine\"],\"x\":[-28.209293365478516,-27.71567726135254],\"xaxis\":\"x\",\"y\":[-27.356874465942383,-27.913658142089844],\"yaxis\":\"y\",\"type\":\"scatter\",\"textposition\":\"top center\"}],                        {\"template\":{\"data\":{\"histogram2dcontour\":[{\"type\":\"histogram2dcontour\",\"colorbar\":{\"outlinewidth\":0,\"ticks\":\"\"},\"colorscale\":[[0.0,\"#0d0887\"],[0.1111111111111111,\"#46039f\"],[0.2222222222222222,\"#7201a8\"],[0.3333333333333333,\"#9c179e\"],[0.4444444444444444,\"#bd3786\"],[0.5555555555555556,\"#d8576b\"],[0.6666666666666666,\"#ed7953\"],[0.7777777777777778,\"#fb9f3a\"],[0.8888888888888888,\"#fdca26\"],[1.0,\"#f0f921\"]]}],\"choropleth\":[{\"type\":\"choropleth\",\"colorbar\":{\"outlinewidth\":0,\"ticks\":\"\"}}],\"histogram2d\":[{\"type\":\"histogram2d\",\"colorbar\":{\"outlinewidth\":0,\"ticks\":\"\"},\"colorscale\":[[0.0,\"#0d0887\"],[0.1111111111111111,\"#46039f\"],[0.2222222222222222,\"#7201a8\"],[0.3333333333333333,\"#9c179e\"],[0.4444444444444444,\"#bd3786\"],[0.5555555555555556,\"#d8576b\"],[0.6666666666666666,\"#ed7953\"],[0.7777777777777778,\"#fb9f3a\"],[0.8888888888888888,\"#fdca26\"],[1.0,\"#f0f921\"]]}],\"heatmap\":[{\"type\":\"heatmap\",\"colorbar\":{\"outlinewidth\":0,\"ticks\":\"\"},\"colorscale\":[[0.0,\"#0d0887\"],[0.1111111111111111,\"#46039f\"],[0.2222222222222222,\"#7201a8\"],[0.3333333333333333,\"#9c179e\"],[0.4444444444444444,\"#bd3786\"],[0.5555555555555556,\"#d8576b\"],[0.6666666666666666,\"#ed7953\"],[0.7777777777777778,\"#fb9f3a\"],[0.8888888888888888,\"#fdca26\"],[1.0,\"#f0f921\"]]}],\"heatmapgl\":[{\"type\":\"heatmapgl\",\"colorbar\":{\"outlinewidth\":0,\"ticks\":\"\"},\"colorscale\":[[0.0,\"#0d0887\"],[0.1111111111111111,\"#46039f\"],[0.2222222222222222,\"#7201a8\"],[0.3333333333333333,\"#9c179e\"],[0.4444444444444444,\"#bd3786\"],[0.5555555555555556,\"#d8576b\"],[0.6666666666666666,\"#ed7953\"],[0.7777777777777778,\"#fb9f3a\"],[0.8888888888888888,\"#fdca26\"],[1.0,\"#f0f921\"]]}],\"contourcarpet\":[{\"type\":\"contourcarpet\",\"colorbar\":{\"outlinewidth\":0,\"ticks\":\"\"}}],\"contour\":[{\"type\":\"contour\",\"colorbar\":{\"outlinewidth\":0,\"ticks\":\"\"},\"colorscale\":[[0.0,\"#0d0887\"],[0.1111111111111111,\"#46039f\"],[0.2222222222222222,\"#7201a8\"],[0.3333333333333333,\"#9c179e\"],[0.4444444444444444,\"#bd3786\"],[0.5555555555555556,\"#d8576b\"],[0.6666666666666666,\"#ed7953\"],[0.7777777777777778,\"#fb9f3a\"],[0.8888888888888888,\"#fdca26\"],[1.0,\"#f0f921\"]]}],\"surface\":[{\"type\":\"surface\",\"colorbar\":{\"outlinewidth\":0,\"ticks\":\"\"},\"colorscale\":[[0.0,\"#0d0887\"],[0.1111111111111111,\"#46039f\"],[0.2222222222222222,\"#7201a8\"],[0.3333333333333333,\"#9c179e\"],[0.4444444444444444,\"#bd3786\"],[0.5555555555555556,\"#d8576b\"],[0.6666666666666666,\"#ed7953\"],[0.7777777777777778,\"#fb9f3a\"],[0.8888888888888888,\"#fdca26\"],[1.0,\"#f0f921\"]]}],\"mesh3d\":[{\"type\":\"mesh3d\",\"colorbar\":{\"outlinewidth\":0,\"ticks\":\"\"}}],\"scatter\":[{\"fillpattern\":{\"fillmode\":\"overlay\",\"size\":10,\"solidity\":0.2},\"type\":\"scatter\"}],\"parcoords\":[{\"type\":\"parcoords\",\"line\":{\"colorbar\":{\"outlinewidth\":0,\"ticks\":\"\"}}}],\"scatterpolargl\":[{\"type\":\"scatterpolargl\",\"marker\":{\"colorbar\":{\"outlinewidth\":0,\"ticks\":\"\"}}}],\"bar\":[{\"error_x\":{\"color\":\"#2a3f5f\"},\"error_y\":{\"color\":\"#2a3f5f\"},\"marker\":{\"line\":{\"color\":\"#E5ECF6\",\"width\":0.5},\"pattern\":{\"fillmode\":\"overlay\",\"size\":10,\"solidity\":0.2}},\"type\":\"bar\"}],\"scattergeo\":[{\"type\":\"scattergeo\",\"marker\":{\"colorbar\":{\"outlinewidth\":0,\"ticks\":\"\"}}}],\"scatterpolar\":[{\"type\":\"scatterpolar\",\"marker\":{\"colorbar\":{\"outlinewidth\":0,\"ticks\":\"\"}}}],\"histogram\":[{\"marker\":{\"pattern\":{\"fillmode\":\"overlay\",\"size\":10,\"solidity\":0.2}},\"type\":\"histogram\"}],\"scattergl\":[{\"type\":\"scattergl\",\"marker\":{\"colorbar\":{\"outlinewidth\":0,\"ticks\":\"\"}}}],\"scatter3d\":[{\"type\":\"scatter3d\",\"line\":{\"colorbar\":{\"outlinewidth\":0,\"ticks\":\"\"}},\"marker\":{\"colorbar\":{\"outlinewidth\":0,\"ticks\":\"\"}}}],\"scattermapbox\":[{\"type\":\"scattermapbox\",\"marker\":{\"colorbar\":{\"outlinewidth\":0,\"ticks\":\"\"}}}],\"scatterternary\":[{\"type\":\"scatterternary\",\"marker\":{\"colorbar\":{\"outlinewidth\":0,\"ticks\":\"\"}}}],\"scattercarpet\":[{\"type\":\"scattercarpet\",\"marker\":{\"colorbar\":{\"outlinewidth\":0,\"ticks\":\"\"}}}],\"carpet\":[{\"aaxis\":{\"endlinecolor\":\"#2a3f5f\",\"gridcolor\":\"white\",\"linecolor\":\"white\",\"minorgridcolor\":\"white\",\"startlinecolor\":\"#2a3f5f\"},\"baxis\":{\"endlinecolor\":\"#2a3f5f\",\"gridcolor\":\"white\",\"linecolor\":\"white\",\"minorgridcolor\":\"white\",\"startlinecolor\":\"#2a3f5f\"},\"type\":\"carpet\"}],\"table\":[{\"cells\":{\"fill\":{\"color\":\"#EBF0F8\"},\"line\":{\"color\":\"white\"}},\"header\":{\"fill\":{\"color\":\"#C8D4E3\"},\"line\":{\"color\":\"white\"}},\"type\":\"table\"}],\"barpolar\":[{\"marker\":{\"line\":{\"color\":\"#E5ECF6\",\"width\":0.5},\"pattern\":{\"fillmode\":\"overlay\",\"size\":10,\"solidity\":0.2}},\"type\":\"barpolar\"}],\"pie\":[{\"automargin\":true,\"type\":\"pie\"}]},\"layout\":{\"autotypenumbers\":\"strict\",\"colorway\":[\"#636efa\",\"#EF553B\",\"#00cc96\",\"#ab63fa\",\"#FFA15A\",\"#19d3f3\",\"#FF6692\",\"#B6E880\",\"#FF97FF\",\"#FECB52\"],\"font\":{\"color\":\"#2a3f5f\"},\"hovermode\":\"closest\",\"hoverlabel\":{\"align\":\"left\"},\"paper_bgcolor\":\"white\",\"plot_bgcolor\":\"#E5ECF6\",\"polar\":{\"bgcolor\":\"#E5ECF6\",\"angularaxis\":{\"gridcolor\":\"white\",\"linecolor\":\"white\",\"ticks\":\"\"},\"radialaxis\":{\"gridcolor\":\"white\",\"linecolor\":\"white\",\"ticks\":\"\"}},\"ternary\":{\"bgcolor\":\"#E5ECF6\",\"aaxis\":{\"gridcolor\":\"white\",\"linecolor\":\"white\",\"ticks\":\"\"},\"baxis\":{\"gridcolor\":\"white\",\"linecolor\":\"white\",\"ticks\":\"\"},\"caxis\":{\"gridcolor\":\"white\",\"linecolor\":\"white\",\"ticks\":\"\"}},\"coloraxis\":{\"colorbar\":{\"outlinewidth\":0,\"ticks\":\"\"}},\"colorscale\":{\"sequential\":[[0.0,\"#0d0887\"],[0.1111111111111111,\"#46039f\"],[0.2222222222222222,\"#7201a8\"],[0.3333333333333333,\"#9c179e\"],[0.4444444444444444,\"#bd3786\"],[0.5555555555555556,\"#d8576b\"],[0.6666666666666666,\"#ed7953\"],[0.7777777777777778,\"#fb9f3a\"],[0.8888888888888888,\"#fdca26\"],[1.0,\"#f0f921\"]],\"sequentialminus\":[[0.0,\"#0d0887\"],[0.1111111111111111,\"#46039f\"],[0.2222222222222222,\"#7201a8\"],[0.3333333333333333,\"#9c179e\"],[0.4444444444444444,\"#bd3786\"],[0.5555555555555556,\"#d8576b\"],[0.6666666666666666,\"#ed7953\"],[0.7777777777777778,\"#fb9f3a\"],[0.8888888888888888,\"#fdca26\"],[1.0,\"#f0f921\"]],\"diverging\":[[0,\"#8e0152\"],[0.1,\"#c51b7d\"],[0.2,\"#de77ae\"],[0.3,\"#f1b6da\"],[0.4,\"#fde0ef\"],[0.5,\"#f7f7f7\"],[0.6,\"#e6f5d0\"],[0.7,\"#b8e186\"],[0.8,\"#7fbc41\"],[0.9,\"#4d9221\"],[1,\"#276419\"]]},\"xaxis\":{\"gridcolor\":\"white\",\"linecolor\":\"white\",\"ticks\":\"\",\"title\":{\"standoff\":15},\"zerolinecolor\":\"white\",\"automargin\":true,\"zerolinewidth\":2},\"yaxis\":{\"gridcolor\":\"white\",\"linecolor\":\"white\",\"ticks\":\"\",\"title\":{\"standoff\":15},\"zerolinecolor\":\"white\",\"automargin\":true,\"zerolinewidth\":2},\"scene\":{\"xaxis\":{\"backgroundcolor\":\"#E5ECF6\",\"gridcolor\":\"white\",\"linecolor\":\"white\",\"showbackground\":true,\"ticks\":\"\",\"zerolinecolor\":\"white\",\"gridwidth\":2},\"yaxis\":{\"backgroundcolor\":\"#E5ECF6\",\"gridcolor\":\"white\",\"linecolor\":\"white\",\"showbackground\":true,\"ticks\":\"\",\"zerolinecolor\":\"white\",\"gridwidth\":2},\"zaxis\":{\"backgroundcolor\":\"#E5ECF6\",\"gridcolor\":\"white\",\"linecolor\":\"white\",\"showbackground\":true,\"ticks\":\"\",\"zerolinecolor\":\"white\",\"gridwidth\":2}},\"shapedefaults\":{\"line\":{\"color\":\"#2a3f5f\"}},\"annotationdefaults\":{\"arrowcolor\":\"#2a3f5f\",\"arrowhead\":0,\"arrowwidth\":1},\"geo\":{\"bgcolor\":\"white\",\"landcolor\":\"#E5ECF6\",\"subunitcolor\":\"white\",\"showland\":true,\"showlakes\":true,\"lakecolor\":\"white\"},\"title\":{\"x\":0.05},\"mapbox\":{\"style\":\"light\"}}},\"xaxis\":{\"anchor\":\"y\",\"domain\":[0.0,1.0],\"title\":{\"text\":\"x\"}},\"yaxis\":{\"anchor\":\"x\",\"domain\":[0.0,1.0],\"title\":{\"text\":\"y\"}},\"legend\":{\"title\":{\"text\":\"color\"},\"tracegroupgap\":0},\"margin\":{\"t\":60},\"title\":{\"text\":\"Cluster\"},\"height\":800,\"width\":1000},                        {\"responsive\": true}                    ).then(function(){\n",
       "                            \n",
       "var gd = document.getElementById('b8ab4c11-c61c-4279-a714-d42cd0b34c73');\n",
       "var x = new MutationObserver(function (mutations, observer) {{\n",
       "        var display = window.getComputedStyle(gd).display;\n",
       "        if (!display || display === 'none') {{\n",
       "            console.log([gd, 'removed!']);\n",
       "            Plotly.purge(gd);\n",
       "            observer.disconnect();\n",
       "        }}\n",
       "}});\n",
       "\n",
       "// Listen for the removal of the full notebook cells\n",
       "var notebookContainer = gd.closest('#notebook-container');\n",
       "if (notebookContainer) {{\n",
       "    x.observe(notebookContainer, {childList: true});\n",
       "}}\n",
       "\n",
       "// Listen for the clearing of the current output cell\n",
       "var outputEl = gd.closest('.output');\n",
       "if (outputEl) {{\n",
       "    x.observe(outputEl, {childList: true});\n",
       "}}\n",
       "\n",
       "                        })                };                });            </script>        </div>"
      ]
     },
     "metadata": {},
     "output_type": "display_data"
    }
   ],
   "source": [
    "fig = px.scatter(x=tsne_projection[0], \n",
    "                 y=tsne_projection[1], \n",
    "                 text=tsne_projection.droplevel(0).index, \n",
    "                 color=cluster_labels)\n",
    "fig.update_traces(textposition='top center')\n",
    "fig.update_layout(height=800, width=1000, title_text='Cluster')\n",
    "fig.show()"
   ]
  },
  {
   "cell_type": "code",
   "execution_count": 25,
   "id": "54814185",
   "metadata": {},
   "outputs": [],
   "source": [
    "# How to better write this\n",
    "skills_clusters = tsne_projection.index.droplevel(0).to_series().groupby(cluster_labels).apply(list)"
   ]
  },
  {
   "cell_type": "code",
   "execution_count": 37,
   "id": "067d059b",
   "metadata": {
    "scrolled": true
   },
   "outputs": [
    {
     "name": "stdout",
     "output_type": "stream",
     "text": [
      "skills_group_0\n",
      "['C#', 'F#', 'PowerShell', 'SQL', 'VBA', 'Microsoft SQL Server', 'Microsoft Azure', 'ASP.NET', 'ASP.NET Core ', '.NET Core / .NET 5', '.NET Framework', 'Xamarin', 'Notepad++', 'Rider', 'Visual Studio']\n",
      "\n",
      "skills_group_1\n",
      "['Groovy', 'Java', 'Oracle', 'Oracle Cloud Infrastructure', 'Spring', 'Atom', 'Eclipse', 'IntelliJ', 'NetBeans', 'Sublime Text']\n",
      "\n",
      "skills_group_10\n",
      "['Dart', 'Kotlin', 'Firebase', 'SQLite', 'Google Cloud Platform', 'Flutter', 'Android Studio']\n",
      "\n",
      "skills_group_11\n",
      "['Node.js', 'MongoDB', 'Heroku', 'Express', 'Gatsby', 'React.js', 'React Native', 'Yarn']\n",
      "\n",
      "skills_group_12\n",
      "['Assembly', 'C', 'C++', 'Qt']\n",
      "\n",
      "skills_group_13\n",
      "['Unity 3D', 'Unreal Engine']\n",
      "\n",
      "skills_group_14\n",
      "['Julia', 'R', 'RStudio']\n",
      "\n",
      "skills_group_15\n",
      "['Svelte', 'Deno']\n",
      "\n",
      "skills_group_16\n",
      "['TypeScript', 'Angular', 'Angular.js', 'Cordova']\n",
      "\n",
      "skills_group_17\n",
      "['Bash/Shell', 'Perl', 'Vim']\n",
      "\n",
      "skills_group_18\n",
      "['Objective-C', 'Swift', 'Xcode']\n",
      "\n",
      "skills_group_19\n",
      "['Scala', 'Apache Spark', 'Hadoop']\n",
      "\n",
      "skills_group_2\n",
      "['Matlab', 'Python', 'Django', 'FastAPI', 'Flask', 'NumPy', 'Pandas', 'IPython/Jupyter', 'PyCharm']\n",
      "\n",
      "skills_group_20\n",
      "['APL', 'COBOL', 'Crystal', 'Delphi', 'IBM DB2', 'IBM Cloud or Watson']\n",
      "\n",
      "skills_group_21\n",
      "['Elixir', 'Erlang']\n",
      "\n",
      "skills_group_22\n",
      "['Keras', 'TensorFlow', 'Torch/PyTorch']\n",
      "\n",
      "skills_group_3\n",
      "['PHP', 'MariaDB', 'MySQL', 'Drupal', 'Laravel', 'Symfony', 'Vue.js', 'PHPStorm', 'Webstorm']\n",
      "\n",
      "skills_group_4\n",
      "['Clojure', 'Haskell', 'LISP', 'Rust', 'Emacs', 'Neovim']\n",
      "\n",
      "skills_group_5\n",
      "['Go', 'DynamoDB', 'PostgreSQL', 'AWS', 'Docker', 'Git', 'Kubernetes']\n",
      "\n",
      "skills_group_6\n",
      "['HTML/CSS', 'JavaScript', 'jQuery', 'Visual Studio Code']\n",
      "\n",
      "skills_group_7\n",
      "['Cassandra', 'Couchbase', 'Elasticsearch', 'Redis', 'DigitalOcean']\n",
      "\n",
      "skills_group_8\n",
      "['Ruby', 'Ruby on Rails', 'RubyMine', 'TextMate']\n",
      "\n",
      "skills_group_9\n",
      "['Ansible', 'Chef', 'Flow', 'Pulumi', 'Puppet', 'Terraform']\n",
      "\n"
     ]
    }
   ],
   "source": [
    "for cluster, skills in skills_clusters.items():\n",
    "    print(cluster)\n",
    "    print(skills)\n",
    "    print()"
   ]
  },
  {
   "cell_type": "markdown",
   "id": "157b454c",
   "metadata": {},
   "source": [
    "## _Create new features_"
   ]
  },
  {
   "cell_type": "code",
   "execution_count": 27,
   "id": "4affcf93",
   "metadata": {},
   "outputs": [],
   "source": [
    "new_features = []\n",
    "\n",
    "for cluster, skills in skills_clusters.items():\n",
    "    cluster_sum = skills_ohe.droplevel(0, axis=1)[skills].sum(axis=1)\n",
    "    cluster_sum.name = cluster\n",
    "    new_features.append(cluster_sum)\n",
    "\n",
    "fe_clustered_skills = pd.concat(new_features, axis=1)"
   ]
  },
  {
   "cell_type": "code",
   "execution_count": 28,
   "id": "b6939035",
   "metadata": {
    "scrolled": false
   },
   "outputs": [
    {
     "data": {
      "text/html": [
       "<div>\n",
       "<style scoped>\n",
       "    .dataframe tbody tr th:only-of-type {\n",
       "        vertical-align: middle;\n",
       "    }\n",
       "\n",
       "    .dataframe tbody tr th {\n",
       "        vertical-align: top;\n",
       "    }\n",
       "\n",
       "    .dataframe thead th {\n",
       "        text-align: right;\n",
       "    }\n",
       "</style>\n",
       "<table border=\"1\" class=\"dataframe\">\n",
       "  <thead>\n",
       "    <tr style=\"text-align: right;\">\n",
       "      <th></th>\n",
       "      <th>skills_group_0</th>\n",
       "      <th>skills_group_1</th>\n",
       "      <th>skills_group_10</th>\n",
       "      <th>skills_group_11</th>\n",
       "      <th>skills_group_12</th>\n",
       "      <th>skills_group_13</th>\n",
       "      <th>skills_group_14</th>\n",
       "      <th>skills_group_15</th>\n",
       "      <th>skills_group_16</th>\n",
       "      <th>skills_group_17</th>\n",
       "      <th>...</th>\n",
       "      <th>skills_group_20</th>\n",
       "      <th>skills_group_21</th>\n",
       "      <th>skills_group_22</th>\n",
       "      <th>skills_group_3</th>\n",
       "      <th>skills_group_4</th>\n",
       "      <th>skills_group_5</th>\n",
       "      <th>skills_group_6</th>\n",
       "      <th>skills_group_7</th>\n",
       "      <th>skills_group_8</th>\n",
       "      <th>skills_group_9</th>\n",
       "    </tr>\n",
       "  </thead>\n",
       "  <tbody>\n",
       "    <tr>\n",
       "      <th>0</th>\n",
       "      <td>0</td>\n",
       "      <td>0</td>\n",
       "      <td>1</td>\n",
       "      <td>0</td>\n",
       "      <td>1</td>\n",
       "      <td>0</td>\n",
       "      <td>0</td>\n",
       "      <td>0</td>\n",
       "      <td>0</td>\n",
       "      <td>0</td>\n",
       "      <td>...</td>\n",
       "      <td>0</td>\n",
       "      <td>0</td>\n",
       "      <td>0</td>\n",
       "      <td>4</td>\n",
       "      <td>0</td>\n",
       "      <td>1</td>\n",
       "      <td>2</td>\n",
       "      <td>0</td>\n",
       "      <td>0</td>\n",
       "      <td>0</td>\n",
       "    </tr>\n",
       "    <tr>\n",
       "      <th>1</th>\n",
       "      <td>1</td>\n",
       "      <td>1</td>\n",
       "      <td>1</td>\n",
       "      <td>1</td>\n",
       "      <td>0</td>\n",
       "      <td>0</td>\n",
       "      <td>0</td>\n",
       "      <td>0</td>\n",
       "      <td>2</td>\n",
       "      <td>0</td>\n",
       "      <td>...</td>\n",
       "      <td>0</td>\n",
       "      <td>0</td>\n",
       "      <td>0</td>\n",
       "      <td>1</td>\n",
       "      <td>0</td>\n",
       "      <td>3</td>\n",
       "      <td>1</td>\n",
       "      <td>0</td>\n",
       "      <td>0</td>\n",
       "      <td>0</td>\n",
       "    </tr>\n",
       "    <tr>\n",
       "      <th>2</th>\n",
       "      <td>0</td>\n",
       "      <td>1</td>\n",
       "      <td>1</td>\n",
       "      <td>1</td>\n",
       "      <td>2</td>\n",
       "      <td>0</td>\n",
       "      <td>2</td>\n",
       "      <td>0</td>\n",
       "      <td>0</td>\n",
       "      <td>0</td>\n",
       "      <td>...</td>\n",
       "      <td>0</td>\n",
       "      <td>0</td>\n",
       "      <td>2</td>\n",
       "      <td>0</td>\n",
       "      <td>1</td>\n",
       "      <td>0</td>\n",
       "      <td>1</td>\n",
       "      <td>0</td>\n",
       "      <td>0</td>\n",
       "      <td>0</td>\n",
       "    </tr>\n",
       "    <tr>\n",
       "      <th>3</th>\n",
       "      <td>0</td>\n",
       "      <td>0</td>\n",
       "      <td>0</td>\n",
       "      <td>0</td>\n",
       "      <td>0</td>\n",
       "      <td>0</td>\n",
       "      <td>0</td>\n",
       "      <td>0</td>\n",
       "      <td>2</td>\n",
       "      <td>0</td>\n",
       "      <td>...</td>\n",
       "      <td>0</td>\n",
       "      <td>0</td>\n",
       "      <td>0</td>\n",
       "      <td>0</td>\n",
       "      <td>0</td>\n",
       "      <td>0</td>\n",
       "      <td>2</td>\n",
       "      <td>0</td>\n",
       "      <td>0</td>\n",
       "      <td>0</td>\n",
       "    </tr>\n",
       "    <tr>\n",
       "      <th>4</th>\n",
       "      <td>2</td>\n",
       "      <td>1</td>\n",
       "      <td>0</td>\n",
       "      <td>1</td>\n",
       "      <td>0</td>\n",
       "      <td>0</td>\n",
       "      <td>0</td>\n",
       "      <td>0</td>\n",
       "      <td>0</td>\n",
       "      <td>2</td>\n",
       "      <td>...</td>\n",
       "      <td>0</td>\n",
       "      <td>0</td>\n",
       "      <td>0</td>\n",
       "      <td>0</td>\n",
       "      <td>0</td>\n",
       "      <td>4</td>\n",
       "      <td>1</td>\n",
       "      <td>2</td>\n",
       "      <td>0</td>\n",
       "      <td>0</td>\n",
       "    </tr>\n",
       "    <tr>\n",
       "      <th>...</th>\n",
       "      <td>...</td>\n",
       "      <td>...</td>\n",
       "      <td>...</td>\n",
       "      <td>...</td>\n",
       "      <td>...</td>\n",
       "      <td>...</td>\n",
       "      <td>...</td>\n",
       "      <td>...</td>\n",
       "      <td>...</td>\n",
       "      <td>...</td>\n",
       "      <td>...</td>\n",
       "      <td>...</td>\n",
       "      <td>...</td>\n",
       "      <td>...</td>\n",
       "      <td>...</td>\n",
       "      <td>...</td>\n",
       "      <td>...</td>\n",
       "      <td>...</td>\n",
       "      <td>...</td>\n",
       "      <td>...</td>\n",
       "      <td>...</td>\n",
       "    </tr>\n",
       "    <tr>\n",
       "      <th>83434</th>\n",
       "      <td>1</td>\n",
       "      <td>3</td>\n",
       "      <td>2</td>\n",
       "      <td>0</td>\n",
       "      <td>0</td>\n",
       "      <td>0</td>\n",
       "      <td>0</td>\n",
       "      <td>0</td>\n",
       "      <td>0</td>\n",
       "      <td>1</td>\n",
       "      <td>...</td>\n",
       "      <td>0</td>\n",
       "      <td>0</td>\n",
       "      <td>0</td>\n",
       "      <td>0</td>\n",
       "      <td>1</td>\n",
       "      <td>3</td>\n",
       "      <td>1</td>\n",
       "      <td>0</td>\n",
       "      <td>0</td>\n",
       "      <td>0</td>\n",
       "    </tr>\n",
       "    <tr>\n",
       "      <th>83435</th>\n",
       "      <td>2</td>\n",
       "      <td>4</td>\n",
       "      <td>4</td>\n",
       "      <td>1</td>\n",
       "      <td>1</td>\n",
       "      <td>2</td>\n",
       "      <td>1</td>\n",
       "      <td>0</td>\n",
       "      <td>0</td>\n",
       "      <td>1</td>\n",
       "      <td>...</td>\n",
       "      <td>0</td>\n",
       "      <td>0</td>\n",
       "      <td>0</td>\n",
       "      <td>4</td>\n",
       "      <td>1</td>\n",
       "      <td>2</td>\n",
       "      <td>2</td>\n",
       "      <td>1</td>\n",
       "      <td>1</td>\n",
       "      <td>0</td>\n",
       "    </tr>\n",
       "    <tr>\n",
       "      <th>83436</th>\n",
       "      <td>1</td>\n",
       "      <td>5</td>\n",
       "      <td>2</td>\n",
       "      <td>1</td>\n",
       "      <td>0</td>\n",
       "      <td>0</td>\n",
       "      <td>0</td>\n",
       "      <td>0</td>\n",
       "      <td>0</td>\n",
       "      <td>1</td>\n",
       "      <td>...</td>\n",
       "      <td>0</td>\n",
       "      <td>0</td>\n",
       "      <td>1</td>\n",
       "      <td>0</td>\n",
       "      <td>0</td>\n",
       "      <td>5</td>\n",
       "      <td>1</td>\n",
       "      <td>2</td>\n",
       "      <td>0</td>\n",
       "      <td>2</td>\n",
       "    </tr>\n",
       "    <tr>\n",
       "      <th>83437</th>\n",
       "      <td>0</td>\n",
       "      <td>1</td>\n",
       "      <td>0</td>\n",
       "      <td>5</td>\n",
       "      <td>0</td>\n",
       "      <td>0</td>\n",
       "      <td>0</td>\n",
       "      <td>0</td>\n",
       "      <td>0</td>\n",
       "      <td>1</td>\n",
       "      <td>...</td>\n",
       "      <td>0</td>\n",
       "      <td>0</td>\n",
       "      <td>2</td>\n",
       "      <td>0</td>\n",
       "      <td>0</td>\n",
       "      <td>3</td>\n",
       "      <td>1</td>\n",
       "      <td>3</td>\n",
       "      <td>0</td>\n",
       "      <td>2</td>\n",
       "    </tr>\n",
       "    <tr>\n",
       "      <th>83438</th>\n",
       "      <td>1</td>\n",
       "      <td>4</td>\n",
       "      <td>0</td>\n",
       "      <td>0</td>\n",
       "      <td>0</td>\n",
       "      <td>0</td>\n",
       "      <td>0</td>\n",
       "      <td>0</td>\n",
       "      <td>1</td>\n",
       "      <td>0</td>\n",
       "      <td>...</td>\n",
       "      <td>1</td>\n",
       "      <td>1</td>\n",
       "      <td>0</td>\n",
       "      <td>0</td>\n",
       "      <td>0</td>\n",
       "      <td>3</td>\n",
       "      <td>3</td>\n",
       "      <td>0</td>\n",
       "      <td>0</td>\n",
       "      <td>0</td>\n",
       "    </tr>\n",
       "  </tbody>\n",
       "</table>\n",
       "<p>83439 rows × 23 columns</p>\n",
       "</div>"
      ],
      "text/plain": [
       "       skills_group_0  skills_group_1  skills_group_10  skills_group_11  \\\n",
       "0                   0               0                1                0   \n",
       "1                   1               1                1                1   \n",
       "2                   0               1                1                1   \n",
       "3                   0               0                0                0   \n",
       "4                   2               1                0                1   \n",
       "...               ...             ...              ...              ...   \n",
       "83434               1               3                2                0   \n",
       "83435               2               4                4                1   \n",
       "83436               1               5                2                1   \n",
       "83437               0               1                0                5   \n",
       "83438               1               4                0                0   \n",
       "\n",
       "       skills_group_12  skills_group_13  skills_group_14  skills_group_15  \\\n",
       "0                    1                0                0                0   \n",
       "1                    0                0                0                0   \n",
       "2                    2                0                2                0   \n",
       "3                    0                0                0                0   \n",
       "4                    0                0                0                0   \n",
       "...                ...              ...              ...              ...   \n",
       "83434                0                0                0                0   \n",
       "83435                1                2                1                0   \n",
       "83436                0                0                0                0   \n",
       "83437                0                0                0                0   \n",
       "83438                0                0                0                0   \n",
       "\n",
       "       skills_group_16  skills_group_17  ...  skills_group_20  \\\n",
       "0                    0                0  ...                0   \n",
       "1                    2                0  ...                0   \n",
       "2                    0                0  ...                0   \n",
       "3                    2                0  ...                0   \n",
       "4                    0                2  ...                0   \n",
       "...                ...              ...  ...              ...   \n",
       "83434                0                1  ...                0   \n",
       "83435                0                1  ...                0   \n",
       "83436                0                1  ...                0   \n",
       "83437                0                1  ...                0   \n",
       "83438                1                0  ...                1   \n",
       "\n",
       "       skills_group_21  skills_group_22  skills_group_3  skills_group_4  \\\n",
       "0                    0                0               4               0   \n",
       "1                    0                0               1               0   \n",
       "2                    0                2               0               1   \n",
       "3                    0                0               0               0   \n",
       "4                    0                0               0               0   \n",
       "...                ...              ...             ...             ...   \n",
       "83434                0                0               0               1   \n",
       "83435                0                0               4               1   \n",
       "83436                0                1               0               0   \n",
       "83437                0                2               0               0   \n",
       "83438                1                0               0               0   \n",
       "\n",
       "       skills_group_5  skills_group_6  skills_group_7  skills_group_8  \\\n",
       "0                   1               2               0               0   \n",
       "1                   3               1               0               0   \n",
       "2                   0               1               0               0   \n",
       "3                   0               2               0               0   \n",
       "4                   4               1               2               0   \n",
       "...               ...             ...             ...             ...   \n",
       "83434               3               1               0               0   \n",
       "83435               2               2               1               1   \n",
       "83436               5               1               2               0   \n",
       "83437               3               1               3               0   \n",
       "83438               3               3               0               0   \n",
       "\n",
       "       skills_group_9  \n",
       "0                   0  \n",
       "1                   0  \n",
       "2                   0  \n",
       "3                   0  \n",
       "4                   0  \n",
       "...               ...  \n",
       "83434               0  \n",
       "83435               0  \n",
       "83436               2  \n",
       "83437               2  \n",
       "83438               0  \n",
       "\n",
       "[83439 rows x 23 columns]"
      ]
     },
     "execution_count": 28,
     "metadata": {},
     "output_type": "execute_result"
    }
   ],
   "source": [
    "fe_clustered_skills"
   ]
  },
  {
   "cell_type": "markdown",
   "id": "54998489",
   "metadata": {},
   "source": [
    "## _Illustration Model_"
   ]
  },
  {
   "cell_type": "markdown",
   "id": "d6604db5",
   "metadata": {},
   "source": [
    "### _Create train / test matrices_"
   ]
  },
  {
   "cell_type": "code",
   "execution_count": 29,
   "id": "d1c86647",
   "metadata": {},
   "outputs": [],
   "source": [
    "# concatenate features\n",
    "combined_features_df = pd.concat([fe_clustered_skills, \n",
    "                                  skills_ohe.droplevel(0,axis=1)], \n",
    "                                 axis=1)\n",
    "roles_df = ohe_data['DevType'].copy()\n",
    "\n",
    "#combined_features_df.columns"
   ]
  },
  {
   "cell_type": "code",
   "execution_count": 30,
   "id": "aee6ff46",
   "metadata": {},
   "outputs": [],
   "source": [
    "X_train, X_test, y_train, y_test = train_test_split(combined_features_df, roles_df, test_size=0.3, random_state=0)\n"
   ]
  },
  {
   "cell_type": "markdown",
   "id": "bd1edd33",
   "metadata": {},
   "source": [
    "### _Compute samples weight to deal with classes imbalance_"
   ]
  },
  {
   "cell_type": "code",
   "execution_count": 31,
   "id": "d4c7a2fb",
   "metadata": {},
   "outputs": [],
   "source": [
    "# Assign class weight as an inverse of its frequency \n",
    "class_weights = (1 / roles_df.sum(axis=0))\n",
    "\n",
    "# Multiply class weights with the 1 hot encoded values and get the mean of each sample\n",
    "sample_weight = np.multiply(class_weights.values, y_train.values).sum(axis=1)"
   ]
  },
  {
   "cell_type": "code",
   "execution_count": 32,
   "id": "031559be",
   "metadata": {},
   "outputs": [],
   "source": [
    "# function to compute f1_score\n",
    "def f1_from_confusion_matrix(confusion_matrix):\n",
    "    return (confusion_matrix[1,1] / \n",
    "            (confusion_matrix[1,1] + \n",
    "             (0.5 * (confusion_matrix[0,1] + confusion_matrix[1,0]))\n",
    "            ))"
   ]
  },
  {
   "cell_type": "code",
   "execution_count": 33,
   "id": "997925e1",
   "metadata": {},
   "outputs": [],
   "source": [
    "feature_sets = {'original': skills_ohe.droplevel(0,axis=1).columns.tolist(), \n",
    "                'clusters': fe_clustered_skills.columns.tolist()}\n",
    "#feature_sets"
   ]
  },
  {
   "cell_type": "code",
   "execution_count": 34,
   "id": "3399b0b5",
   "metadata": {
    "scrolled": true
   },
   "outputs": [
    {
     "name": "stdout",
     "output_type": "stream",
     "text": [
      "Feature set: original\n",
      ".. Mean train F1: 0.12253898948743877\n",
      ".. Mean test F1: 0.1224591824831881\n",
      "\n",
      "Feature set: clusters\n",
      ".. Mean train F1: 0.15392035315970745\n",
      ".. Mean test F1: 0.15607055016132354\n",
      "\n"
     ]
    }
   ],
   "source": [
    "results = {}\n",
    "\n",
    "for feature_set_name, feature_set in feature_sets.items():\n",
    "    # Create sub trainings\n",
    "    sub_train = X_train[feature_set].copy()\n",
    "    sub_test  = X_test[feature_set].copy()\n",
    "    \n",
    "    # Train classifier \n",
    "    clf = MultiOutputClassifier(LogisticRegression())\n",
    "    clf.fit(sub_train, y_train, sample_weight=sample_weight)\n",
    "\n",
    "    # Calcaulte F1 for training data\n",
    "    multilabel_confusion_matricies = multilabel_confusion_matrix(y_train, clf.predict(sub_train))\n",
    "    f1_train_scores = [f1_from_confusion_matrix(matrix) \n",
    "                       for matrix in multilabel_confusion_matricies]\n",
    "\n",
    "    # Calcaulte F1 for testing data\n",
    "    multilabel_confusion_matricies = multilabel_confusion_matrix(y_test, clf.predict(sub_test))\n",
    "    f1_test_scores = [f1_from_confusion_matrix(matrix) \n",
    "                       for matrix in multilabel_confusion_matricies]\n",
    "\n",
    "    # Add to results\n",
    "    set_result = pd.DataFrame({\"train\": f1_train_scores, \"test\":f1_test_scores}, \n",
    "                              index=roles_df.columns.to_list())\n",
    "    results[feature_set_name] = set_result.sort_values('test')\n",
    "    \n",
    "    \n",
    "    # Print\n",
    "    print(\"Feature set: \" + feature_set_name)\n",
    "    print(\".. Mean train F1:\", np.mean(f1_train_scores))    \n",
    "    print(\".. Mean test F1:\", np.mean(f1_test_scores))\n",
    "    print()"
   ]
  },
  {
   "cell_type": "markdown",
   "id": "78f32cdb",
   "metadata": {},
   "source": [
    "##### we can conclude that the new feature set (clusters) gives better scores than the original"
   ]
  },
  {
   "cell_type": "code",
   "execution_count": null,
   "id": "455905ee",
   "metadata": {},
   "outputs": [],
   "source": []
  },
  {
   "cell_type": "markdown",
   "id": "35e1b207",
   "metadata": {},
   "source": [
    "## _Export new features_"
   ]
  },
  {
   "cell_type": "code",
   "execution_count": 35,
   "id": "60cf27c5",
   "metadata": {},
   "outputs": [],
   "source": [
    "features_path = os.path.join(EXPORT_FEATURES_DIR, \"features_skills_clusters.pkl\")\n",
    "fe_clustered_skills.to_pickle(features_path)"
   ]
  },
  {
   "cell_type": "code",
   "execution_count": 36,
   "id": "9e775fa9",
   "metadata": {},
   "outputs": [],
   "source": [
    "description_path = os.path.join(EXPORT_FEATURES_DIR, \"features_skills_clusters_description.yaml\")\n",
    "with open(description_path, 'w') as outfile:\n",
    "    yaml.dump(skills_clusters.to_dict(), outfile)"
   ]
  },
  {
   "cell_type": "code",
   "execution_count": null,
   "id": "41ba7ca6",
   "metadata": {},
   "outputs": [],
   "source": []
  },
  {
   "cell_type": "code",
   "execution_count": null,
   "id": "51c089a2",
   "metadata": {},
   "outputs": [],
   "source": []
  },
  {
   "cell_type": "code",
   "execution_count": null,
   "id": "5e6bbd68",
   "metadata": {},
   "outputs": [],
   "source": []
  },
  {
   "cell_type": "code",
   "execution_count": null,
   "id": "61c143a6",
   "metadata": {},
   "outputs": [],
   "source": []
  }
 ],
 "metadata": {
  "kernelspec": {
   "display_name": "Python 3 (ipykernel)",
   "language": "python",
   "name": "python3"
  },
  "language_info": {
   "codemirror_mode": {
    "name": "ipython",
    "version": 3
   },
   "file_extension": ".py",
   "mimetype": "text/x-python",
   "name": "python",
   "nbconvert_exporter": "python",
   "pygments_lexer": "ipython3",
   "version": "3.11.3"
  }
 },
 "nbformat": 4,
 "nbformat_minor": 5
}
