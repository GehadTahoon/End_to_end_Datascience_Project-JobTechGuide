{
 "cells": [
  {
   "cell_type": "code",
   "execution_count": 1,
   "id": "97103c8b",
   "metadata": {},
   "outputs": [],
   "source": [
    "# constants\n",
    "MLFLOW_TRACKING_URI = '../models/mlruns'\n",
    "MLFLOW_EXPERIMENT_NAME = \"skills_jobs_stackoverflow\""
   ]
  },
  {
   "cell_type": "code",
   "execution_count": 2,
   "id": "b6775b67",
   "metadata": {},
   "outputs": [],
   "source": [
    "import mlflow\n",
    "from mlflow.tracking import MlflowClient\n",
    "\n",
    "import pandas as pd"
   ]
  },
  {
   "cell_type": "code",
   "execution_count": 6,
   "id": "814a960b",
   "metadata": {},
   "outputs": [],
   "source": [
    "# Initialize client\n",
    "mlflow.set_tracking_uri(MLFLOW_TRACKING_URI)\n",
    "client = MlflowClient()"
   ]
  },
  {
   "cell_type": "code",
   "execution_count": 7,
   "id": "b18baeff",
   "metadata": {},
   "outputs": [
    {
     "data": {
      "text/plain": [
       "<Experiment: artifact_location='file:///C:/Users/DELL/End2End_DS_Projects/JobTechGuide/notebooks/../models/mlruns/410566147725735806', creation_time=1723461494819, experiment_id='410566147725735806', last_update_time=1723461494819, lifecycle_stage='active', name='skills_jobs_stackoverflow', tags={}>"
      ]
     },
     "execution_count": 7,
     "metadata": {},
     "output_type": "execute_result"
    }
   ],
   "source": [
    "# Get experiment\n",
    "experiment = client.get_experiment_by_name(MLFLOW_EXPERIMENT_NAME)\n",
    "experiment"
   ]
  },
  {
   "cell_type": "code",
   "execution_count": 12,
   "id": "16fedaa4",
   "metadata": {
    "scrolled": true
   },
   "outputs": [
    {
     "data": {
      "text/html": [
       "<div>\n",
       "<style scoped>\n",
       "    .dataframe tbody tr th:only-of-type {\n",
       "        vertical-align: middle;\n",
       "    }\n",
       "\n",
       "    .dataframe tbody tr th {\n",
       "        vertical-align: top;\n",
       "    }\n",
       "\n",
       "    .dataframe thead th {\n",
       "        text-align: right;\n",
       "    }\n",
       "</style>\n",
       "<table border=\"1\" class=\"dataframe\">\n",
       "  <thead>\n",
       "    <tr style=\"text-align: right;\">\n",
       "      <th></th>\n",
       "      <th>run_id</th>\n",
       "      <th>experiment_id</th>\n",
       "      <th>status</th>\n",
       "      <th>artifact_uri</th>\n",
       "      <th>start_time</th>\n",
       "      <th>end_time</th>\n",
       "      <th>metrics.accuracy_score</th>\n",
       "      <th>metrics.recall_score</th>\n",
       "      <th>metrics.f1_score</th>\n",
       "      <th>metrics.precision_score</th>\n",
       "      <th>tags.mlflow.runName</th>\n",
       "    </tr>\n",
       "  </thead>\n",
       "  <tbody>\n",
       "    <tr>\n",
       "      <th>0</th>\n",
       "      <td>f0e46b7a789441978a26c25343f5de97</td>\n",
       "      <td>410566147725735806</td>\n",
       "      <td>FINISHED</td>\n",
       "      <td>file:///C:/Users/DELL/End2End_DS_Projects/JobT...</td>\n",
       "      <td>2024-08-12 12:03:30.151000+00:00</td>\n",
       "      <td>2024-08-12 12:04:08.753000+00:00</td>\n",
       "      <td>92.763750</td>\n",
       "      <td>53.496250</td>\n",
       "      <td>66.228750</td>\n",
       "      <td>90.230000</td>\n",
       "      <td>Random Forest: with PCA + Hyperparamter tuning</td>\n",
       "    </tr>\n",
       "    <tr>\n",
       "      <th>1</th>\n",
       "      <td>25e4d72ca50c40b7bf2ac2ad0e5c34a1</td>\n",
       "      <td>410566147725735806</td>\n",
       "      <td>FINISHED</td>\n",
       "      <td>file:///C:/Users/DELL/End2End_DS_Projects/JobT...</td>\n",
       "      <td>2024-08-12 11:22:46.345000+00:00</td>\n",
       "      <td>2024-08-12 11:22:49.285000+00:00</td>\n",
       "      <td>92.602500</td>\n",
       "      <td>49.895625</td>\n",
       "      <td>64.103125</td>\n",
       "      <td>93.621250</td>\n",
       "      <td>Random Forest: with PCA - Basic</td>\n",
       "    </tr>\n",
       "    <tr>\n",
       "      <th>2</th>\n",
       "      <td>68162fac5cb0465d82572f00e7a3d7bf</td>\n",
       "      <td>410566147725735806</td>\n",
       "      <td>FINISHED</td>\n",
       "      <td>file:///C:/Users/DELL/End2End_DS_Projects/JobT...</td>\n",
       "      <td>2024-08-12 11:19:29.738000+00:00</td>\n",
       "      <td>2024-08-12 11:19:29.933000+00:00</td>\n",
       "      <td>88.939375</td>\n",
       "      <td>29.890000</td>\n",
       "      <td>38.613125</td>\n",
       "      <td>62.420625</td>\n",
       "      <td>None</td>\n",
       "    </tr>\n",
       "  </tbody>\n",
       "</table>\n",
       "</div>"
      ],
      "text/plain": [
       "                             run_id       experiment_id    status  \\\n",
       "0  f0e46b7a789441978a26c25343f5de97  410566147725735806  FINISHED   \n",
       "1  25e4d72ca50c40b7bf2ac2ad0e5c34a1  410566147725735806  FINISHED   \n",
       "2  68162fac5cb0465d82572f00e7a3d7bf  410566147725735806  FINISHED   \n",
       "\n",
       "                                        artifact_uri  \\\n",
       "0  file:///C:/Users/DELL/End2End_DS_Projects/JobT...   \n",
       "1  file:///C:/Users/DELL/End2End_DS_Projects/JobT...   \n",
       "2  file:///C:/Users/DELL/End2End_DS_Projects/JobT...   \n",
       "\n",
       "                        start_time                         end_time  \\\n",
       "0 2024-08-12 12:03:30.151000+00:00 2024-08-12 12:04:08.753000+00:00   \n",
       "1 2024-08-12 11:22:46.345000+00:00 2024-08-12 11:22:49.285000+00:00   \n",
       "2 2024-08-12 11:19:29.738000+00:00 2024-08-12 11:19:29.933000+00:00   \n",
       "\n",
       "   metrics.accuracy_score  metrics.recall_score  metrics.f1_score  \\\n",
       "0               92.763750             53.496250         66.228750   \n",
       "1               92.602500             49.895625         64.103125   \n",
       "2               88.939375             29.890000         38.613125   \n",
       "\n",
       "   metrics.precision_score                             tags.mlflow.runName  \n",
       "0                90.230000  Random Forest: with PCA + Hyperparamter tuning  \n",
       "1                93.621250                 Random Forest: with PCA - Basic  \n",
       "2                62.420625                                            None  "
      ]
     },
     "execution_count": 12,
     "metadata": {},
     "output_type": "execute_result"
    }
   ],
   "source": [
    "# Get all runs\n",
    "runs = mlflow.search_runs([experiment.experiment_id])\n",
    "runs"
   ]
  },
  {
   "cell_type": "code",
   "execution_count": null,
   "id": "e428c715",
   "metadata": {},
   "outputs": [],
   "source": []
  }
 ],
 "metadata": {
  "kernelspec": {
   "display_name": "Python 3 (ipykernel)",
   "language": "python",
   "name": "python3"
  },
  "language_info": {
   "codemirror_mode": {
    "name": "ipython",
    "version": 3
   },
   "file_extension": ".py",
   "mimetype": "text/x-python",
   "name": "python",
   "nbconvert_exporter": "python",
   "pygments_lexer": "ipython3",
   "version": "3.11.3"
  }
 },
 "nbformat": 4,
 "nbformat_minor": 5
}
