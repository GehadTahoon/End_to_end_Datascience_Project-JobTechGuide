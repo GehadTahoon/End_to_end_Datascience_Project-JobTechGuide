{
 "cells": [
  {
   "cell_type": "code",
   "execution_count": 18,
   "id": "97103c8b",
   "metadata": {},
   "outputs": [],
   "source": [
    "# constants\n",
    "MLFLOW_TRACKING_URI = '../models/mlruns'\n",
    "MLFLOW_EXPERIMENT_NAME = \"skills_jobs_stackoverflow\""
   ]
  },
  {
   "cell_type": "code",
   "execution_count": 19,
   "id": "b6775b67",
   "metadata": {},
   "outputs": [],
   "source": [
    "import mlflow\n",
    "from mlflow.tracking import MlflowClient\n",
    "\n",
    "import pandas as pd"
   ]
  },
  {
   "cell_type": "code",
   "execution_count": 20,
   "id": "814a960b",
   "metadata": {},
   "outputs": [],
   "source": [
    "# Initialize client\n",
    "mlflow.set_tracking_uri(MLFLOW_TRACKING_URI)\n",
    "client = MlflowClient()"
   ]
  },
  {
   "cell_type": "code",
   "execution_count": 21,
   "id": "b18baeff",
   "metadata": {},
   "outputs": [
    {
     "data": {
      "text/plain": [
       "<Experiment: artifact_location='file:///C:/Users/DELL/End2End_DS_Projects/JobTechGuide/notebooks/../models/mlruns/830408098758583715', creation_time=1723823930531, experiment_id='830408098758583715', last_update_time=1723823930531, lifecycle_stage='active', name='skills_jobs_stackoverflow', tags={}>"
      ]
     },
     "execution_count": 21,
     "metadata": {},
     "output_type": "execute_result"
    }
   ],
   "source": [
    "# Get experiment\n",
    "experiment = client.get_experiment_by_name(MLFLOW_EXPERIMENT_NAME)\n",
    "experiment"
   ]
  },
  {
   "cell_type": "code",
   "execution_count": 23,
   "id": "16fedaa4",
   "metadata": {
    "scrolled": true
   },
   "outputs": [
    {
     "data": {
      "text/html": [
       "<div>\n",
       "<style scoped>\n",
       "    .dataframe tbody tr th:only-of-type {\n",
       "        vertical-align: middle;\n",
       "    }\n",
       "\n",
       "    .dataframe tbody tr th {\n",
       "        vertical-align: top;\n",
       "    }\n",
       "\n",
       "    .dataframe thead th {\n",
       "        text-align: right;\n",
       "    }\n",
       "</style>\n",
       "<table border=\"1\" class=\"dataframe\">\n",
       "  <thead>\n",
       "    <tr style=\"text-align: right;\">\n",
       "      <th></th>\n",
       "      <th>run_id</th>\n",
       "      <th>experiment_id</th>\n",
       "      <th>status</th>\n",
       "      <th>artifact_uri</th>\n",
       "      <th>start_time</th>\n",
       "      <th>end_time</th>\n",
       "      <th>metrics.precision_score</th>\n",
       "      <th>metrics.f1_score</th>\n",
       "      <th>metrics.recall_score</th>\n",
       "      <th>metrics.accuracy_score</th>\n",
       "      <th>tags.mlflow.source.name</th>\n",
       "      <th>tags.mlflow.runName</th>\n",
       "      <th>tags.mlflow.source.type</th>\n",
       "      <th>tags.mlflow.user</th>\n",
       "    </tr>\n",
       "  </thead>\n",
       "  <tbody>\n",
       "    <tr>\n",
       "      <th>0</th>\n",
       "      <td>34c77afa75b1459996d894ded679e1f7</td>\n",
       "      <td>830408098758583715</td>\n",
       "      <td>FINISHED</td>\n",
       "      <td>file:///C:/Users/DELL/End2End_DS_Projects/JobT...</td>\n",
       "      <td>2024-08-16 16:23:49.729000+00:00</td>\n",
       "      <td>2024-08-16 16:24:08.561000+00:00</td>\n",
       "      <td>90.08625</td>\n",
       "      <td>66.146250</td>\n",
       "      <td>53.440000</td>\n",
       "      <td>92.742500</td>\n",
       "      <td>C:\\Users\\DELL\\anaconda3\\Lib\\site-packages\\ipyk...</td>\n",
       "      <td>Random Forest: with PCA + Hyperparamter tuning</td>\n",
       "      <td>LOCAL</td>\n",
       "      <td>DELL</td>\n",
       "    </tr>\n",
       "    <tr>\n",
       "      <th>1</th>\n",
       "      <td>336de09f80cb4d16935f30f82e1e6ed8</td>\n",
       "      <td>830408098758583715</td>\n",
       "      <td>FINISHED</td>\n",
       "      <td>C:\\\\Users\\\\DELL\\\\End2End_DS_Projects\\\\JobTechG...</td>\n",
       "      <td>2024-08-16 16:01:31.870000+00:00</td>\n",
       "      <td>2024-08-16 16:01:39.188000+00:00</td>\n",
       "      <td>94.04250</td>\n",
       "      <td>64.319375</td>\n",
       "      <td>50.067500</td>\n",
       "      <td>92.616875</td>\n",
       "      <td>C:\\Users\\DELL\\anaconda3\\Lib\\site-packages\\ipyk...</td>\n",
       "      <td>Random Forest: with PCA - Basic</td>\n",
       "      <td>LOCAL</td>\n",
       "      <td>DELL</td>\n",
       "    </tr>\n",
       "    <tr>\n",
       "      <th>2</th>\n",
       "      <td>2103301fbe6f4f95b6058ad293749032</td>\n",
       "      <td>830408098758583715</td>\n",
       "      <td>FINISHED</td>\n",
       "      <td>file:///C:/Users/DELL/End2End_DS_Projects/JobT...</td>\n",
       "      <td>2024-08-16 15:59:37.324000+00:00</td>\n",
       "      <td>2024-08-16 15:59:38.149000+00:00</td>\n",
       "      <td>62.21750</td>\n",
       "      <td>38.644375</td>\n",
       "      <td>29.916875</td>\n",
       "      <td>88.940625</td>\n",
       "      <td>C:\\Users\\DELL\\anaconda3\\Lib\\site-packages\\ipyk...</td>\n",
       "      <td>Baseline model: Logistic Regression</td>\n",
       "      <td>LOCAL</td>\n",
       "      <td>DELL</td>\n",
       "    </tr>\n",
       "  </tbody>\n",
       "</table>\n",
       "</div>"
      ],
      "text/plain": [
       "                             run_id       experiment_id    status  \\\n",
       "0  34c77afa75b1459996d894ded679e1f7  830408098758583715  FINISHED   \n",
       "1  336de09f80cb4d16935f30f82e1e6ed8  830408098758583715  FINISHED   \n",
       "2  2103301fbe6f4f95b6058ad293749032  830408098758583715  FINISHED   \n",
       "\n",
       "                                        artifact_uri  \\\n",
       "0  file:///C:/Users/DELL/End2End_DS_Projects/JobT...   \n",
       "1  C:\\\\Users\\\\DELL\\\\End2End_DS_Projects\\\\JobTechG...   \n",
       "2  file:///C:/Users/DELL/End2End_DS_Projects/JobT...   \n",
       "\n",
       "                        start_time                         end_time  \\\n",
       "0 2024-08-16 16:23:49.729000+00:00 2024-08-16 16:24:08.561000+00:00   \n",
       "1 2024-08-16 16:01:31.870000+00:00 2024-08-16 16:01:39.188000+00:00   \n",
       "2 2024-08-16 15:59:37.324000+00:00 2024-08-16 15:59:38.149000+00:00   \n",
       "\n",
       "   metrics.precision_score  metrics.f1_score  metrics.recall_score  \\\n",
       "0                 90.08625         66.146250             53.440000   \n",
       "1                 94.04250         64.319375             50.067500   \n",
       "2                 62.21750         38.644375             29.916875   \n",
       "\n",
       "   metrics.accuracy_score                            tags.mlflow.source.name  \\\n",
       "0               92.742500  C:\\Users\\DELL\\anaconda3\\Lib\\site-packages\\ipyk...   \n",
       "1               92.616875  C:\\Users\\DELL\\anaconda3\\Lib\\site-packages\\ipyk...   \n",
       "2               88.940625  C:\\Users\\DELL\\anaconda3\\Lib\\site-packages\\ipyk...   \n",
       "\n",
       "                              tags.mlflow.runName tags.mlflow.source.type  \\\n",
       "0  Random Forest: with PCA + Hyperparamter tuning                   LOCAL   \n",
       "1                 Random Forest: with PCA - Basic                   LOCAL   \n",
       "2            Baseline model: Logistic Regression                    LOCAL   \n",
       "\n",
       "  tags.mlflow.user  \n",
       "0             DELL  \n",
       "1             DELL  \n",
       "2             DELL  "
      ]
     },
     "execution_count": 23,
     "metadata": {},
     "output_type": "execute_result"
    }
   ],
   "source": [
    "# Get all runs\n",
    "runs = mlflow.search_runs([experiment.experiment_id])\n",
    "runs"
   ]
  },
  {
   "cell_type": "code",
   "execution_count": null,
   "id": "dd54cf96",
   "metadata": {},
   "outputs": [],
   "source": []
  }
 ],
 "metadata": {
  "kernelspec": {
   "display_name": "Python 3 (ipykernel)",
   "language": "python",
   "name": "python3"
  },
  "language_info": {
   "codemirror_mode": {
    "name": "ipython",
    "version": 3
   },
   "file_extension": ".py",
   "mimetype": "text/x-python",
   "name": "python",
   "nbconvert_exporter": "python",
   "pygments_lexer": "ipython3",
   "version": "3.11.3"
  }
 },
 "nbformat": 4,
 "nbformat_minor": 5
}
