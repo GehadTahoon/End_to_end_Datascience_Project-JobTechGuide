{
 "cells": [
  {
   "cell_type": "code",
   "execution_count": 6,
   "id": "33229e0e",
   "metadata": {},
   "outputs": [],
   "source": [
    "# constants \n",
    "MLFLOW_TRACKING_URI = '../models/mlruns'\n",
    "MLFLOW_RUN_ID = \"623eb74c190d43db818db63cba2ac287\"\n",
    "\n",
    "LOG_DATA_PKL = \"data.pkl\"\n",
    "LOG_MODEL_PKL = \"model.pkl\"\n",
    "LOG_METRICS_PKL = \"metrics.pkl\"\n",
    "\n",
    "CLUSTERS_YAML_PATH = \"../data/processed/features_skills_clusters_description.yaml\""
   ]
  },
  {
   "cell_type": "code",
   "execution_count": 7,
   "id": "51982bd5",
   "metadata": {},
   "outputs": [],
   "source": [
    "# load packages\n",
    "import os \n",
    "import sklearn\n",
    "import pickle\n",
    "import yaml\n",
    "\n",
    "import pandas as pd\n",
    "\n",
    "import mlflow\n",
    "from mlflow.tracking import MlflowClient"
   ]
  },
  {
   "cell_type": "markdown",
   "id": "8b023860",
   "metadata": {},
   "source": [
    "## _Initialize_"
   ]
  },
  {
   "cell_type": "markdown",
   "id": "5360e9ea",
   "metadata": {},
   "source": [
    "### _1. Mlflow_"
   ]
  },
  {
   "cell_type": "code",
   "execution_count": 8,
   "id": "5c03701c",
   "metadata": {},
   "outputs": [],
   "source": [
    "# Initialize client and experiment\n",
    "mlflow.set_tracking_uri(MLFLOW_TRACKING_URI)\n",
    "client = MlflowClient()\n",
    "\n",
    "run = mlflow.get_run(MLFLOW_RUN_ID)\n",
    "artificats_path = run.info.artifact_uri"
   ]
  },
  {
   "cell_type": "code",
   "execution_count": 12,
   "id": "58da2751",
   "metadata": {},
   "outputs": [
    {
     "data": {
      "text/plain": [
       "'file:///C:/Users/DELL/End2End_DS_Projects/JobTechGuide/notebooks/../models/mlruns/391059065298274482/623eb74c190d43db818db63cba2ac287/artifacts'"
      ]
     },
     "execution_count": 12,
     "metadata": {},
     "output_type": "execute_result"
    }
   ],
   "source": [
    "artificats_path"
   ]
  },
  {
   "cell_type": "markdown",
   "id": "96689532",
   "metadata": {},
   "source": [
    "### _Load model_"
   ]
  },
  {
   "cell_type": "code",
   "execution_count": 15,
   "id": "0aa9f850",
   "metadata": {},
   "outputs": [
    {
     "data": {
      "text/plain": [
       "{'model_description': 'Random Forest: with PCA - Basic',\n",
       " 'model_details': \"Pipeline(steps=[('robustscaler', RobustScaler()),\\n                ('pca', PCA(n_components=0.95)),\\n                ('randomforestclassifier',\\n                 RandomForestClassifier(n_jobs=8, random_state=0, verbose=1))])\",\n",
       " 'model_object': Pipeline(steps=[('robustscaler', RobustScaler()),\n",
       "                 ('pca', PCA(n_components=0.95)),\n",
       "                 ('randomforestclassifier',\n",
       "                  RandomForestClassifier(n_jobs=8, random_state=0, verbose=1))])}"
      ]
     },
     "execution_count": 15,
     "metadata": {},
     "output_type": "execute_result"
    }
   ],
   "source": [
    "# Fix path by stripping 'file:///' and using os.path.join\n",
    "artificats_path = artificats_path.replace('file:///', '').replace('/', '\\\\')\n",
    "model_path = os.path.join(artificats_path, LOG_MODEL_PKL)\n",
    "\n",
    "# Load model\n",
    "with open(model_path, \"rb\") as f:\n",
    "    model = pickle.load(f)\n",
    "\n",
    "model"
   ]
  },
  {
   "cell_type": "code",
   "execution_count": 16,
   "id": "5f397483",
   "metadata": {},
   "outputs": [
    {
     "data": {
      "text/plain": [
       "dict_keys(['data_path', 'training_indices', 'test_indices', 'features_names', 'targets_names'])"
      ]
     },
     "execution_count": 16,
     "metadata": {},
     "output_type": "execute_result"
    }
   ],
   "source": [
    "# Load data pkl\n",
    "data_path  = os.path.join(artificats_path, LOG_DATA_PKL)\n",
    "with open(data_path, 'rb') as handle:\n",
    "    data = pickle.load(handle)\n",
    "\n",
    "data.keys()"
   ]
  },
  {
   "cell_type": "code",
   "execution_count": 17,
   "id": "becc54fe",
   "metadata": {},
   "outputs": [],
   "source": [
    "# Unpack vars\n",
    "features_names = pd.Series(data[\"features_names\"])\n",
    "targets_names  = pd.Series(data['targets_names'])\n",
    "classifier = model['model_object']"
   ]
  },
  {
   "cell_type": "code",
   "execution_count": 18,
   "id": "9dc1a229",
   "metadata": {},
   "outputs": [
    {
     "data": {
      "text/html": [
       "<style>#sk-container-id-1 {color: black;background-color: white;}#sk-container-id-1 pre{padding: 0;}#sk-container-id-1 div.sk-toggleable {background-color: white;}#sk-container-id-1 label.sk-toggleable__label {cursor: pointer;display: block;width: 100%;margin-bottom: 0;padding: 0.3em;box-sizing: border-box;text-align: center;}#sk-container-id-1 label.sk-toggleable__label-arrow:before {content: \"▸\";float: left;margin-right: 0.25em;color: #696969;}#sk-container-id-1 label.sk-toggleable__label-arrow:hover:before {color: black;}#sk-container-id-1 div.sk-estimator:hover label.sk-toggleable__label-arrow:before {color: black;}#sk-container-id-1 div.sk-toggleable__content {max-height: 0;max-width: 0;overflow: hidden;text-align: left;background-color: #f0f8ff;}#sk-container-id-1 div.sk-toggleable__content pre {margin: 0.2em;color: black;border-radius: 0.25em;background-color: #f0f8ff;}#sk-container-id-1 input.sk-toggleable__control:checked~div.sk-toggleable__content {max-height: 200px;max-width: 100%;overflow: auto;}#sk-container-id-1 input.sk-toggleable__control:checked~label.sk-toggleable__label-arrow:before {content: \"▾\";}#sk-container-id-1 div.sk-estimator input.sk-toggleable__control:checked~label.sk-toggleable__label {background-color: #d4ebff;}#sk-container-id-1 div.sk-label input.sk-toggleable__control:checked~label.sk-toggleable__label {background-color: #d4ebff;}#sk-container-id-1 input.sk-hidden--visually {border: 0;clip: rect(1px 1px 1px 1px);clip: rect(1px, 1px, 1px, 1px);height: 1px;margin: -1px;overflow: hidden;padding: 0;position: absolute;width: 1px;}#sk-container-id-1 div.sk-estimator {font-family: monospace;background-color: #f0f8ff;border: 1px dotted black;border-radius: 0.25em;box-sizing: border-box;margin-bottom: 0.5em;}#sk-container-id-1 div.sk-estimator:hover {background-color: #d4ebff;}#sk-container-id-1 div.sk-parallel-item::after {content: \"\";width: 100%;border-bottom: 1px solid gray;flex-grow: 1;}#sk-container-id-1 div.sk-label:hover label.sk-toggleable__label {background-color: #d4ebff;}#sk-container-id-1 div.sk-serial::before {content: \"\";position: absolute;border-left: 1px solid gray;box-sizing: border-box;top: 0;bottom: 0;left: 50%;z-index: 0;}#sk-container-id-1 div.sk-serial {display: flex;flex-direction: column;align-items: center;background-color: white;padding-right: 0.2em;padding-left: 0.2em;position: relative;}#sk-container-id-1 div.sk-item {position: relative;z-index: 1;}#sk-container-id-1 div.sk-parallel {display: flex;align-items: stretch;justify-content: center;background-color: white;position: relative;}#sk-container-id-1 div.sk-item::before, #sk-container-id-1 div.sk-parallel-item::before {content: \"\";position: absolute;border-left: 1px solid gray;box-sizing: border-box;top: 0;bottom: 0;left: 50%;z-index: -1;}#sk-container-id-1 div.sk-parallel-item {display: flex;flex-direction: column;z-index: 1;position: relative;background-color: white;}#sk-container-id-1 div.sk-parallel-item:first-child::after {align-self: flex-end;width: 50%;}#sk-container-id-1 div.sk-parallel-item:last-child::after {align-self: flex-start;width: 50%;}#sk-container-id-1 div.sk-parallel-item:only-child::after {width: 0;}#sk-container-id-1 div.sk-dashed-wrapped {border: 1px dashed gray;margin: 0 0.4em 0.5em 0.4em;box-sizing: border-box;padding-bottom: 0.4em;background-color: white;}#sk-container-id-1 div.sk-label label {font-family: monospace;font-weight: bold;display: inline-block;line-height: 1.2em;}#sk-container-id-1 div.sk-label-container {text-align: center;}#sk-container-id-1 div.sk-container {/* jupyter's `normalize.less` sets `[hidden] { display: none; }` but bootstrap.min.css set `[hidden] { display: none !important; }` so we also need the `!important` here to be able to override the default hidden behavior on the sphinx rendered scikit-learn.org. See: https://github.com/scikit-learn/scikit-learn/issues/21755 */display: inline-block !important;position: relative;}#sk-container-id-1 div.sk-text-repr-fallback {display: none;}</style><div id=\"sk-container-id-1\" class=\"sk-top-container\"><div class=\"sk-text-repr-fallback\"><pre>Pipeline(steps=[(&#x27;robustscaler&#x27;, RobustScaler()),\n",
       "                (&#x27;pca&#x27;, PCA(n_components=0.95)),\n",
       "                (&#x27;randomforestclassifier&#x27;,\n",
       "                 RandomForestClassifier(n_jobs=8, random_state=0, verbose=1))])</pre><b>In a Jupyter environment, please rerun this cell to show the HTML representation or trust the notebook. <br />On GitHub, the HTML representation is unable to render, please try loading this page with nbviewer.org.</b></div><div class=\"sk-container\" hidden><div class=\"sk-item sk-dashed-wrapped\"><div class=\"sk-label-container\"><div class=\"sk-label sk-toggleable\"><input class=\"sk-toggleable__control sk-hidden--visually\" id=\"sk-estimator-id-1\" type=\"checkbox\" ><label for=\"sk-estimator-id-1\" class=\"sk-toggleable__label sk-toggleable__label-arrow\">Pipeline</label><div class=\"sk-toggleable__content\"><pre>Pipeline(steps=[(&#x27;robustscaler&#x27;, RobustScaler()),\n",
       "                (&#x27;pca&#x27;, PCA(n_components=0.95)),\n",
       "                (&#x27;randomforestclassifier&#x27;,\n",
       "                 RandomForestClassifier(n_jobs=8, random_state=0, verbose=1))])</pre></div></div></div><div class=\"sk-serial\"><div class=\"sk-item\"><div class=\"sk-estimator sk-toggleable\"><input class=\"sk-toggleable__control sk-hidden--visually\" id=\"sk-estimator-id-2\" type=\"checkbox\" ><label for=\"sk-estimator-id-2\" class=\"sk-toggleable__label sk-toggleable__label-arrow\">RobustScaler</label><div class=\"sk-toggleable__content\"><pre>RobustScaler()</pre></div></div></div><div class=\"sk-item\"><div class=\"sk-estimator sk-toggleable\"><input class=\"sk-toggleable__control sk-hidden--visually\" id=\"sk-estimator-id-3\" type=\"checkbox\" ><label for=\"sk-estimator-id-3\" class=\"sk-toggleable__label sk-toggleable__label-arrow\">PCA</label><div class=\"sk-toggleable__content\"><pre>PCA(n_components=0.95)</pre></div></div></div><div class=\"sk-item\"><div class=\"sk-estimator sk-toggleable\"><input class=\"sk-toggleable__control sk-hidden--visually\" id=\"sk-estimator-id-4\" type=\"checkbox\" ><label for=\"sk-estimator-id-4\" class=\"sk-toggleable__label sk-toggleable__label-arrow\">RandomForestClassifier</label><div class=\"sk-toggleable__content\"><pre>RandomForestClassifier(n_jobs=8, random_state=0, verbose=1)</pre></div></div></div></div></div></div></div>"
      ],
      "text/plain": [
       "Pipeline(steps=[('robustscaler', RobustScaler()),\n",
       "                ('pca', PCA(n_components=0.95)),\n",
       "                ('randomforestclassifier',\n",
       "                 RandomForestClassifier(n_jobs=8, random_state=0, verbose=1))])"
      ]
     },
     "execution_count": 18,
     "metadata": {},
     "output_type": "execute_result"
    }
   ],
   "source": [
    "classifier"
   ]
  },
  {
   "cell_type": "markdown",
   "id": "33d2c576",
   "metadata": {},
   "source": [
    "### _Load skills Clusters_\n"
   ]
  },
  {
   "cell_type": "code",
   "execution_count": 19,
   "id": "62cdfe75",
   "metadata": {
    "scrolled": true
   },
   "outputs": [
    {
     "data": {
      "text/plain": [
       "{'skills_group_0': ['Groovy',\n",
       "  'Java',\n",
       "  'Oracle',\n",
       "  'Oracle Cloud Infrastructure',\n",
       "  'Spring',\n",
       "  'Atom',\n",
       "  'Eclipse',\n",
       "  'IntelliJ',\n",
       "  'NetBeans',\n",
       "  'Sublime Text'],\n",
       " 'skills_group_1': ['C#',\n",
       "  'F#',\n",
       "  'PowerShell',\n",
       "  'SQL',\n",
       "  'VBA',\n",
       "  'Microsoft SQL Server',\n",
       "  'Microsoft Azure',\n",
       "  'ASP.NET',\n",
       "  'ASP.NET Core ',\n",
       "  '.NET Core / .NET 5',\n",
       "  '.NET Framework',\n",
       "  'Xamarin',\n",
       "  'Notepad++',\n",
       "  'Rider',\n",
       "  'Visual Studio'],\n",
       " 'skills_group_10': ['Cassandra',\n",
       "  'Couchbase',\n",
       "  'Elasticsearch',\n",
       "  'Redis',\n",
       "  'DigitalOcean'],\n",
       " 'skills_group_11': ['Ruby', 'Ruby on Rails', 'RubyMine', 'TextMate'],\n",
       " 'skills_group_12': ['Assembly', 'C', 'C++', 'Qt'],\n",
       " 'skills_group_13': ['Unity 3D', 'Unreal Engine'],\n",
       " 'skills_group_14': ['APL',\n",
       "  'COBOL',\n",
       "  'Crystal',\n",
       "  'Delphi',\n",
       "  'IBM DB2',\n",
       "  'IBM Cloud or Watson'],\n",
       " 'skills_group_15': ['Svelte', 'Deno'],\n",
       " 'skills_group_16': ['TypeScript', 'Angular', 'Angular.js', 'Cordova'],\n",
       " 'skills_group_17': ['Objective-C', 'Swift', 'Xcode'],\n",
       " 'skills_group_18': ['Bash/Shell', 'Perl', 'Vim'],\n",
       " 'skills_group_19': ['Scala', 'Apache Spark', 'Hadoop'],\n",
       " 'skills_group_2': ['Matlab',\n",
       "  'Python',\n",
       "  'Django',\n",
       "  'FastAPI',\n",
       "  'Flask',\n",
       "  'NumPy',\n",
       "  'Pandas',\n",
       "  'IPython/Jupyter',\n",
       "  'PyCharm'],\n",
       " 'skills_group_20': ['HTML/CSS', 'JavaScript', 'jQuery', 'Visual Studio Code'],\n",
       " 'skills_group_21': ['Elixir', 'Erlang'],\n",
       " 'skills_group_22': ['Keras', 'TensorFlow', 'Torch/PyTorch'],\n",
       " 'skills_group_3': ['Clojure', 'Haskell', 'LISP', 'Rust', 'Emacs', 'Neovim'],\n",
       " 'skills_group_4': ['Ansible',\n",
       "  'Chef',\n",
       "  'Flow',\n",
       "  'Pulumi',\n",
       "  'Puppet',\n",
       "  'Terraform'],\n",
       " 'skills_group_5': ['Go',\n",
       "  'DynamoDB',\n",
       "  'PostgreSQL',\n",
       "  'AWS',\n",
       "  'Docker',\n",
       "  'Git',\n",
       "  'Kubernetes'],\n",
       " 'skills_group_6': ['Node.js',\n",
       "  'MongoDB',\n",
       "  'Heroku',\n",
       "  'Express',\n",
       "  'Gatsby',\n",
       "  'React.js',\n",
       "  'React Native',\n",
       "  'Yarn'],\n",
       " 'skills_group_7': ['PHP',\n",
       "  'MariaDB',\n",
       "  'MySQL',\n",
       "  'Drupal',\n",
       "  'Laravel',\n",
       "  'Symfony',\n",
       "  'Vue.js',\n",
       "  'PHPStorm',\n",
       "  'Webstorm'],\n",
       " 'skills_group_8': ['Julia', 'R', 'RStudio'],\n",
       " 'skills_group_9': ['Dart',\n",
       "  'Kotlin',\n",
       "  'Firebase',\n",
       "  'SQLite',\n",
       "  'Google Cloud Platform',\n",
       "  'Flutter',\n",
       "  'Android Studio']}"
      ]
     },
     "execution_count": 19,
     "metadata": {},
     "output_type": "execute_result"
    }
   ],
   "source": [
    "# Load skills clusters\n",
    "with open(CLUSTERS_YAML_PATH, \"r\") as stream:\n",
    "    clusters_config = yaml.safe_load(stream)\n",
    "\n",
    "clusters_config"
   ]
  },
  {
   "cell_type": "code",
   "execution_count": 20,
   "id": "27a28215",
   "metadata": {},
   "outputs": [
    {
     "data": {
      "text/html": [
       "<div>\n",
       "<style scoped>\n",
       "    .dataframe tbody tr th:only-of-type {\n",
       "        vertical-align: middle;\n",
       "    }\n",
       "\n",
       "    .dataframe tbody tr th {\n",
       "        vertical-align: top;\n",
       "    }\n",
       "\n",
       "    .dataframe thead th {\n",
       "        text-align: right;\n",
       "    }\n",
       "</style>\n",
       "<table border=\"1\" class=\"dataframe\">\n",
       "  <thead>\n",
       "    <tr style=\"text-align: right;\">\n",
       "      <th></th>\n",
       "      <th>cluster_name</th>\n",
       "      <th>skill</th>\n",
       "    </tr>\n",
       "  </thead>\n",
       "  <tbody>\n",
       "    <tr>\n",
       "      <th>0</th>\n",
       "      <td>skills_group_0</td>\n",
       "      <td>Groovy</td>\n",
       "    </tr>\n",
       "    <tr>\n",
       "      <th>1</th>\n",
       "      <td>skills_group_0</td>\n",
       "      <td>Java</td>\n",
       "    </tr>\n",
       "    <tr>\n",
       "      <th>2</th>\n",
       "      <td>skills_group_0</td>\n",
       "      <td>Oracle</td>\n",
       "    </tr>\n",
       "    <tr>\n",
       "      <th>3</th>\n",
       "      <td>skills_group_0</td>\n",
       "      <td>Oracle Cloud Infrastructure</td>\n",
       "    </tr>\n",
       "    <tr>\n",
       "      <th>4</th>\n",
       "      <td>skills_group_0</td>\n",
       "      <td>Spring</td>\n",
       "    </tr>\n",
       "    <tr>\n",
       "      <th>...</th>\n",
       "      <td>...</td>\n",
       "      <td>...</td>\n",
       "    </tr>\n",
       "    <tr>\n",
       "      <th>120</th>\n",
       "      <td>skills_group_9</td>\n",
       "      <td>Firebase</td>\n",
       "    </tr>\n",
       "    <tr>\n",
       "      <th>121</th>\n",
       "      <td>skills_group_9</td>\n",
       "      <td>SQLite</td>\n",
       "    </tr>\n",
       "    <tr>\n",
       "      <th>122</th>\n",
       "      <td>skills_group_9</td>\n",
       "      <td>Google Cloud Platform</td>\n",
       "    </tr>\n",
       "    <tr>\n",
       "      <th>123</th>\n",
       "      <td>skills_group_9</td>\n",
       "      <td>Flutter</td>\n",
       "    </tr>\n",
       "    <tr>\n",
       "      <th>124</th>\n",
       "      <td>skills_group_9</td>\n",
       "      <td>Android Studio</td>\n",
       "    </tr>\n",
       "  </tbody>\n",
       "</table>\n",
       "<p>125 rows × 2 columns</p>\n",
       "</div>"
      ],
      "text/plain": [
       "       cluster_name                        skill\n",
       "0    skills_group_0                       Groovy\n",
       "1    skills_group_0                         Java\n",
       "2    skills_group_0                       Oracle\n",
       "3    skills_group_0  Oracle Cloud Infrastructure\n",
       "4    skills_group_0                       Spring\n",
       "..              ...                          ...\n",
       "120  skills_group_9                     Firebase\n",
       "121  skills_group_9                       SQLite\n",
       "122  skills_group_9        Google Cloud Platform\n",
       "123  skills_group_9                      Flutter\n",
       "124  skills_group_9               Android Studio\n",
       "\n",
       "[125 rows x 2 columns]"
      ]
     },
     "execution_count": 20,
     "metadata": {},
     "output_type": "execute_result"
    }
   ],
   "source": [
    "# Reformat into data frame\n",
    "molten_clusters = [(cluster_name, cluster_skill)\n",
    "                   for cluster_name, cluster_skills in clusters_config.items()\n",
    "                   for cluster_skill in cluster_skills]\n",
    "\n",
    "clusters_df = pd.DataFrame(molten_clusters, columns=[\"cluster_name\", \"skill\"])\n",
    "clusters_df"
   ]
  },
  {
   "cell_type": "code",
   "execution_count": null,
   "id": "a6558369",
   "metadata": {},
   "outputs": [],
   "source": []
  },
  {
   "cell_type": "code",
   "execution_count": null,
   "id": "36afa718",
   "metadata": {},
   "outputs": [],
   "source": []
  }
 ],
 "metadata": {
  "kernelspec": {
   "display_name": "Python 3 (ipykernel)",
   "language": "python",
   "name": "python3"
  },
  "language_info": {
   "codemirror_mode": {
    "name": "ipython",
    "version": 3
   },
   "file_extension": ".py",
   "mimetype": "text/x-python",
   "name": "python",
   "nbconvert_exporter": "python",
   "pygments_lexer": "ipython3",
   "version": "3.11.3"
  }
 },
 "nbformat": 4,
 "nbformat_minor": 5
}
