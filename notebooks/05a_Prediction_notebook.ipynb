{
 "cells": [
  {
   "cell_type": "code",
   "execution_count": null,
   "id": "40acbba1",
   "metadata": {},
   "outputs": [],
   "source": [
    "# constants \n",
    "MLFLOW_TRACKING_URI = '../models/mlruns'\n",
    "MLFLOW_RUN_ID = \"25e4d72ca50c40b7bf2ac2ad0e5c34a1\"\n",
    "\n",
    "LOG_DATA_PKL = \"data.pkl\"\n",
    "LOG_MODEL_PKL = \"model.pkl\"\n",
    "LOG_METRICS_PKL = \"metrics.pkl\"\n",
    "\n",
    "CLUSTERS_YAML_PATH = \"../data/processed/features_skills_clusters_description.yaml\""
   ]
  },
  {
   "cell_type": "code",
   "execution_count": null,
   "id": "3f507853",
   "metadata": {},
   "outputs": [],
   "source": [
    "# load packages\n",
    "import os \n",
    "import sklearn\n",
    "import pickle\n",
    "import yaml\n",
    "\n",
    "import pandas as pd\n",
    "\n",
    "import mlflow\n",
    "from mlflow.tracking import MlflowClient"
   ]
  },
  {
   "cell_type": "markdown",
   "id": "01e6a6d4",
   "metadata": {},
   "source": [
    "## _Initialize_"
   ]
  },
  {
   "cell_type": "markdown",
   "id": "396b2a65",
   "metadata": {},
   "source": [
    "### _1. Mlflow_"
   ]
  },
  {
   "cell_type": "code",
   "execution_count": null,
   "id": "162aa1e9",
   "metadata": {},
   "outputs": [],
   "source": [
    "# Initialize client and experiment\n",
    "mlflow.set_tracking_uri(MLFLOW_TRACKING_URI)\n",
    "client = MlflowClient()\n",
    "\n",
    "run = mlflow.get_run(MLFLOW_RUN_ID)\n",
    "artificats_path = run.info.artifact_uri"
   ]
  },
  {
   "cell_type": "markdown",
   "id": "c08723b0",
   "metadata": {},
   "source": [
    "### _Load model_"
   ]
  },
  {
   "cell_type": "code",
   "execution_count": null,
   "id": "25d35504",
   "metadata": {},
   "outputs": [],
   "source": [
    "# Load model\n",
    "model_path = os.path.join(artificats_path, LOG_MODEL_PKL)\n",
    "with open(model_path, \"rb\") as f:\n",
    "    model = pickle.load(f)\n",
    "\n",
    "model"
   ]
  },
  {
   "cell_type": "code",
   "execution_count": null,
   "id": "bef9e2de",
   "metadata": {},
   "outputs": [],
   "source": [
    "# Load data pkl\n",
    "data_path  = os.path.join(artificats_path, LOG_DATA_PKL)\n",
    "with open(data_path, 'rb') as handle:\n",
    "    data = pickle.load(handle)\n",
    "\n",
    "data.keys()"
   ]
  },
  {
   "cell_type": "code",
   "execution_count": null,
   "id": "4082cf6a",
   "metadata": {},
   "outputs": [],
   "source": [
    "# Unpack vars\n",
    "features_names = pd.Series(data[\"features_names\"])\n",
    "targets_names  = pd.Series(data['targets_names'])\n",
    "classifier = model['model_object']"
   ]
  },
  {
   "cell_type": "code",
   "execution_count": null,
   "id": "758db033",
   "metadata": {},
   "outputs": [],
   "source": [
    "classifier"
   ]
  },
  {
   "cell_type": "code",
   "execution_count": null,
   "id": "ce283b70",
   "metadata": {},
   "outputs": [],
   "source": []
  },
  {
   "cell_type": "code",
   "execution_count": null,
   "id": "044a64bc",
   "metadata": {},
   "outputs": [],
   "source": []
  },
  {
   "cell_type": "code",
   "execution_count": null,
   "id": "b75a1e24",
   "metadata": {},
   "outputs": [],
   "source": []
  }
 ],
 "metadata": {
  "kernelspec": {
   "display_name": "Python 3 (ipykernel)",
   "language": "python",
   "name": "python3"
  },
  "language_info": {
   "codemirror_mode": {
    "name": "ipython",
    "version": 3
   },
   "file_extension": ".py",
   "mimetype": "text/x-python",
   "name": "python",
   "nbconvert_exporter": "python",
   "pygments_lexer": "ipython3",
   "version": "3.11.3"
  }
 },
 "nbformat": 4,
 "nbformat_minor": 5
}
